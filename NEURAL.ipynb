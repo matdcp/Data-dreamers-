{
  "nbformat": 4,
  "nbformat_minor": 0,
  "metadata": {
    "colab": {
      "provenance": [],
      "authorship_tag": "ABX9TyNr2sRbWW3cTQdCYb7Nyy7J",
      "include_colab_link": true
    },
    "kernelspec": {
      "name": "python3",
      "display_name": "Python 3"
    },
    "language_info": {
      "name": "python"
    }
  },
  "cells": [
    {
      "cell_type": "markdown",
      "metadata": {
        "id": "view-in-github",
        "colab_type": "text"
      },
      "source": [
        "<a href=\"https://colab.research.google.com/github/matdcp/Data-dreamers-/blob/main/NEURAL.ipynb\" target=\"_parent\"><img src=\"https://colab.research.google.com/assets/colab-badge.svg\" alt=\"Open In Colab\"/></a>"
      ]
    },
    {
      "cell_type": "markdown",
      "source": [
        "#Upload data\n"
      ],
      "metadata": {
        "id": "WEDEQMAfXetY"
      }
    },
    {
      "cell_type": "code",
      "execution_count": 1,
      "metadata": {
        "colab": {
          "base_uri": "https://localhost:8080/",
          "height": 109
        },
        "id": "sWArbaD1XcKn",
        "outputId": "6cda5ff4-f56b-4997-8c69-7bf75c16deea"
      },
      "outputs": [
        {
          "output_type": "display_data",
          "data": {
            "text/plain": [
              "<IPython.core.display.HTML object>"
            ],
            "text/html": [
              "\n",
              "     <input type=\"file\" id=\"files-96833ada-5906-4644-aeb5-60732eb65306\" name=\"files[]\" multiple disabled\n",
              "        style=\"border:none\" />\n",
              "     <output id=\"result-96833ada-5906-4644-aeb5-60732eb65306\">\n",
              "      Upload widget is only available when the cell has been executed in the\n",
              "      current browser session. Please rerun this cell to enable.\n",
              "      </output>\n",
              "      <script>// Copyright 2017 Google LLC\n",
              "//\n",
              "// Licensed under the Apache License, Version 2.0 (the \"License\");\n",
              "// you may not use this file except in compliance with the License.\n",
              "// You may obtain a copy of the License at\n",
              "//\n",
              "//      http://www.apache.org/licenses/LICENSE-2.0\n",
              "//\n",
              "// Unless required by applicable law or agreed to in writing, software\n",
              "// distributed under the License is distributed on an \"AS IS\" BASIS,\n",
              "// WITHOUT WARRANTIES OR CONDITIONS OF ANY KIND, either express or implied.\n",
              "// See the License for the specific language governing permissions and\n",
              "// limitations under the License.\n",
              "\n",
              "/**\n",
              " * @fileoverview Helpers for google.colab Python module.\n",
              " */\n",
              "(function(scope) {\n",
              "function span(text, styleAttributes = {}) {\n",
              "  const element = document.createElement('span');\n",
              "  element.textContent = text;\n",
              "  for (const key of Object.keys(styleAttributes)) {\n",
              "    element.style[key] = styleAttributes[key];\n",
              "  }\n",
              "  return element;\n",
              "}\n",
              "\n",
              "// Max number of bytes which will be uploaded at a time.\n",
              "const MAX_PAYLOAD_SIZE = 100 * 1024;\n",
              "\n",
              "function _uploadFiles(inputId, outputId) {\n",
              "  const steps = uploadFilesStep(inputId, outputId);\n",
              "  const outputElement = document.getElementById(outputId);\n",
              "  // Cache steps on the outputElement to make it available for the next call\n",
              "  // to uploadFilesContinue from Python.\n",
              "  outputElement.steps = steps;\n",
              "\n",
              "  return _uploadFilesContinue(outputId);\n",
              "}\n",
              "\n",
              "// This is roughly an async generator (not supported in the browser yet),\n",
              "// where there are multiple asynchronous steps and the Python side is going\n",
              "// to poll for completion of each step.\n",
              "// This uses a Promise to block the python side on completion of each step,\n",
              "// then passes the result of the previous step as the input to the next step.\n",
              "function _uploadFilesContinue(outputId) {\n",
              "  const outputElement = document.getElementById(outputId);\n",
              "  const steps = outputElement.steps;\n",
              "\n",
              "  const next = steps.next(outputElement.lastPromiseValue);\n",
              "  return Promise.resolve(next.value.promise).then((value) => {\n",
              "    // Cache the last promise value to make it available to the next\n",
              "    // step of the generator.\n",
              "    outputElement.lastPromiseValue = value;\n",
              "    return next.value.response;\n",
              "  });\n",
              "}\n",
              "\n",
              "/**\n",
              " * Generator function which is called between each async step of the upload\n",
              " * process.\n",
              " * @param {string} inputId Element ID of the input file picker element.\n",
              " * @param {string} outputId Element ID of the output display.\n",
              " * @return {!Iterable<!Object>} Iterable of next steps.\n",
              " */\n",
              "function* uploadFilesStep(inputId, outputId) {\n",
              "  const inputElement = document.getElementById(inputId);\n",
              "  inputElement.disabled = false;\n",
              "\n",
              "  const outputElement = document.getElementById(outputId);\n",
              "  outputElement.innerHTML = '';\n",
              "\n",
              "  const pickedPromise = new Promise((resolve) => {\n",
              "    inputElement.addEventListener('change', (e) => {\n",
              "      resolve(e.target.files);\n",
              "    });\n",
              "  });\n",
              "\n",
              "  const cancel = document.createElement('button');\n",
              "  inputElement.parentElement.appendChild(cancel);\n",
              "  cancel.textContent = 'Cancel upload';\n",
              "  const cancelPromise = new Promise((resolve) => {\n",
              "    cancel.onclick = () => {\n",
              "      resolve(null);\n",
              "    };\n",
              "  });\n",
              "\n",
              "  // Wait for the user to pick the files.\n",
              "  const files = yield {\n",
              "    promise: Promise.race([pickedPromise, cancelPromise]),\n",
              "    response: {\n",
              "      action: 'starting',\n",
              "    }\n",
              "  };\n",
              "\n",
              "  cancel.remove();\n",
              "\n",
              "  // Disable the input element since further picks are not allowed.\n",
              "  inputElement.disabled = true;\n",
              "\n",
              "  if (!files) {\n",
              "    return {\n",
              "      response: {\n",
              "        action: 'complete',\n",
              "      }\n",
              "    };\n",
              "  }\n",
              "\n",
              "  for (const file of files) {\n",
              "    const li = document.createElement('li');\n",
              "    li.append(span(file.name, {fontWeight: 'bold'}));\n",
              "    li.append(span(\n",
              "        `(${file.type || 'n/a'}) - ${file.size} bytes, ` +\n",
              "        `last modified: ${\n",
              "            file.lastModifiedDate ? file.lastModifiedDate.toLocaleDateString() :\n",
              "                                    'n/a'} - `));\n",
              "    const percent = span('0% done');\n",
              "    li.appendChild(percent);\n",
              "\n",
              "    outputElement.appendChild(li);\n",
              "\n",
              "    const fileDataPromise = new Promise((resolve) => {\n",
              "      const reader = new FileReader();\n",
              "      reader.onload = (e) => {\n",
              "        resolve(e.target.result);\n",
              "      };\n",
              "      reader.readAsArrayBuffer(file);\n",
              "    });\n",
              "    // Wait for the data to be ready.\n",
              "    let fileData = yield {\n",
              "      promise: fileDataPromise,\n",
              "      response: {\n",
              "        action: 'continue',\n",
              "      }\n",
              "    };\n",
              "\n",
              "    // Use a chunked sending to avoid message size limits. See b/62115660.\n",
              "    let position = 0;\n",
              "    do {\n",
              "      const length = Math.min(fileData.byteLength - position, MAX_PAYLOAD_SIZE);\n",
              "      const chunk = new Uint8Array(fileData, position, length);\n",
              "      position += length;\n",
              "\n",
              "      const base64 = btoa(String.fromCharCode.apply(null, chunk));\n",
              "      yield {\n",
              "        response: {\n",
              "          action: 'append',\n",
              "          file: file.name,\n",
              "          data: base64,\n",
              "        },\n",
              "      };\n",
              "\n",
              "      let percentDone = fileData.byteLength === 0 ?\n",
              "          100 :\n",
              "          Math.round((position / fileData.byteLength) * 100);\n",
              "      percent.textContent = `${percentDone}% done`;\n",
              "\n",
              "    } while (position < fileData.byteLength);\n",
              "  }\n",
              "\n",
              "  // All done.\n",
              "  yield {\n",
              "    response: {\n",
              "      action: 'complete',\n",
              "    }\n",
              "  };\n",
              "}\n",
              "\n",
              "scope.google = scope.google || {};\n",
              "scope.google.colab = scope.google.colab || {};\n",
              "scope.google.colab._files = {\n",
              "  _uploadFiles,\n",
              "  _uploadFilesContinue,\n",
              "};\n",
              "})(self);\n",
              "</script> "
            ]
          },
          "metadata": {}
        },
        {
          "output_type": "stream",
          "name": "stdout",
          "text": [
            "Saving file1.ann to file1.ann\n",
            "Saving file2.ann to file2.ann\n"
          ]
        }
      ],
      "source": [
        "from google.colab import files\n",
        "uploaded = files.upload()"
      ]
    },
    {
      "cell_type": "code",
      "source": [
        "import csv\n",
        "import pandas as pd\n",
        "\n",
        "# Funzione per convertire un file .ann in .csv\n",
        "def convert_ann_to_csv(input_file, output_file):\n",
        "    data = []\n",
        "    with open(input_file, 'r', encoding='utf-8') as f:\n",
        "        for line in f:\n",
        "            line = line.strip()  # Rimuovi spazi vuoti\n",
        "            if line and '\\t' in line:  # Controlla che non sia vuota e contenga tabulazioni\n",
        "                parts = line.split('\\t')\n",
        "                if len(parts) == 4:  # Controlla che ci siano esattamente 4 colonne\n",
        "                    id, start, end, label = parts\n",
        "                    # Filtra token non alfanumerici o righe non valide\n",
        "                    if id.isalnum() or len(id) > 1:  # Mantieni token validi\n",
        "                        try:\n",
        "                            # Prova a convertire start e end in interi\n",
        "                            data.append([id, int(start), int(end), label])\n",
        "                        except ValueError:\n",
        "                            continue\n",
        "\n",
        "    # Scrivi il file CSV\n",
        "    with open(output_file, 'w', encoding='utf-8', newline='') as f:\n",
        "        writer = csv.writer(f)\n",
        "        writer.writerow(['id', 'Start', 'End', 'Label'])  # Intestazioni\n",
        "        writer.writerows(data)\n",
        "\n",
        "# Percorsi dei file .ann\n",
        "file1_ann_path = 'file1.ann'  # Sostituisci con il percorso reale\n",
        "file2_ann_path = 'file2.ann'  # Sostituisci con il percorso reale\n",
        "\n",
        "# Percorsi dei file CSV temporanei\n",
        "file1_csv_path = 'file1_converted.csv'\n",
        "file2_csv_path = 'file2_converted.csv'\n",
        "\n",
        "# Conversione dei file .ann in .csv\n",
        "convert_ann_to_csv(file1_ann_path, file1_csv_path)\n",
        "convert_ann_to_csv(file2_ann_path, file2_csv_path)\n",
        "\n",
        "# Caricamento dei file CSV convertiti in DataFrame\n",
        "df1 = pd.read_csv(file1_csv_path)\n",
        "df2 = pd.read_csv(file2_csv_path)\n",
        "\n",
        "# Unione dei DataFrame\n",
        "ds = pd.concat([df1, df2], ignore_index=True)\n",
        "\n",
        "# Salvataggio del dataset unito come CSV\n",
        "merged_dataset_path = 'merged_dataset.csv'\n",
        "ds.to_csv(merged_dataset_path, index=False)\n",
        "\n",
        "# Visualizzazione del risultato\n",
        "print(f\"Dataset unito salvato come '{merged_dataset_path}'\")\n",
        "print(ds.head())\n",
        "\n"
      ],
      "metadata": {
        "colab": {
          "base_uri": "https://localhost:8080/"
        },
        "id": "9t-EamsXXolu",
        "outputId": "aacb507e-5a69-43ec-eb49-1da7def9ae4b"
      },
      "execution_count": 2,
      "outputs": [
        {
          "output_type": "stream",
          "name": "stdout",
          "text": [
            "Dataset unito salvato come 'merged_dataset.csv'\n",
            "             id  Start  End                     Label\n",
            "0   Ventricular      0   11  B-Multi-tissue_structure\n",
            "1  fibrillation     12   24                         O\n",
            "2           due     25   28                         O\n",
            "3            to     29   31                         O\n",
            "4          long     32   36                         O\n"
          ]
        }
      ]
    },
    {
      "cell_type": "code",
      "source": [
        "# Caricamento del dataset\n",
        "ds = pd.read_csv('merged_dataset.csv')\n",
        "\n",
        "# Aggiungi una colonna per la lunghezza dei token (gestendo valori non stringa)\n",
        "ds['id'] = ds['id'].astype(str)  # Converti tutti i valori in stringa\n",
        "ds['token_length'] = ds['id'].apply(len)  # Calcola la lunghezza\n",
        "\n",
        "# Filtra i token troppo lunghi (es. > 45 caratteri) o non alfanumerici\n",
        "ds_cleaned = ds[(ds['token_length'] <= 45) & (ds['id'].str.isalnum())]\n",
        "\n",
        "# Reimposta l'indice del dataset pulito\n",
        "ds_cleaned.reset_index(drop=True, inplace=True)\n",
        "\n",
        "# Salva il dataset pulito come CSV\n",
        "ds_cleaned.to_csv('cleaned_dataset.csv', index=False)\n",
        "print(\"Dataset pulito salvato come 'cleaned_dataset.csv'\")\n",
        "print(ds_cleaned.head())"
      ],
      "metadata": {
        "colab": {
          "base_uri": "https://localhost:8080/"
        },
        "id": "L30m4B3kXwPW",
        "outputId": "cfcc8477-5894-4611-f7d3-8875ae6e1cdd"
      },
      "execution_count": 3,
      "outputs": [
        {
          "output_type": "stream",
          "name": "stdout",
          "text": [
            "Dataset pulito salvato come 'cleaned_dataset.csv'\n",
            "             id  Start  End                     Label  token_length\n",
            "0   Ventricular      0   11  B-Multi-tissue_structure            11\n",
            "1  fibrillation     12   24                         O            12\n",
            "2           due     25   28                         O             3\n",
            "3            to     29   31                         O             2\n",
            "4          long     32   36                         O             4\n"
          ]
        }
      ]
    },
    {
      "cell_type": "markdown",
      "source": [
        "#MODEL"
      ],
      "metadata": {
        "id": "szlVzdf9YezE"
      }
    },
    {
      "cell_type": "code",
      "source": [
        "import pandas as pd\n",
        "import numpy as np\n",
        "from sklearn.model_selection import train_test_split\n",
        "from sklearn.preprocessing import LabelEncoder\n",
        "import tensorflow as tf\n",
        "from tensorflow.keras.models import Sequential\n",
        "from tensorflow.keras.layers import Dense, Dropout\n"
      ],
      "metadata": {
        "id": "d4m_ERJgYgqe"
      },
      "execution_count": 4,
      "outputs": []
    },
    {
      "cell_type": "code",
      "source": [
        "# Carica il dataset pulito\n",
        "data = pd.read_csv('cleaned_dataset.csv')\n",
        "\n",
        "# Encoding delle etichette (y)\n",
        "label_encoder = LabelEncoder()\n",
        "data['Label'] = label_encoder.fit_transform(data['Label'])\n",
        "\n",
        "# Feature (X) e target (y)\n",
        "X = data[['token_length', 'Start', 'End']].values  # Modifica in base alle colonne rilevanti\n",
        "y = data['Label'].values\n",
        "\n",
        "# Dividi in train/test\n",
        "X_train, X_test, y_train, y_test = train_test_split(X, y, test_size=0.2, random_state=42)\n"
      ],
      "metadata": {
        "id": "W5WpOSlfYmSC"
      },
      "execution_count": 5,
      "outputs": []
    },
    {
      "cell_type": "code",
      "source": [
        "# Crea un modello di rete neurale feedforward\n",
        "model = Sequential([\n",
        "    Dense(128, activation='relu', input_shape=(X_train.shape[1],)),\n",
        "    Dropout(0.5),\n",
        "    Dense(64, activation='relu'),\n",
        "    Dropout(0.5),\n",
        "    Dense(len(np.unique(y)), activation='softmax')  # Numero di classi nell'output\n",
        "])\n",
        "\n",
        "# Compila il modello\n",
        "model.compile(optimizer='adam',\n",
        "              loss='sparse_categorical_crossentropy',\n",
        "              metrics=['accuracy'])\n",
        "\n",
        "# Addestra il modello\n",
        "history = model.fit(X_train, y_train, epochs=20, batch_size=32, validation_split=0.2)\n"
      ],
      "metadata": {
        "colab": {
          "base_uri": "https://localhost:8080/"
        },
        "id": "uKx3OCNvYrYf",
        "outputId": "abe4358c-c20c-4365-f22b-2330f023abb2"
      },
      "execution_count": 9,
      "outputs": [
        {
          "output_type": "stream",
          "name": "stdout",
          "text": [
            "Epoch 1/20\n",
            "\u001b[1m1926/1926\u001b[0m \u001b[32m━━━━━━━━━━━━━━━━━━━━\u001b[0m\u001b[37m\u001b[0m \u001b[1m4s\u001b[0m 2ms/step - accuracy: 0.8355 - loss: 43.5590 - val_accuracy: 0.9537 - val_loss: 0.7492\n",
            "Epoch 2/20\n",
            "\u001b[1m1926/1926\u001b[0m \u001b[32m━━━━━━━━━━━━━━━━━━━━\u001b[0m\u001b[37m\u001b[0m \u001b[1m4s\u001b[0m 1ms/step - accuracy: 0.9515 - loss: 0.6844 - val_accuracy: 0.9537 - val_loss: 0.3466\n",
            "Epoch 3/20\n",
            "\u001b[1m1926/1926\u001b[0m \u001b[32m━━━━━━━━━━━━━━━━━━━━\u001b[0m\u001b[37m\u001b[0m \u001b[1m3s\u001b[0m 1ms/step - accuracy: 0.9520 - loss: 0.3610 - val_accuracy: 0.9537 - val_loss: 0.3160\n",
            "Epoch 4/20\n",
            "\u001b[1m1926/1926\u001b[0m \u001b[32m━━━━━━━━━━━━━━━━━━━━\u001b[0m\u001b[37m\u001b[0m \u001b[1m3s\u001b[0m 1ms/step - accuracy: 0.9514 - loss: 0.3288 - val_accuracy: 0.9537 - val_loss: 0.3111\n",
            "Epoch 5/20\n",
            "\u001b[1m1926/1926\u001b[0m \u001b[32m━━━━━━━━━━━━━━━━━━━━\u001b[0m\u001b[37m\u001b[0m \u001b[1m3s\u001b[0m 1ms/step - accuracy: 0.9514 - loss: 0.3289 - val_accuracy: 0.9537 - val_loss: 0.3096\n",
            "Epoch 6/20\n",
            "\u001b[1m1926/1926\u001b[0m \u001b[32m━━━━━━━━━━━━━━━━━━━━\u001b[0m\u001b[37m\u001b[0m \u001b[1m2s\u001b[0m 1ms/step - accuracy: 0.9528 - loss: 0.3174 - val_accuracy: 0.9537 - val_loss: 0.3091\n",
            "Epoch 7/20\n",
            "\u001b[1m1926/1926\u001b[0m \u001b[32m━━━━━━━━━━━━━━━━━━━━\u001b[0m\u001b[37m\u001b[0m \u001b[1m2s\u001b[0m 1ms/step - accuracy: 0.9506 - loss: 0.3290 - val_accuracy: 0.9537 - val_loss: 0.3088\n",
            "Epoch 8/20\n",
            "\u001b[1m1926/1926\u001b[0m \u001b[32m━━━━━━━━━━━━━━━━━━━━\u001b[0m\u001b[37m\u001b[0m \u001b[1m3s\u001b[0m 1ms/step - accuracy: 0.9521 - loss: 0.3203 - val_accuracy: 0.9537 - val_loss: 0.3086\n",
            "Epoch 9/20\n",
            "\u001b[1m1926/1926\u001b[0m \u001b[32m━━━━━━━━━━━━━━━━━━━━\u001b[0m\u001b[37m\u001b[0m \u001b[1m3s\u001b[0m 2ms/step - accuracy: 0.9531 - loss: 0.3150 - val_accuracy: 0.9537 - val_loss: 0.3086\n",
            "Epoch 10/20\n",
            "\u001b[1m1926/1926\u001b[0m \u001b[32m━━━━━━━━━━━━━━━━━━━━\u001b[0m\u001b[37m\u001b[0m \u001b[1m2s\u001b[0m 1ms/step - accuracy: 0.9518 - loss: 0.3224 - val_accuracy: 0.9537 - val_loss: 0.3094\n",
            "Epoch 11/20\n",
            "\u001b[1m1926/1926\u001b[0m \u001b[32m━━━━━━━━━━━━━━━━━━━━\u001b[0m\u001b[37m\u001b[0m \u001b[1m2s\u001b[0m 1ms/step - accuracy: 0.9520 - loss: 0.3303 - val_accuracy: 0.9537 - val_loss: 0.3084\n",
            "Epoch 12/20\n",
            "\u001b[1m1926/1926\u001b[0m \u001b[32m━━━━━━━━━━━━━━━━━━━━\u001b[0m\u001b[37m\u001b[0m \u001b[1m3s\u001b[0m 1ms/step - accuracy: 0.9526 - loss: 0.3222 - val_accuracy: 0.9537 - val_loss: 0.3085\n",
            "Epoch 13/20\n",
            "\u001b[1m1926/1926\u001b[0m \u001b[32m━━━━━━━━━━━━━━━━━━━━\u001b[0m\u001b[37m\u001b[0m \u001b[1m3s\u001b[0m 2ms/step - accuracy: 0.9525 - loss: 0.3336 - val_accuracy: 0.9537 - val_loss: 0.3093\n",
            "Epoch 14/20\n",
            "\u001b[1m1926/1926\u001b[0m \u001b[32m━━━━━━━━━━━━━━━━━━━━\u001b[0m\u001b[37m\u001b[0m \u001b[1m4s\u001b[0m 1ms/step - accuracy: 0.9528 - loss: 0.3335 - val_accuracy: 0.9537 - val_loss: 0.3088\n",
            "Epoch 15/20\n",
            "\u001b[1m1926/1926\u001b[0m \u001b[32m━━━━━━━━━━━━━━━━━━━━\u001b[0m\u001b[37m\u001b[0m \u001b[1m3s\u001b[0m 1ms/step - accuracy: 0.9520 - loss: 0.3743 - val_accuracy: 0.9537 - val_loss: 0.3083\n",
            "Epoch 16/20\n",
            "\u001b[1m1926/1926\u001b[0m \u001b[32m━━━━━━━━━━━━━━━━━━━━\u001b[0m\u001b[37m\u001b[0m \u001b[1m2s\u001b[0m 1ms/step - accuracy: 0.9521 - loss: 0.3262 - val_accuracy: 0.9537 - val_loss: 0.3085\n",
            "Epoch 17/20\n",
            "\u001b[1m1926/1926\u001b[0m \u001b[32m━━━━━━━━━━━━━━━━━━━━\u001b[0m\u001b[37m\u001b[0m \u001b[1m4s\u001b[0m 2ms/step - accuracy: 0.9519 - loss: 0.3288 - val_accuracy: 0.9537 - val_loss: 0.3085\n",
            "Epoch 18/20\n",
            "\u001b[1m1926/1926\u001b[0m \u001b[32m━━━━━━━━━━━━━━━━━━━━\u001b[0m\u001b[37m\u001b[0m \u001b[1m2s\u001b[0m 1ms/step - accuracy: 0.9531 - loss: 0.3171 - val_accuracy: 0.9537 - val_loss: 0.3083\n",
            "Epoch 19/20\n",
            "\u001b[1m1926/1926\u001b[0m \u001b[32m━━━━━━━━━━━━━━━━━━━━\u001b[0m\u001b[37m\u001b[0m \u001b[1m3s\u001b[0m 1ms/step - accuracy: 0.9528 - loss: 0.3209 - val_accuracy: 0.9537 - val_loss: 0.3084\n",
            "Epoch 20/20\n",
            "\u001b[1m1926/1926\u001b[0m \u001b[32m━━━━━━━━━━━━━━━━━━━━\u001b[0m\u001b[37m\u001b[0m \u001b[1m3s\u001b[0m 1ms/step - accuracy: 0.9522 - loss: 0.3271 - val_accuracy: 0.9537 - val_loss: 0.3087\n"
          ]
        }
      ]
    },
    {
      "cell_type": "code",
      "source": [
        "# Valutazione sui dati di test\n",
        "test_loss, test_accuracy = model.evaluate(X_test, y_test)\n",
        "print(f\"Loss sul test: {test_loss}, Accuracy sul test: {test_accuracy}\")\n"
      ],
      "metadata": {
        "colab": {
          "base_uri": "https://localhost:8080/"
        },
        "id": "5cj1FAKhY9eL",
        "outputId": "0b853b86-a668-4d05-e056-367dc9bd2490"
      },
      "execution_count": 7,
      "outputs": [
        {
          "output_type": "stream",
          "name": "stdout",
          "text": [
            "\u001b[1m602/602\u001b[0m \u001b[32m━━━━━━━━━━━━━━━━━━━━\u001b[0m\u001b[37m\u001b[0m \u001b[1m1s\u001b[0m 1ms/step - accuracy: 0.9548 - loss: 0.3033\n",
            "Loss sul test: 0.3038638234138489, Accuracy sul test: 0.9548216462135315\n"
          ]
        }
      ]
    },
    {
      "cell_type": "code",
      "source": [
        "import matplotlib.pyplot as plt\n",
        "\n",
        "# Loss\n",
        "plt.plot(history.history['loss'], label='Training Loss')\n",
        "plt.plot(history.history['val_loss'], label='Validation Loss')\n",
        "plt.legend()\n",
        "plt.title('Loss')\n",
        "plt.show()\n",
        "\n",
        "# Accuracy\n",
        "plt.plot(history.history['accuracy'], label='Training Accuracy')\n",
        "plt.plot(history.history['val_accuracy'], label='Validation Accuracy')\n",
        "plt.legend()\n",
        "plt.title('Accuracy')\n",
        "plt.show()\n"
      ],
      "metadata": {
        "colab": {
          "base_uri": "https://localhost:8080/",
          "height": 887
        },
        "id": "ZLGO3v2QZBNl",
        "outputId": "a0b6e2ac-df25-4dd1-8599-ea84f3a68ca8"
      },
      "execution_count": 8,
      "outputs": [
        {
          "output_type": "display_data",
          "data": {
            "text/plain": [
              "<Figure size 640x480 with 1 Axes>"
            ],
            "image/png": "[encoded data removed]"
          },
          "metadata": {}
        },
        {
          "output_type": "display_data",
          "data": {
            "text/plain": [
              "<Figure size 640x480 with 1 Axes>"
            ],
            "image/png": "[encoded data removed]"
          },
          "metadata": {}
        }
      ]
    }
  ]
}