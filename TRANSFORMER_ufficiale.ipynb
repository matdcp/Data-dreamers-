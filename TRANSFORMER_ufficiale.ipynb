{
  "nbformat": 4,
  "nbformat_minor": 0,
  "metadata": {
    "colab": {
      "provenance": [],
      "gpuType": "A100",
      "machine_shape": "hm",
      "include_colab_link": true
    },
    "kernelspec": {
      "name": "python3",
      "display_name": "Python 3"
    },
    "language_info": {
      "name": "python"
    },
    "accelerator": "GPU",
    "widgets": {
      "application/vnd.jupyter.widget-state+json": {
        "647f5bba1a914b2ea97be6ef4f3bed97": {
          "model_module": "@jupyter-widgets/controls",
          "model_name": "HBoxModel",
          "model_module_version": "1.5.0",
          "state": {
            "_dom_classes": [],
            "_model_module": "@jupyter-widgets/controls",
            "_model_module_version": "1.5.0",
            "_model_name": "HBoxModel",
            "_view_count": null,
            "_view_module": "@jupyter-widgets/controls",
            "_view_module_version": "1.5.0",
            "_view_name": "HBoxView",
            "box_style": "",
            "children": [
              "IPY_MODEL_3dccf8401d80425bba979defdf5babec",
              "IPY_MODEL_5b8cbdb4770e4f0bacb3972f1429ff3e",
              "IPY_MODEL_09f3433a8d0c4134b3b26fce09d9a854"
            ],
            "layout": "IPY_MODEL_5d8480ac8c444eaf9ec0007d45a85eb9"
          }
        },
        "3dccf8401d80425bba979defdf5babec": {
          "model_module": "@jupyter-widgets/controls",
          "model_name": "HTMLModel",
          "model_module_version": "1.5.0",
          "state": {
            "_dom_classes": [],
            "_model_module": "@jupyter-widgets/controls",
            "_model_module_version": "1.5.0",
            "_model_name": "HTMLModel",
            "_view_count": null,
            "_view_module": "@jupyter-widgets/controls",
            "_view_module_version": "1.5.0",
            "_view_name": "HTMLView",
            "description": "",
            "description_tooltip": null,
            "layout": "IPY_MODEL_aba547375ca648a0a0c4e521a1eda450",
            "placeholder": "​",
            "style": "IPY_MODEL_c0432596cfe94aab999f0eadc456fb09",
            "value": "config.json: 100%"
          }
        },
        "5b8cbdb4770e4f0bacb3972f1429ff3e": {
          "model_module": "@jupyter-widgets/controls",
          "model_name": "FloatProgressModel",
          "model_module_version": "1.5.0",
          "state": {
            "_dom_classes": [],
            "_model_module": "@jupyter-widgets/controls",
            "_model_module_version": "1.5.0",
            "_model_name": "FloatProgressModel",
            "_view_count": null,
            "_view_module": "@jupyter-widgets/controls",
            "_view_module_version": "1.5.0",
            "_view_name": "ProgressView",
            "bar_style": "success",
            "description": "",
            "description_tooltip": null,
            "layout": "IPY_MODEL_e35aa15319e64e90b63f789ebe2f0900",
            "max": 313,
            "min": 0,
            "orientation": "horizontal",
            "style": "IPY_MODEL_bfbb693e70614ba99824272a5e536e56",
            "value": 313
          }
        },
        "09f3433a8d0c4134b3b26fce09d9a854": {
          "model_module": "@jupyter-widgets/controls",
          "model_name": "HTMLModel",
          "model_module_version": "1.5.0",
          "state": {
            "_dom_classes": [],
            "_model_module": "@jupyter-widgets/controls",
            "_model_module_version": "1.5.0",
            "_model_name": "HTMLModel",
            "_view_count": null,
            "_view_module": "@jupyter-widgets/controls",
            "_view_module_version": "1.5.0",
            "_view_name": "HTMLView",
            "description": "",
            "description_tooltip": null,
            "layout": "IPY_MODEL_2a8dcd1cd88a4f0d862bbee812d037ad",
            "placeholder": "​",
            "style": "IPY_MODEL_ccafba387f4842d0a67e56e31f7f9e70",
            "value": " 313/313 [00:00&lt;00:00, 24.9kB/s]"
          }
        },
        "5d8480ac8c444eaf9ec0007d45a85eb9": {
          "model_module": "@jupyter-widgets/base",
          "model_name": "LayoutModel",
          "model_module_version": "1.2.0",
          "state": {
            "_model_module": "@jupyter-widgets/base",
            "_model_module_version": "1.2.0",
            "_model_name": "LayoutModel",
            "_view_count": null,
            "_view_module": "@jupyter-widgets/base",
            "_view_module_version": "1.2.0",
            "_view_name": "LayoutView",
            "align_content": null,
            "align_items": null,
            "align_self": null,
            "border": null,
            "bottom": null,
            "display": null,
            "flex": null,
            "flex_flow": null,
            "grid_area": null,
            "grid_auto_columns": null,
            "grid_auto_flow": null,
            "grid_auto_rows": null,
            "grid_column": null,
            "grid_gap": null,
            "grid_row": null,
            "grid_template_areas": null,
            "grid_template_columns": null,
            "grid_template_rows": null,
            "height": null,
            "justify_content": null,
            "justify_items": null,
            "left": null,
            "margin": null,
            "max_height": null,
            "max_width": null,
            "min_height": null,
            "min_width": null,
            "object_fit": null,
            "object_position": null,
            "order": null,
            "overflow": null,
            "overflow_x": null,
            "overflow_y": null,
            "padding": null,
            "right": null,
            "top": null,
            "visibility": null,
            "width": null
          }
        },
        "aba547375ca648a0a0c4e521a1eda450": {
          "model_module": "@jupyter-widgets/base",
          "model_name": "LayoutModel",
          "model_module_version": "1.2.0",
          "state": {
            "_model_module": "@jupyter-widgets/base",
            "_model_module_version": "1.2.0",
            "_model_name": "LayoutModel",
            "_view_count": null,
            "_view_module": "@jupyter-widgets/base",
            "_view_module_version": "1.2.0",
            "_view_name": "LayoutView",
            "align_content": null,
            "align_items": null,
            "align_self": null,
            "border": null,
            "bottom": null,
            "display": null,
            "flex": null,
            "flex_flow": null,
            "grid_area": null,
            "grid_auto_columns": null,
            "grid_auto_flow": null,
            "grid_auto_rows": null,
            "grid_column": null,
            "grid_gap": null,
            "grid_row": null,
            "grid_template_areas": null,
            "grid_template_columns": null,
            "grid_template_rows": null,
            "height": null,
            "justify_content": null,
            "justify_items": null,
            "left": null,
            "margin": null,
            "max_height": null,
            "max_width": null,
            "min_height": null,
            "min_width": null,
            "object_fit": null,
            "object_position": null,
            "order": null,
            "overflow": null,
            "overflow_x": null,
            "overflow_y": null,
            "padding": null,
            "right": null,
            "top": null,
            "visibility": null,
            "width": null
          }
        },
        "c0432596cfe94aab999f0eadc456fb09": {
          "model_module": "@jupyter-widgets/controls",
          "model_name": "DescriptionStyleModel",
          "model_module_version": "1.5.0",
          "state": {
            "_model_module": "@jupyter-widgets/controls",
            "_model_module_version": "1.5.0",
            "_model_name": "DescriptionStyleModel",
            "_view_count": null,
            "_view_module": "@jupyter-widgets/base",
            "_view_module_version": "1.2.0",
            "_view_name": "StyleView",
            "description_width": ""
          }
        },
        "e35aa15319e64e90b63f789ebe2f0900": {
          "model_module": "@jupyter-widgets/base",
          "model_name": "LayoutModel",
          "model_module_version": "1.2.0",
          "state": {
            "_model_module": "@jupyter-widgets/base",
            "_model_module_version": "1.2.0",
            "_model_name": "LayoutModel",
            "_view_count": null,
            "_view_module": "@jupyter-widgets/base",
            "_view_module_version": "1.2.0",
            "_view_name": "LayoutView",
            "align_content": null,
            "align_items": null,
            "align_self": null,
            "border": null,
            "bottom": null,
            "display": null,
            "flex": null,
            "flex_flow": null,
            "grid_area": null,
            "grid_auto_columns": null,
            "grid_auto_flow": null,
            "grid_auto_rows": null,
            "grid_column": null,
            "grid_gap": null,
            "grid_row": null,
            "grid_template_areas": null,
            "grid_template_columns": null,
            "grid_template_rows": null,
            "height": null,
            "justify_content": null,
            "justify_items": null,
            "left": null,
            "margin": null,
            "max_height": null,
            "max_width": null,
            "min_height": null,
            "min_width": null,
            "object_fit": null,
            "object_position": null,
            "order": null,
            "overflow": null,
            "overflow_x": null,
            "overflow_y": null,
            "padding": null,
            "right": null,
            "top": null,
            "visibility": null,
            "width": null
          }
        },
        "bfbb693e70614ba99824272a5e536e56": {
          "model_module": "@jupyter-widgets/controls",
          "model_name": "ProgressStyleModel",
          "model_module_version": "1.5.0",
          "state": {
            "_model_module": "@jupyter-widgets/controls",
            "_model_module_version": "1.5.0",
            "_model_name": "ProgressStyleModel",
            "_view_count": null,
            "_view_module": "@jupyter-widgets/base",
            "_view_module_version": "1.2.0",
            "_view_name": "StyleView",
            "bar_color": null,
            "description_width": ""
          }
        },
        "2a8dcd1cd88a4f0d862bbee812d037ad": {
          "model_module": "@jupyter-widgets/base",
          "model_name": "LayoutModel",
          "model_module_version": "1.2.0",
          "state": {
            "_model_module": "@jupyter-widgets/base",
            "_model_module_version": "1.2.0",
            "_model_name": "LayoutModel",
            "_view_count": null,
            "_view_module": "@jupyter-widgets/base",
            "_view_module_version": "1.2.0",
            "_view_name": "LayoutView",
            "align_content": null,
            "align_items": null,
            "align_self": null,
            "border": null,
            "bottom": null,
            "display": null,
            "flex": null,
            "flex_flow": null,
            "grid_area": null,
            "grid_auto_columns": null,
            "grid_auto_flow": null,
            "grid_auto_rows": null,
            "grid_column": null,
            "grid_gap": null,
            "grid_row": null,
            "grid_template_areas": null,
            "grid_template_columns": null,
            "grid_template_rows": null,
            "height": null,
            "justify_content": null,
            "justify_items": null,
            "left": null,
            "margin": null,
            "max_height": null,
            "max_width": null,
            "min_height": null,
            "min_width": null,
            "object_fit": null,
            "object_position": null,
            "order": null,
            "overflow": null,
            "overflow_x": null,
            "overflow_y": null,
            "padding": null,
            "right": null,
            "top": null,
            "visibility": null,
            "width": null
          }
        },
        "ccafba387f4842d0a67e56e31f7f9e70": {
          "model_module": "@jupyter-widgets/controls",
          "model_name": "DescriptionStyleModel",
          "model_module_version": "1.5.0",
          "state": {
            "_model_module": "@jupyter-widgets/controls",
            "_model_module_version": "1.5.0",
            "_model_name": "DescriptionStyleModel",
            "_view_count": null,
            "_view_module": "@jupyter-widgets/base",
            "_view_module_version": "1.2.0",
            "_view_name": "StyleView",
            "description_width": ""
          }
        },
        "31e32fef2f8e43dfaf8e62a5bbbc04fd": {
          "model_module": "@jupyter-widgets/controls",
          "model_name": "HBoxModel",
          "model_module_version": "1.5.0",
          "state": {
            "_dom_classes": [],
            "_model_module": "@jupyter-widgets/controls",
            "_model_module_version": "1.5.0",
            "_model_name": "HBoxModel",
            "_view_count": null,
            "_view_module": "@jupyter-widgets/controls",
            "_view_module_version": "1.5.0",
            "_view_name": "HBoxView",
            "box_style": "",
            "children": [
              "IPY_MODEL_51cd42c061744e769744c4c52b32eb26",
              "IPY_MODEL_145e6fdacb5a4d398a5098a24f090e0a",
              "IPY_MODEL_47807600b7064dc89b8ccb317d6d489e"
            ],
            "layout": "IPY_MODEL_1ed930396354417faec1242457ca4cb5"
          }
        },
        "51cd42c061744e769744c4c52b32eb26": {
          "model_module": "@jupyter-widgets/controls",
          "model_name": "HTMLModel",
          "model_module_version": "1.5.0",
          "state": {
            "_dom_classes": [],
            "_model_module": "@jupyter-widgets/controls",
            "_model_module_version": "1.5.0",
            "_model_name": "HTMLModel",
            "_view_count": null,
            "_view_module": "@jupyter-widgets/controls",
            "_view_module_version": "1.5.0",
            "_view_name": "HTMLView",
            "description": "",
            "description_tooltip": null,
            "layout": "IPY_MODEL_2074c0614ad34f03a8a78927a3f60950",
            "placeholder": "​",
            "style": "IPY_MODEL_069f0779e0f04cd8800a17de643c5a68",
            "value": "vocab.txt: 100%"
          }
        },
        "145e6fdacb5a4d398a5098a24f090e0a": {
          "model_module": "@jupyter-widgets/controls",
          "model_name": "FloatProgressModel",
          "model_module_version": "1.5.0",
          "state": {
            "_dom_classes": [],
            "_model_module": "@jupyter-widgets/controls",
            "_model_module_version": "1.5.0",
            "_model_name": "FloatProgressModel",
            "_view_count": null,
            "_view_module": "@jupyter-widgets/controls",
            "_view_module_version": "1.5.0",
            "_view_name": "ProgressView",
            "bar_style": "success",
            "description": "",
            "description_tooltip": null,
            "layout": "IPY_MODEL_0897739d91b44d26abc7db64bac705ed",
            "max": 213450,
            "min": 0,
            "orientation": "horizontal",
            "style": "IPY_MODEL_6b450e91d2074ca9ab20ff7be181a0e4",
            "value": 213450
          }
        },
        "47807600b7064dc89b8ccb317d6d489e": {
          "model_module": "@jupyter-widgets/controls",
          "model_name": "HTMLModel",
          "model_module_version": "1.5.0",
          "state": {
            "_dom_classes": [],
            "_model_module": "@jupyter-widgets/controls",
            "_model_module_version": "1.5.0",
            "_model_name": "HTMLModel",
            "_view_count": null,
            "_view_module": "@jupyter-widgets/controls",
            "_view_module_version": "1.5.0",
            "_view_name": "HTMLView",
            "description": "",
            "description_tooltip": null,
            "layout": "IPY_MODEL_b74165e6ee5e4acaa58ae1fdb553e849",
            "placeholder": "​",
            "style": "IPY_MODEL_0943d35d1b314ab387b2a78fcc334e71",
            "value": " 213k/213k [00:00&lt;00:00, 504kB/s]"
          }
        },
        "1ed930396354417faec1242457ca4cb5": {
          "model_module": "@jupyter-widgets/base",
          "model_name": "LayoutModel",
          "model_module_version": "1.2.0",
          "state": {
            "_model_module": "@jupyter-widgets/base",
            "_model_module_version": "1.2.0",
            "_model_name": "LayoutModel",
            "_view_count": null,
            "_view_module": "@jupyter-widgets/base",
            "_view_module_version": "1.2.0",
            "_view_name": "LayoutView",
            "align_content": null,
            "align_items": null,
            "align_self": null,
            "border": null,
            "bottom": null,
            "display": null,
            "flex": null,
            "flex_flow": null,
            "grid_area": null,
            "grid_auto_columns": null,
            "grid_auto_flow": null,
            "grid_auto_rows": null,
            "grid_column": null,
            "grid_gap": null,
            "grid_row": null,
            "grid_template_areas": null,
            "grid_template_columns": null,
            "grid_template_rows": null,
            "height": null,
            "justify_content": null,
            "justify_items": null,
            "left": null,
            "margin": null,
            "max_height": null,
            "max_width": null,
            "min_height": null,
            "min_width": null,
            "object_fit": null,
            "object_position": null,
            "order": null,
            "overflow": null,
            "overflow_x": null,
            "overflow_y": null,
            "padding": null,
            "right": null,
            "top": null,
            "visibility": null,
            "width": null
          }
        },
        "2074c0614ad34f03a8a78927a3f60950": {
          "model_module": "@jupyter-widgets/base",
          "model_name": "LayoutModel",
          "model_module_version": "1.2.0",
          "state": {
            "_model_module": "@jupyter-widgets/base",
            "_model_module_version": "1.2.0",
            "_model_name": "LayoutModel",
            "_view_count": null,
            "_view_module": "@jupyter-widgets/base",
            "_view_module_version": "1.2.0",
            "_view_name": "LayoutView",
            "align_content": null,
            "align_items": null,
            "align_self": null,
            "border": null,
            "bottom": null,
            "display": null,
            "flex": null,
            "flex_flow": null,
            "grid_area": null,
            "grid_auto_columns": null,
            "grid_auto_flow": null,
            "grid_auto_rows": null,
            "grid_column": null,
            "grid_gap": null,
            "grid_row": null,
            "grid_template_areas": null,
            "grid_template_columns": null,
            "grid_template_rows": null,
            "height": null,
            "justify_content": null,
            "justify_items": null,
            "left": null,
            "margin": null,
            "max_height": null,
            "max_width": null,
            "min_height": null,
            "min_width": null,
            "object_fit": null,
            "object_position": null,
            "order": null,
            "overflow": null,
            "overflow_x": null,
            "overflow_y": null,
            "padding": null,
            "right": null,
            "top": null,
            "visibility": null,
            "width": null
          }
        },
        "069f0779e0f04cd8800a17de643c5a68": {
          "model_module": "@jupyter-widgets/controls",
          "model_name": "DescriptionStyleModel",
          "model_module_version": "1.5.0",
          "state": {
            "_model_module": "@jupyter-widgets/controls",
            "_model_module_version": "1.5.0",
            "_model_name": "DescriptionStyleModel",
            "_view_count": null,
            "_view_module": "@jupyter-widgets/base",
            "_view_module_version": "1.2.0",
            "_view_name": "StyleView",
            "description_width": ""
          }
        },
        "0897739d91b44d26abc7db64bac705ed": {
          "model_module": "@jupyter-widgets/base",
          "model_name": "LayoutModel",
          "model_module_version": "1.2.0",
          "state": {
            "_model_module": "@jupyter-widgets/base",
            "_model_module_version": "1.2.0",
            "_model_name": "LayoutModel",
            "_view_count": null,
            "_view_module": "@jupyter-widgets/base",
            "_view_module_version": "1.2.0",
            "_view_name": "LayoutView",
            "align_content": null,
            "align_items": null,
            "align_self": null,
            "border": null,
            "bottom": null,
            "display": null,
            "flex": null,
            "flex_flow": null,
            "grid_area": null,
            "grid_auto_columns": null,
            "grid_auto_flow": null,
            "grid_auto_rows": null,
            "grid_column": null,
            "grid_gap": null,
            "grid_row": null,
            "grid_template_areas": null,
            "grid_template_columns": null,
            "grid_template_rows": null,
            "height": null,
            "justify_content": null,
            "justify_items": null,
            "left": null,
            "margin": null,
            "max_height": null,
            "max_width": null,
            "min_height": null,
            "min_width": null,
            "object_fit": null,
            "object_position": null,
            "order": null,
            "overflow": null,
            "overflow_x": null,
            "overflow_y": null,
            "padding": null,
            "right": null,
            "top": null,
            "visibility": null,
            "width": null
          }
        },
        "6b450e91d2074ca9ab20ff7be181a0e4": {
          "model_module": "@jupyter-widgets/controls",
          "model_name": "ProgressStyleModel",
          "model_module_version": "1.5.0",
          "state": {
            "_model_module": "@jupyter-widgets/controls",
            "_model_module_version": "1.5.0",
            "_model_name": "ProgressStyleModel",
            "_view_count": null,
            "_view_module": "@jupyter-widgets/base",
            "_view_module_version": "1.2.0",
            "_view_name": "StyleView",
            "bar_color": null,
            "description_width": ""
          }
        },
        "b74165e6ee5e4acaa58ae1fdb553e849": {
          "model_module": "@jupyter-widgets/base",
          "model_name": "LayoutModel",
          "model_module_version": "1.2.0",
          "state": {
            "_model_module": "@jupyter-widgets/base",
            "_model_module_version": "1.2.0",
            "_model_name": "LayoutModel",
            "_view_count": null,
            "_view_module": "@jupyter-widgets/base",
            "_view_module_version": "1.2.0",
            "_view_name": "LayoutView",
            "align_content": null,
            "align_items": null,
            "align_self": null,
            "border": null,
            "bottom": null,
            "display": null,
            "flex": null,
            "flex_flow": null,
            "grid_area": null,
            "grid_auto_columns": null,
            "grid_auto_flow": null,
            "grid_auto_rows": null,
            "grid_column": null,
            "grid_gap": null,
            "grid_row": null,
            "grid_template_areas": null,
            "grid_template_columns": null,
            "grid_template_rows": null,
            "height": null,
            "justify_content": null,
            "justify_items": null,
            "left": null,
            "margin": null,
            "max_height": null,
            "max_width": null,
            "min_height": null,
            "min_width": null,
            "object_fit": null,
            "object_position": null,
            "order": null,
            "overflow": null,
            "overflow_x": null,
            "overflow_y": null,
            "padding": null,
            "right": null,
            "top": null,
            "visibility": null,
            "width": null
          }
        },
        "0943d35d1b314ab387b2a78fcc334e71": {
          "model_module": "@jupyter-widgets/controls",
          "model_name": "DescriptionStyleModel",
          "model_module_version": "1.5.0",
          "state": {
            "_model_module": "@jupyter-widgets/controls",
            "_model_module_version": "1.5.0",
            "_model_name": "DescriptionStyleModel",
            "_view_count": null,
            "_view_module": "@jupyter-widgets/base",
            "_view_module_version": "1.2.0",
            "_view_name": "StyleView",
            "description_width": ""
          }
        },
        "67453b685a6848caaee2f800ed309076": {
          "model_module": "@jupyter-widgets/controls",
          "model_name": "HBoxModel",
          "model_module_version": "1.5.0",
          "state": {
            "_dom_classes": [],
            "_model_module": "@jupyter-widgets/controls",
            "_model_module_version": "1.5.0",
            "_model_name": "HBoxModel",
            "_view_count": null,
            "_view_module": "@jupyter-widgets/controls",
            "_view_module_version": "1.5.0",
            "_view_name": "HBoxView",
            "box_style": "",
            "children": [
              "IPY_MODEL_76598f59fa34477f98f5d45308b54af0",
              "IPY_MODEL_451eb95a65764a4e8b9b151565e52f36",
              "IPY_MODEL_25b1a18bcf7742c38a97db97c735e162"
            ],
            "layout": "IPY_MODEL_64ba1787554a4bfbb35a7a6828f8bd74"
          }
        },
        "76598f59fa34477f98f5d45308b54af0": {
          "model_module": "@jupyter-widgets/controls",
          "model_name": "HTMLModel",
          "model_module_version": "1.5.0",
          "state": {
            "_dom_classes": [],
            "_model_module": "@jupyter-widgets/controls",
            "_model_module_version": "1.5.0",
            "_model_name": "HTMLModel",
            "_view_count": null,
            "_view_module": "@jupyter-widgets/controls",
            "_view_module_version": "1.5.0",
            "_view_name": "HTMLView",
            "description": "",
            "description_tooltip": null,
            "layout": "IPY_MODEL_777244448cbb4ce8bbc1f702157337f6",
            "placeholder": "​",
            "style": "IPY_MODEL_49c538ad0bc64ca78b240f781df00a1d",
            "value": "Map: 100%"
          }
        },
        "451eb95a65764a4e8b9b151565e52f36": {
          "model_module": "@jupyter-widgets/controls",
          "model_name": "FloatProgressModel",
          "model_module_version": "1.5.0",
          "state": {
            "_dom_classes": [],
            "_model_module": "@jupyter-widgets/controls",
            "_model_module_version": "1.5.0",
            "_model_name": "FloatProgressModel",
            "_view_count": null,
            "_view_module": "@jupyter-widgets/controls",
            "_view_module_version": "1.5.0",
            "_view_name": "ProgressView",
            "bar_style": "success",
            "description": "",
            "description_tooltip": null,
            "layout": "IPY_MODEL_87cc294a594f46cbaa4724d74e9f3aeb",
            "max": 183832,
            "min": 0,
            "orientation": "horizontal",
            "style": "IPY_MODEL_8e6cf327e52d4fbfb851dfcfafefba2e",
            "value": 183832
          }
        },
        "25b1a18bcf7742c38a97db97c735e162": {
          "model_module": "@jupyter-widgets/controls",
          "model_name": "HTMLModel",
          "model_module_version": "1.5.0",
          "state": {
            "_dom_classes": [],
            "_model_module": "@jupyter-widgets/controls",
            "_model_module_version": "1.5.0",
            "_model_name": "HTMLModel",
            "_view_count": null,
            "_view_module": "@jupyter-widgets/controls",
            "_view_module_version": "1.5.0",
            "_view_name": "HTMLView",
            "description": "",
            "description_tooltip": null,
            "layout": "IPY_MODEL_49b92b3826b64c4b9222cf73eab779c3",
            "placeholder": "​",
            "style": "IPY_MODEL_8ceac6b298554b16add677e2d013f7a8",
            "value": " 183832/183832 [00:03&lt;00:00, 55981.58 examples/s]"
          }
        },
        "64ba1787554a4bfbb35a7a6828f8bd74": {
          "model_module": "@jupyter-widgets/base",
          "model_name": "LayoutModel",
          "model_module_version": "1.2.0",
          "state": {
            "_model_module": "@jupyter-widgets/base",
            "_model_module_version": "1.2.0",
            "_model_name": "LayoutModel",
            "_view_count": null,
            "_view_module": "@jupyter-widgets/base",
            "_view_module_version": "1.2.0",
            "_view_name": "LayoutView",
            "align_content": null,
            "align_items": null,
            "align_self": null,
            "border": null,
            "bottom": null,
            "display": null,
            "flex": null,
            "flex_flow": null,
            "grid_area": null,
            "grid_auto_columns": null,
            "grid_auto_flow": null,
            "grid_auto_rows": null,
            "grid_column": null,
            "grid_gap": null,
            "grid_row": null,
            "grid_template_areas": null,
            "grid_template_columns": null,
            "grid_template_rows": null,
            "height": null,
            "justify_content": null,
            "justify_items": null,
            "left": null,
            "margin": null,
            "max_height": null,
            "max_width": null,
            "min_height": null,
            "min_width": null,
            "object_fit": null,
            "object_position": null,
            "order": null,
            "overflow": null,
            "overflow_x": null,
            "overflow_y": null,
            "padding": null,
            "right": null,
            "top": null,
            "visibility": null,
            "width": null
          }
        },
        "777244448cbb4ce8bbc1f702157337f6": {
          "model_module": "@jupyter-widgets/base",
          "model_name": "LayoutModel",
          "model_module_version": "1.2.0",
          "state": {
            "_model_module": "@jupyter-widgets/base",
            "_model_module_version": "1.2.0",
            "_model_name": "LayoutModel",
            "_view_count": null,
            "_view_module": "@jupyter-widgets/base",
            "_view_module_version": "1.2.0",
            "_view_name": "LayoutView",
            "align_content": null,
            "align_items": null,
            "align_self": null,
            "border": null,
            "bottom": null,
            "display": null,
            "flex": null,
            "flex_flow": null,
            "grid_area": null,
            "grid_auto_columns": null,
            "grid_auto_flow": null,
            "grid_auto_rows": null,
            "grid_column": null,
            "grid_gap": null,
            "grid_row": null,
            "grid_template_areas": null,
            "grid_template_columns": null,
            "grid_template_rows": null,
            "height": null,
            "justify_content": null,
            "justify_items": null,
            "left": null,
            "margin": null,
            "max_height": null,
            "max_width": null,
            "min_height": null,
            "min_width": null,
            "object_fit": null,
            "object_position": null,
            "order": null,
            "overflow": null,
            "overflow_x": null,
            "overflow_y": null,
            "padding": null,
            "right": null,
            "top": null,
            "visibility": null,
            "width": null
          }
        },
        "49c538ad0bc64ca78b240f781df00a1d": {
          "model_module": "@jupyter-widgets/controls",
          "model_name": "DescriptionStyleModel",
          "model_module_version": "1.5.0",
          "state": {
            "_model_module": "@jupyter-widgets/controls",
            "_model_module_version": "1.5.0",
            "_model_name": "DescriptionStyleModel",
            "_view_count": null,
            "_view_module": "@jupyter-widgets/base",
            "_view_module_version": "1.2.0",
            "_view_name": "StyleView",
            "description_width": ""
          }
        },
        "87cc294a594f46cbaa4724d74e9f3aeb": {
          "model_module": "@jupyter-widgets/base",
          "model_name": "LayoutModel",
          "model_module_version": "1.2.0",
          "state": {
            "_model_module": "@jupyter-widgets/base",
            "_model_module_version": "1.2.0",
            "_model_name": "LayoutModel",
            "_view_count": null,
            "_view_module": "@jupyter-widgets/base",
            "_view_module_version": "1.2.0",
            "_view_name": "LayoutView",
            "align_content": null,
            "align_items": null,
            "align_self": null,
            "border": null,
            "bottom": null,
            "display": null,
            "flex": null,
            "flex_flow": null,
            "grid_area": null,
            "grid_auto_columns": null,
            "grid_auto_flow": null,
            "grid_auto_rows": null,
            "grid_column": null,
            "grid_gap": null,
            "grid_row": null,
            "grid_template_areas": null,
            "grid_template_columns": null,
            "grid_template_rows": null,
            "height": null,
            "justify_content": null,
            "justify_items": null,
            "left": null,
            "margin": null,
            "max_height": null,
            "max_width": null,
            "min_height": null,
            "min_width": null,
            "object_fit": null,
            "object_position": null,
            "order": null,
            "overflow": null,
            "overflow_x": null,
            "overflow_y": null,
            "padding": null,
            "right": null,
            "top": null,
            "visibility": null,
            "width": null
          }
        },
        "8e6cf327e52d4fbfb851dfcfafefba2e": {
          "model_module": "@jupyter-widgets/controls",
          "model_name": "ProgressStyleModel",
          "model_module_version": "1.5.0",
          "state": {
            "_model_module": "@jupyter-widgets/controls",
            "_model_module_version": "1.5.0",
            "_model_name": "ProgressStyleModel",
            "_view_count": null,
            "_view_module": "@jupyter-widgets/base",
            "_view_module_version": "1.2.0",
            "_view_name": "StyleView",
            "bar_color": null,
            "description_width": ""
          }
        },
        "49b92b3826b64c4b9222cf73eab779c3": {
          "model_module": "@jupyter-widgets/base",
          "model_name": "LayoutModel",
          "model_module_version": "1.2.0",
          "state": {
            "_model_module": "@jupyter-widgets/base",
            "_model_module_version": "1.2.0",
            "_model_name": "LayoutModel",
            "_view_count": null,
            "_view_module": "@jupyter-widgets/base",
            "_view_module_version": "1.2.0",
            "_view_name": "LayoutView",
            "align_content": null,
            "align_items": null,
            "align_self": null,
            "border": null,
            "bottom": null,
            "display": null,
            "flex": null,
            "flex_flow": null,
            "grid_area": null,
            "grid_auto_columns": null,
            "grid_auto_flow": null,
            "grid_auto_rows": null,
            "grid_column": null,
            "grid_gap": null,
            "grid_row": null,
            "grid_template_areas": null,
            "grid_template_columns": null,
            "grid_template_rows": null,
            "height": null,
            "justify_content": null,
            "justify_items": null,
            "left": null,
            "margin": null,
            "max_height": null,
            "max_width": null,
            "min_height": null,
            "min_width": null,
            "object_fit": null,
            "object_position": null,
            "order": null,
            "overflow": null,
            "overflow_x": null,
            "overflow_y": null,
            "padding": null,
            "right": null,
            "top": null,
            "visibility": null,
            "width": null
          }
        },
        "8ceac6b298554b16add677e2d013f7a8": {
          "model_module": "@jupyter-widgets/controls",
          "model_name": "DescriptionStyleModel",
          "model_module_version": "1.5.0",
          "state": {
            "_model_module": "@jupyter-widgets/controls",
            "_model_module_version": "1.5.0",
            "_model_name": "DescriptionStyleModel",
            "_view_count": null,
            "_view_module": "@jupyter-widgets/base",
            "_view_module_version": "1.2.0",
            "_view_name": "StyleView",
            "description_width": ""
          }
        },
        "b6f4313c36364b3bb3d4a87d2128e6b1": {
          "model_module": "@jupyter-widgets/controls",
          "model_name": "HBoxModel",
          "model_module_version": "1.5.0",
          "state": {
            "_dom_classes": [],
            "_model_module": "@jupyter-widgets/controls",
            "_model_module_version": "1.5.0",
            "_model_name": "HBoxModel",
            "_view_count": null,
            "_view_module": "@jupyter-widgets/controls",
            "_view_module_version": "1.5.0",
            "_view_name": "HBoxView",
            "box_style": "",
            "children": [
              "IPY_MODEL_79d8aa895af04ce0963f5b466e18a7ea",
              "IPY_MODEL_d45aeca36a0c45669db57bac4a1c1d52",
              "IPY_MODEL_75ef05a35ab2432fac2f33754696a712"
            ],
            "layout": "IPY_MODEL_57f5e65351c74c01b28fd088eb1d74b6"
          }
        },
        "79d8aa895af04ce0963f5b466e18a7ea": {
          "model_module": "@jupyter-widgets/controls",
          "model_name": "HTMLModel",
          "model_module_version": "1.5.0",
          "state": {
            "_dom_classes": [],
            "_model_module": "@jupyter-widgets/controls",
            "_model_module_version": "1.5.0",
            "_model_name": "HTMLModel",
            "_view_count": null,
            "_view_module": "@jupyter-widgets/controls",
            "_view_module_version": "1.5.0",
            "_view_name": "HTMLView",
            "description": "",
            "description_tooltip": null,
            "layout": "IPY_MODEL_d64f0564dbf040ac9d9e7aea24202cba",
            "placeholder": "​",
            "style": "IPY_MODEL_976d22bcfe0d40b5b1c7891c11cf1fcf",
            "value": "Map: 100%"
          }
        },
        "d45aeca36a0c45669db57bac4a1c1d52": {
          "model_module": "@jupyter-widgets/controls",
          "model_name": "FloatProgressModel",
          "model_module_version": "1.5.0",
          "state": {
            "_dom_classes": [],
            "_model_module": "@jupyter-widgets/controls",
            "_model_module_version": "1.5.0",
            "_model_name": "FloatProgressModel",
            "_view_count": null,
            "_view_module": "@jupyter-widgets/controls",
            "_view_module_version": "1.5.0",
            "_view_name": "ProgressView",
            "bar_style": "success",
            "description": "",
            "description_tooltip": null,
            "layout": "IPY_MODEL_1b37b77eeafc4058867b481978a0a70b",
            "max": 1918,
            "min": 0,
            "orientation": "horizontal",
            "style": "IPY_MODEL_24e55ea640074209a3a9172ee914fe31",
            "value": 1918
          }
        },
        "75ef05a35ab2432fac2f33754696a712": {
          "model_module": "@jupyter-widgets/controls",
          "model_name": "HTMLModel",
          "model_module_version": "1.5.0",
          "state": {
            "_dom_classes": [],
            "_model_module": "@jupyter-widgets/controls",
            "_model_module_version": "1.5.0",
            "_model_name": "HTMLModel",
            "_view_count": null,
            "_view_module": "@jupyter-widgets/controls",
            "_view_module_version": "1.5.0",
            "_view_name": "HTMLView",
            "description": "",
            "description_tooltip": null,
            "layout": "IPY_MODEL_52a911d121d945448713048c0aa8cbe8",
            "placeholder": "​",
            "style": "IPY_MODEL_f2e13c2a79454fa18cbb7b15e1eca0e7",
            "value": " 1918/1918 [00:00&lt;00:00, 28458.69 examples/s]"
          }
        },
        "57f5e65351c74c01b28fd088eb1d74b6": {
          "model_module": "@jupyter-widgets/base",
          "model_name": "LayoutModel",
          "model_module_version": "1.2.0",
          "state": {
            "_model_module": "@jupyter-widgets/base",
            "_model_module_version": "1.2.0",
            "_model_name": "LayoutModel",
            "_view_count": null,
            "_view_module": "@jupyter-widgets/base",
            "_view_module_version": "1.2.0",
            "_view_name": "LayoutView",
            "align_content": null,
            "align_items": null,
            "align_self": null,
            "border": null,
            "bottom": null,
            "display": null,
            "flex": null,
            "flex_flow": null,
            "grid_area": null,
            "grid_auto_columns": null,
            "grid_auto_flow": null,
            "grid_auto_rows": null,
            "grid_column": null,
            "grid_gap": null,
            "grid_row": null,
            "grid_template_areas": null,
            "grid_template_columns": null,
            "grid_template_rows": null,
            "height": null,
            "justify_content": null,
            "justify_items": null,
            "left": null,
            "margin": null,
            "max_height": null,
            "max_width": null,
            "min_height": null,
            "min_width": null,
            "object_fit": null,
            "object_position": null,
            "order": null,
            "overflow": null,
            "overflow_x": null,
            "overflow_y": null,
            "padding": null,
            "right": null,
            "top": null,
            "visibility": null,
            "width": null
          }
        },
        "d64f0564dbf040ac9d9e7aea24202cba": {
          "model_module": "@jupyter-widgets/base",
          "model_name": "LayoutModel",
          "model_module_version": "1.2.0",
          "state": {
            "_model_module": "@jupyter-widgets/base",
            "_model_module_version": "1.2.0",
            "_model_name": "LayoutModel",
            "_view_count": null,
            "_view_module": "@jupyter-widgets/base",
            "_view_module_version": "1.2.0",
            "_view_name": "LayoutView",
            "align_content": null,
            "align_items": null,
            "align_self": null,
            "border": null,
            "bottom": null,
            "display": null,
            "flex": null,
            "flex_flow": null,
            "grid_area": null,
            "grid_auto_columns": null,
            "grid_auto_flow": null,
            "grid_auto_rows": null,
            "grid_column": null,
            "grid_gap": null,
            "grid_row": null,
            "grid_template_areas": null,
            "grid_template_columns": null,
            "grid_template_rows": null,
            "height": null,
            "justify_content": null,
            "justify_items": null,
            "left": null,
            "margin": null,
            "max_height": null,
            "max_width": null,
            "min_height": null,
            "min_width": null,
            "object_fit": null,
            "object_position": null,
            "order": null,
            "overflow": null,
            "overflow_x": null,
            "overflow_y": null,
            "padding": null,
            "right": null,
            "top": null,
            "visibility": null,
            "width": null
          }
        },
        "976d22bcfe0d40b5b1c7891c11cf1fcf": {
          "model_module": "@jupyter-widgets/controls",
          "model_name": "DescriptionStyleModel",
          "model_module_version": "1.5.0",
          "state": {
            "_model_module": "@jupyter-widgets/controls",
            "_model_module_version": "1.5.0",
            "_model_name": "DescriptionStyleModel",
            "_view_count": null,
            "_view_module": "@jupyter-widgets/base",
            "_view_module_version": "1.2.0",
            "_view_name": "StyleView",
            "description_width": ""
          }
        },
        "1b37b77eeafc4058867b481978a0a70b": {
          "model_module": "@jupyter-widgets/base",
          "model_name": "LayoutModel",
          "model_module_version": "1.2.0",
          "state": {
            "_model_module": "@jupyter-widgets/base",
            "_model_module_version": "1.2.0",
            "_model_name": "LayoutModel",
            "_view_count": null,
            "_view_module": "@jupyter-widgets/base",
            "_view_module_version": "1.2.0",
            "_view_name": "LayoutView",
            "align_content": null,
            "align_items": null,
            "align_self": null,
            "border": null,
            "bottom": null,
            "display": null,
            "flex": null,
            "flex_flow": null,
            "grid_area": null,
            "grid_auto_columns": null,
            "grid_auto_flow": null,
            "grid_auto_rows": null,
            "grid_column": null,
            "grid_gap": null,
            "grid_row": null,
            "grid_template_areas": null,
            "grid_template_columns": null,
            "grid_template_rows": null,
            "height": null,
            "justify_content": null,
            "justify_items": null,
            "left": null,
            "margin": null,
            "max_height": null,
            "max_width": null,
            "min_height": null,
            "min_width": null,
            "object_fit": null,
            "object_position": null,
            "order": null,
            "overflow": null,
            "overflow_x": null,
            "overflow_y": null,
            "padding": null,
            "right": null,
            "top": null,
            "visibility": null,
            "width": null
          }
        },
        "24e55ea640074209a3a9172ee914fe31": {
          "model_module": "@jupyter-widgets/controls",
          "model_name": "ProgressStyleModel",
          "model_module_version": "1.5.0",
          "state": {
            "_model_module": "@jupyter-widgets/controls",
            "_model_module_version": "1.5.0",
            "_model_name": "ProgressStyleModel",
            "_view_count": null,
            "_view_module": "@jupyter-widgets/base",
            "_view_module_version": "1.2.0",
            "_view_name": "StyleView",
            "bar_color": null,
            "description_width": ""
          }
        },
        "52a911d121d945448713048c0aa8cbe8": {
          "model_module": "@jupyter-widgets/base",
          "model_name": "LayoutModel",
          "model_module_version": "1.2.0",
          "state": {
            "_model_module": "@jupyter-widgets/base",
            "_model_module_version": "1.2.0",
            "_model_name": "LayoutModel",
            "_view_count": null,
            "_view_module": "@jupyter-widgets/base",
            "_view_module_version": "1.2.0",
            "_view_name": "LayoutView",
            "align_content": null,
            "align_items": null,
            "align_self": null,
            "border": null,
            "bottom": null,
            "display": null,
            "flex": null,
            "flex_flow": null,
            "grid_area": null,
            "grid_auto_columns": null,
            "grid_auto_flow": null,
            "grid_auto_rows": null,
            "grid_column": null,
            "grid_gap": null,
            "grid_row": null,
            "grid_template_areas": null,
            "grid_template_columns": null,
            "grid_template_rows": null,
            "height": null,
            "justify_content": null,
            "justify_items": null,
            "left": null,
            "margin": null,
            "max_height": null,
            "max_width": null,
            "min_height": null,
            "min_width": null,
            "object_fit": null,
            "object_position": null,
            "order": null,
            "overflow": null,
            "overflow_x": null,
            "overflow_y": null,
            "padding": null,
            "right": null,
            "top": null,
            "visibility": null,
            "width": null
          }
        },
        "f2e13c2a79454fa18cbb7b15e1eca0e7": {
          "model_module": "@jupyter-widgets/controls",
          "model_name": "DescriptionStyleModel",
          "model_module_version": "1.5.0",
          "state": {
            "_model_module": "@jupyter-widgets/controls",
            "_model_module_version": "1.5.0",
            "_model_name": "DescriptionStyleModel",
            "_view_count": null,
            "_view_module": "@jupyter-widgets/base",
            "_view_module_version": "1.2.0",
            "_view_name": "StyleView",
            "description_width": ""
          }
        },
        "e8e89da989294c049b91660076b9141c": {
          "model_module": "@jupyter-widgets/controls",
          "model_name": "HBoxModel",
          "model_module_version": "1.5.0",
          "state": {
            "_dom_classes": [],
            "_model_module": "@jupyter-widgets/controls",
            "_model_module_version": "1.5.0",
            "_model_name": "HBoxModel",
            "_view_count": null,
            "_view_module": "@jupyter-widgets/controls",
            "_view_module_version": "1.5.0",
            "_view_name": "HBoxView",
            "box_style": "",
            "children": [
              "IPY_MODEL_748c60f83d7e48fd99ed7e951e7744ad",
              "IPY_MODEL_eb778f50324c401f99c6601a29cf07a5",
              "IPY_MODEL_9d5735667cc748a5b88becebf307555b"
            ],
            "layout": "IPY_MODEL_aadf7b4c5bf14efd8f0be6c659bc1687"
          }
        },
        "748c60f83d7e48fd99ed7e951e7744ad": {
          "model_module": "@jupyter-widgets/controls",
          "model_name": "HTMLModel",
          "model_module_version": "1.5.0",
          "state": {
            "_dom_classes": [],
            "_model_module": "@jupyter-widgets/controls",
            "_model_module_version": "1.5.0",
            "_model_name": "HTMLModel",
            "_view_count": null,
            "_view_module": "@jupyter-widgets/controls",
            "_view_module_version": "1.5.0",
            "_view_name": "HTMLView",
            "description": "",
            "description_tooltip": null,
            "layout": "IPY_MODEL_93da89f124084e1899eb83625d6969fe",
            "placeholder": "​",
            "style": "IPY_MODEL_a99aaba139124ef0ad4a7358ba3598a9",
            "value": "Map: 100%"
          }
        },
        "eb778f50324c401f99c6601a29cf07a5": {
          "model_module": "@jupyter-widgets/controls",
          "model_name": "FloatProgressModel",
          "model_module_version": "1.5.0",
          "state": {
            "_dom_classes": [],
            "_model_module": "@jupyter-widgets/controls",
            "_model_module_version": "1.5.0",
            "_model_name": "FloatProgressModel",
            "_view_count": null,
            "_view_module": "@jupyter-widgets/controls",
            "_view_module_version": "1.5.0",
            "_view_name": "ProgressView",
            "bar_style": "success",
            "description": "",
            "description_tooltip": null,
            "layout": "IPY_MODEL_ad9595e49d1948a1a20fa21c11910e20",
            "max": 1919,
            "min": 0,
            "orientation": "horizontal",
            "style": "IPY_MODEL_c719980feb534d9096aeecc0ac1352e8",
            "value": 1919
          }
        },
        "9d5735667cc748a5b88becebf307555b": {
          "model_module": "@jupyter-widgets/controls",
          "model_name": "HTMLModel",
          "model_module_version": "1.5.0",
          "state": {
            "_dom_classes": [],
            "_model_module": "@jupyter-widgets/controls",
            "_model_module_version": "1.5.0",
            "_model_name": "HTMLModel",
            "_view_count": null,
            "_view_module": "@jupyter-widgets/controls",
            "_view_module_version": "1.5.0",
            "_view_name": "HTMLView",
            "description": "",
            "description_tooltip": null,
            "layout": "IPY_MODEL_2fef46acdf4c48668b722f24bbc78310",
            "placeholder": "​",
            "style": "IPY_MODEL_8a93da29747149cbab924938421b7cfc",
            "value": " 1919/1919 [00:00&lt;00:00, 39133.92 examples/s]"
          }
        },
        "aadf7b4c5bf14efd8f0be6c659bc1687": {
          "model_module": "@jupyter-widgets/base",
          "model_name": "LayoutModel",
          "model_module_version": "1.2.0",
          "state": {
            "_model_module": "@jupyter-widgets/base",
            "_model_module_version": "1.2.0",
            "_model_name": "LayoutModel",
            "_view_count": null,
            "_view_module": "@jupyter-widgets/base",
            "_view_module_version": "1.2.0",
            "_view_name": "LayoutView",
            "align_content": null,
            "align_items": null,
            "align_self": null,
            "border": null,
            "bottom": null,
            "display": null,
            "flex": null,
            "flex_flow": null,
            "grid_area": null,
            "grid_auto_columns": null,
            "grid_auto_flow": null,
            "grid_auto_rows": null,
            "grid_column": null,
            "grid_gap": null,
            "grid_row": null,
            "grid_template_areas": null,
            "grid_template_columns": null,
            "grid_template_rows": null,
            "height": null,
            "justify_content": null,
            "justify_items": null,
            "left": null,
            "margin": null,
            "max_height": null,
            "max_width": null,
            "min_height": null,
            "min_width": null,
            "object_fit": null,
            "object_position": null,
            "order": null,
            "overflow": null,
            "overflow_x": null,
            "overflow_y": null,
            "padding": null,
            "right": null,
            "top": null,
            "visibility": null,
            "width": null
          }
        },
        "93da89f124084e1899eb83625d6969fe": {
          "model_module": "@jupyter-widgets/base",
          "model_name": "LayoutModel",
          "model_module_version": "1.2.0",
          "state": {
            "_model_module": "@jupyter-widgets/base",
            "_model_module_version": "1.2.0",
            "_model_name": "LayoutModel",
            "_view_count": null,
            "_view_module": "@jupyter-widgets/base",
            "_view_module_version": "1.2.0",
            "_view_name": "LayoutView",
            "align_content": null,
            "align_items": null,
            "align_self": null,
            "border": null,
            "bottom": null,
            "display": null,
            "flex": null,
            "flex_flow": null,
            "grid_area": null,
            "grid_auto_columns": null,
            "grid_auto_flow": null,
            "grid_auto_rows": null,
            "grid_column": null,
            "grid_gap": null,
            "grid_row": null,
            "grid_template_areas": null,
            "grid_template_columns": null,
            "grid_template_rows": null,
            "height": null,
            "justify_content": null,
            "justify_items": null,
            "left": null,
            "margin": null,
            "max_height": null,
            "max_width": null,
            "min_height": null,
            "min_width": null,
            "object_fit": null,
            "object_position": null,
            "order": null,
            "overflow": null,
            "overflow_x": null,
            "overflow_y": null,
            "padding": null,
            "right": null,
            "top": null,
            "visibility": null,
            "width": null
          }
        },
        "a99aaba139124ef0ad4a7358ba3598a9": {
          "model_module": "@jupyter-widgets/controls",
          "model_name": "DescriptionStyleModel",
          "model_module_version": "1.5.0",
          "state": {
            "_model_module": "@jupyter-widgets/controls",
            "_model_module_version": "1.5.0",
            "_model_name": "DescriptionStyleModel",
            "_view_count": null,
            "_view_module": "@jupyter-widgets/base",
            "_view_module_version": "1.2.0",
            "_view_name": "StyleView",
            "description_width": ""
          }
        },
        "ad9595e49d1948a1a20fa21c11910e20": {
          "model_module": "@jupyter-widgets/base",
          "model_name": "LayoutModel",
          "model_module_version": "1.2.0",
          "state": {
            "_model_module": "@jupyter-widgets/base",
            "_model_module_version": "1.2.0",
            "_model_name": "LayoutModel",
            "_view_count": null,
            "_view_module": "@jupyter-widgets/base",
            "_view_module_version": "1.2.0",
            "_view_name": "LayoutView",
            "align_content": null,
            "align_items": null,
            "align_self": null,
            "border": null,
            "bottom": null,
            "display": null,
            "flex": null,
            "flex_flow": null,
            "grid_area": null,
            "grid_auto_columns": null,
            "grid_auto_flow": null,
            "grid_auto_rows": null,
            "grid_column": null,
            "grid_gap": null,
            "grid_row": null,
            "grid_template_areas": null,
            "grid_template_columns": null,
            "grid_template_rows": null,
            "height": null,
            "justify_content": null,
            "justify_items": null,
            "left": null,
            "margin": null,
            "max_height": null,
            "max_width": null,
            "min_height": null,
            "min_width": null,
            "object_fit": null,
            "object_position": null,
            "order": null,
            "overflow": null,
            "overflow_x": null,
            "overflow_y": null,
            "padding": null,
            "right": null,
            "top": null,
            "visibility": null,
            "width": null
          }
        },
        "c719980feb534d9096aeecc0ac1352e8": {
          "model_module": "@jupyter-widgets/controls",
          "model_name": "ProgressStyleModel",
          "model_module_version": "1.5.0",
          "state": {
            "_model_module": "@jupyter-widgets/controls",
            "_model_module_version": "1.5.0",
            "_model_name": "ProgressStyleModel",
            "_view_count": null,
            "_view_module": "@jupyter-widgets/base",
            "_view_module_version": "1.2.0",
            "_view_name": "StyleView",
            "bar_color": null,
            "description_width": ""
          }
        },
        "2fef46acdf4c48668b722f24bbc78310": {
          "model_module": "@jupyter-widgets/base",
          "model_name": "LayoutModel",
          "model_module_version": "1.2.0",
          "state": {
            "_model_module": "@jupyter-widgets/base",
            "_model_module_version": "1.2.0",
            "_model_name": "LayoutModel",
            "_view_count": null,
            "_view_module": "@jupyter-widgets/base",
            "_view_module_version": "1.2.0",
            "_view_name": "LayoutView",
            "align_content": null,
            "align_items": null,
            "align_self": null,
            "border": null,
            "bottom": null,
            "display": null,
            "flex": null,
            "flex_flow": null,
            "grid_area": null,
            "grid_auto_columns": null,
            "grid_auto_flow": null,
            "grid_auto_rows": null,
            "grid_column": null,
            "grid_gap": null,
            "grid_row": null,
            "grid_template_areas": null,
            "grid_template_columns": null,
            "grid_template_rows": null,
            "height": null,
            "justify_content": null,
            "justify_items": null,
            "left": null,
            "margin": null,
            "max_height": null,
            "max_width": null,
            "min_height": null,
            "min_width": null,
            "object_fit": null,
            "object_position": null,
            "order": null,
            "overflow": null,
            "overflow_x": null,
            "overflow_y": null,
            "padding": null,
            "right": null,
            "top": null,
            "visibility": null,
            "width": null
          }
        },
        "8a93da29747149cbab924938421b7cfc": {
          "model_module": "@jupyter-widgets/controls",
          "model_name": "DescriptionStyleModel",
          "model_module_version": "1.5.0",
          "state": {
            "_model_module": "@jupyter-widgets/controls",
            "_model_module_version": "1.5.0",
            "_model_name": "DescriptionStyleModel",
            "_view_count": null,
            "_view_module": "@jupyter-widgets/base",
            "_view_module_version": "1.2.0",
            "_view_name": "StyleView",
            "description_width": ""
          }
        },
        "41052e895b5f42c8846cc2896eafad47": {
          "model_module": "@jupyter-widgets/controls",
          "model_name": "HBoxModel",
          "model_module_version": "1.5.0",
          "state": {
            "_dom_classes": [],
            "_model_module": "@jupyter-widgets/controls",
            "_model_module_version": "1.5.0",
            "_model_name": "HBoxModel",
            "_view_count": null,
            "_view_module": "@jupyter-widgets/controls",
            "_view_module_version": "1.5.0",
            "_view_name": "HBoxView",
            "box_style": "",
            "children": [
              "IPY_MODEL_ea8cdcbf81c34979b40d162e914f35ab",
              "IPY_MODEL_ac5ec100870f4d79b220e73c80f7bc9d",
              "IPY_MODEL_b9056f93eb21401f8860ac57aea83c96"
            ],
            "layout": "IPY_MODEL_58c8b3ed6bc64571aed2f82c6febc0bb"
          }
        },
        "ea8cdcbf81c34979b40d162e914f35ab": {
          "model_module": "@jupyter-widgets/controls",
          "model_name": "HTMLModel",
          "model_module_version": "1.5.0",
          "state": {
            "_dom_classes": [],
            "_model_module": "@jupyter-widgets/controls",
            "_model_module_version": "1.5.0",
            "_model_name": "HTMLModel",
            "_view_count": null,
            "_view_module": "@jupyter-widgets/controls",
            "_view_module_version": "1.5.0",
            "_view_name": "HTMLView",
            "description": "",
            "description_tooltip": null,
            "layout": "IPY_MODEL_e73d28395e1348de927cfc6100610abe",
            "placeholder": "​",
            "style": "IPY_MODEL_494b449cdbfe4f07901c3ae43efb51f4",
            "value": "pytorch_model.bin: 100%"
          }
        },
        "ac5ec100870f4d79b220e73c80f7bc9d": {
          "model_module": "@jupyter-widgets/controls",
          "model_name": "FloatProgressModel",
          "model_module_version": "1.5.0",
          "state": {
            "_dom_classes": [],
            "_model_module": "@jupyter-widgets/controls",
            "_model_module_version": "1.5.0",
            "_model_name": "FloatProgressModel",
            "_view_count": null,
            "_view_module": "@jupyter-widgets/controls",
            "_view_module_version": "1.5.0",
            "_view_name": "ProgressView",
            "bar_style": "success",
            "description": "",
            "description_tooltip": null,
            "layout": "IPY_MODEL_214a1eb187eb4a249155fa40408522e1",
            "max": 435780550,
            "min": 0,
            "orientation": "horizontal",
            "style": "IPY_MODEL_9339ba9680fc485683cdb0f6debb32a1",
            "value": 435780550
          }
        },
        "b9056f93eb21401f8860ac57aea83c96": {
          "model_module": "@jupyter-widgets/controls",
          "model_name": "HTMLModel",
          "model_module_version": "1.5.0",
          "state": {
            "_dom_classes": [],
            "_model_module": "@jupyter-widgets/controls",
            "_model_module_version": "1.5.0",
            "_model_name": "HTMLModel",
            "_view_count": null,
            "_view_module": "@jupyter-widgets/controls",
            "_view_module_version": "1.5.0",
            "_view_name": "HTMLView",
            "description": "",
            "description_tooltip": null,
            "layout": "IPY_MODEL_54afba82c7884af5a1e39b47835679bd",
            "placeholder": "​",
            "style": "IPY_MODEL_42f94a8327294e9cb94763444a025cb7",
            "value": " 436M/436M [00:01&lt;00:00, 243MB/s]"
          }
        },
        "58c8b3ed6bc64571aed2f82c6febc0bb": {
          "model_module": "@jupyter-widgets/base",
          "model_name": "LayoutModel",
          "model_module_version": "1.2.0",
          "state": {
            "_model_module": "@jupyter-widgets/base",
            "_model_module_version": "1.2.0",
            "_model_name": "LayoutModel",
            "_view_count": null,
            "_view_module": "@jupyter-widgets/base",
            "_view_module_version": "1.2.0",
            "_view_name": "LayoutView",
            "align_content": null,
            "align_items": null,
            "align_self": null,
            "border": null,
            "bottom": null,
            "display": null,
            "flex": null,
            "flex_flow": null,
            "grid_area": null,
            "grid_auto_columns": null,
            "grid_auto_flow": null,
            "grid_auto_rows": null,
            "grid_column": null,
            "grid_gap": null,
            "grid_row": null,
            "grid_template_areas": null,
            "grid_template_columns": null,
            "grid_template_rows": null,
            "height": null,
            "justify_content": null,
            "justify_items": null,
            "left": null,
            "margin": null,
            "max_height": null,
            "max_width": null,
            "min_height": null,
            "min_width": null,
            "object_fit": null,
            "object_position": null,
            "order": null,
            "overflow": null,
            "overflow_x": null,
            "overflow_y": null,
            "padding": null,
            "right": null,
            "top": null,
            "visibility": null,
            "width": null
          }
        },
        "e73d28395e1348de927cfc6100610abe": {
          "model_module": "@jupyter-widgets/base",
          "model_name": "LayoutModel",
          "model_module_version": "1.2.0",
          "state": {
            "_model_module": "@jupyter-widgets/base",
            "_model_module_version": "1.2.0",
            "_model_name": "LayoutModel",
            "_view_count": null,
            "_view_module": "@jupyter-widgets/base",
            "_view_module_version": "1.2.0",
            "_view_name": "LayoutView",
            "align_content": null,
            "align_items": null,
            "align_self": null,
            "border": null,
            "bottom": null,
            "display": null,
            "flex": null,
            "flex_flow": null,
            "grid_area": null,
            "grid_auto_columns": null,
            "grid_auto_flow": null,
            "grid_auto_rows": null,
            "grid_column": null,
            "grid_gap": null,
            "grid_row": null,
            "grid_template_areas": null,
            "grid_template_columns": null,
            "grid_template_rows": null,
            "height": null,
            "justify_content": null,
            "justify_items": null,
            "left": null,
            "margin": null,
            "max_height": null,
            "max_width": null,
            "min_height": null,
            "min_width": null,
            "object_fit": null,
            "object_position": null,
            "order": null,
            "overflow": null,
            "overflow_x": null,
            "overflow_y": null,
            "padding": null,
            "right": null,
            "top": null,
            "visibility": null,
            "width": null
          }
        },
        "494b449cdbfe4f07901c3ae43efb51f4": {
          "model_module": "@jupyter-widgets/controls",
          "model_name": "DescriptionStyleModel",
          "model_module_version": "1.5.0",
          "state": {
            "_model_module": "@jupyter-widgets/controls",
            "_model_module_version": "1.5.0",
            "_model_name": "DescriptionStyleModel",
            "_view_count": null,
            "_view_module": "@jupyter-widgets/base",
            "_view_module_version": "1.2.0",
            "_view_name": "StyleView",
            "description_width": ""
          }
        },
        "214a1eb187eb4a249155fa40408522e1": {
          "model_module": "@jupyter-widgets/base",
          "model_name": "LayoutModel",
          "model_module_version": "1.2.0",
          "state": {
            "_model_module": "@jupyter-widgets/base",
            "_model_module_version": "1.2.0",
            "_model_name": "LayoutModel",
            "_view_count": null,
            "_view_module": "@jupyter-widgets/base",
            "_view_module_version": "1.2.0",
            "_view_name": "LayoutView",
            "align_content": null,
            "align_items": null,
            "align_self": null,
            "border": null,
            "bottom": null,
            "display": null,
            "flex": null,
            "flex_flow": null,
            "grid_area": null,
            "grid_auto_columns": null,
            "grid_auto_flow": null,
            "grid_auto_rows": null,
            "grid_column": null,
            "grid_gap": null,
            "grid_row": null,
            "grid_template_areas": null,
            "grid_template_columns": null,
            "grid_template_rows": null,
            "height": null,
            "justify_content": null,
            "justify_items": null,
            "left": null,
            "margin": null,
            "max_height": null,
            "max_width": null,
            "min_height": null,
            "min_width": null,
            "object_fit": null,
            "object_position": null,
            "order": null,
            "overflow": null,
            "overflow_x": null,
            "overflow_y": null,
            "padding": null,
            "right": null,
            "top": null,
            "visibility": null,
            "width": null
          }
        },
        "9339ba9680fc485683cdb0f6debb32a1": {
          "model_module": "@jupyter-widgets/controls",
          "model_name": "ProgressStyleModel",
          "model_module_version": "1.5.0",
          "state": {
            "_model_module": "@jupyter-widgets/controls",
            "_model_module_version": "1.5.0",
            "_model_name": "ProgressStyleModel",
            "_view_count": null,
            "_view_module": "@jupyter-widgets/base",
            "_view_module_version": "1.2.0",
            "_view_name": "StyleView",
            "bar_color": null,
            "description_width": ""
          }
        },
        "54afba82c7884af5a1e39b47835679bd": {
          "model_module": "@jupyter-widgets/base",
          "model_name": "LayoutModel",
          "model_module_version": "1.2.0",
          "state": {
            "_model_module": "@jupyter-widgets/base",
            "_model_module_version": "1.2.0",
            "_model_name": "LayoutModel",
            "_view_count": null,
            "_view_module": "@jupyter-widgets/base",
            "_view_module_version": "1.2.0",
            "_view_name": "LayoutView",
            "align_content": null,
            "align_items": null,
            "align_self": null,
            "border": null,
            "bottom": null,
            "display": null,
            "flex": null,
            "flex_flow": null,
            "grid_area": null,
            "grid_auto_columns": null,
            "grid_auto_flow": null,
            "grid_auto_rows": null,
            "grid_column": null,
            "grid_gap": null,
            "grid_row": null,
            "grid_template_areas": null,
            "grid_template_columns": null,
            "grid_template_rows": null,
            "height": null,
            "justify_content": null,
            "justify_items": null,
            "left": null,
            "margin": null,
            "max_height": null,
            "max_width": null,
            "min_height": null,
            "min_width": null,
            "object_fit": null,
            "object_position": null,
            "order": null,
            "overflow": null,
            "overflow_x": null,
            "overflow_y": null,
            "padding": null,
            "right": null,
            "top": null,
            "visibility": null,
            "width": null
          }
        },
        "42f94a8327294e9cb94763444a025cb7": {
          "model_module": "@jupyter-widgets/controls",
          "model_name": "DescriptionStyleModel",
          "model_module_version": "1.5.0",
          "state": {
            "_model_module": "@jupyter-widgets/controls",
            "_model_module_version": "1.5.0",
            "_model_name": "DescriptionStyleModel",
            "_view_count": null,
            "_view_module": "@jupyter-widgets/base",
            "_view_module_version": "1.2.0",
            "_view_name": "StyleView",
            "description_width": ""
          }
        },
        "bbb7e0d3ac7b4b72a936672246b9f2fc": {
          "model_module": "@jupyter-widgets/controls",
          "model_name": "HBoxModel",
          "model_module_version": "1.5.0",
          "state": {
            "_dom_classes": [],
            "_model_module": "@jupyter-widgets/controls",
            "_model_module_version": "1.5.0",
            "_model_name": "HBoxModel",
            "_view_count": null,
            "_view_module": "@jupyter-widgets/controls",
            "_view_module_version": "1.5.0",
            "_view_name": "HBoxView",
            "box_style": "",
            "children": [
              "IPY_MODEL_2ccd0bea75fe430d975d2fb1efc3ae9a",
              "IPY_MODEL_371fdb1e52014e629bebd72c03137ca5",
              "IPY_MODEL_0b8224cfd6084976a1f126d7a4ed6685"
            ],
            "layout": "IPY_MODEL_f50d09a69fd3486a8c1f7dcfcee7447e"
          }
        },
        "2ccd0bea75fe430d975d2fb1efc3ae9a": {
          "model_module": "@jupyter-widgets/controls",
          "model_name": "HTMLModel",
          "model_module_version": "1.5.0",
          "state": {
            "_dom_classes": [],
            "_model_module": "@jupyter-widgets/controls",
            "_model_module_version": "1.5.0",
            "_model_name": "HTMLModel",
            "_view_count": null,
            "_view_module": "@jupyter-widgets/controls",
            "_view_module_version": "1.5.0",
            "_view_name": "HTMLView",
            "description": "",
            "description_tooltip": null,
            "layout": "IPY_MODEL_2c5e656ceb0c44978463073379f1e028",
            "placeholder": "​",
            "style": "IPY_MODEL_4c025a897496480ebf03dca80637ded8",
            "value": "Downloading builder script: 100%"
          }
        },
        "371fdb1e52014e629bebd72c03137ca5": {
          "model_module": "@jupyter-widgets/controls",
          "model_name": "FloatProgressModel",
          "model_module_version": "1.5.0",
          "state": {
            "_dom_classes": [],
            "_model_module": "@jupyter-widgets/controls",
            "_model_module_version": "1.5.0",
            "_model_name": "FloatProgressModel",
            "_view_count": null,
            "_view_module": "@jupyter-widgets/controls",
            "_view_module_version": "1.5.0",
            "_view_name": "ProgressView",
            "bar_style": "success",
            "description": "",
            "description_tooltip": null,
            "layout": "IPY_MODEL_c9e77e42120447c0b26dd3709168e6bd",
            "max": 6338,
            "min": 0,
            "orientation": "horizontal",
            "style": "IPY_MODEL_17cae7d83eea4019a4d5d159f7e0d8a2",
            "value": 6338
          }
        },
        "0b8224cfd6084976a1f126d7a4ed6685": {
          "model_module": "@jupyter-widgets/controls",
          "model_name": "HTMLModel",
          "model_module_version": "1.5.0",
          "state": {
            "_dom_classes": [],
            "_model_module": "@jupyter-widgets/controls",
            "_model_module_version": "1.5.0",
            "_model_name": "HTMLModel",
            "_view_count": null,
            "_view_module": "@jupyter-widgets/controls",
            "_view_module_version": "1.5.0",
            "_view_name": "HTMLView",
            "description": "",
            "description_tooltip": null,
            "layout": "IPY_MODEL_c6e9b899ecdc4515b59ab4e1132ac955",
            "placeholder": "​",
            "style": "IPY_MODEL_4c29246f689f4fb8bbb9feb5cbec9bc7",
            "value": " 6.34k/6.34k [00:00&lt;00:00, 412kB/s]"
          }
        },
        "f50d09a69fd3486a8c1f7dcfcee7447e": {
          "model_module": "@jupyter-widgets/base",
          "model_name": "LayoutModel",
          "model_module_version": "1.2.0",
          "state": {
            "_model_module": "@jupyter-widgets/base",
            "_model_module_version": "1.2.0",
            "_model_name": "LayoutModel",
            "_view_count": null,
            "_view_module": "@jupyter-widgets/base",
            "_view_module_version": "1.2.0",
            "_view_name": "LayoutView",
            "align_content": null,
            "align_items": null,
            "align_self": null,
            "border": null,
            "bottom": null,
            "display": null,
            "flex": null,
            "flex_flow": null,
            "grid_area": null,
            "grid_auto_columns": null,
            "grid_auto_flow": null,
            "grid_auto_rows": null,
            "grid_column": null,
            "grid_gap": null,
            "grid_row": null,
            "grid_template_areas": null,
            "grid_template_columns": null,
            "grid_template_rows": null,
            "height": null,
            "justify_content": null,
            "justify_items": null,
            "left": null,
            "margin": null,
            "max_height": null,
            "max_width": null,
            "min_height": null,
            "min_width": null,
            "object_fit": null,
            "object_position": null,
            "order": null,
            "overflow": null,
            "overflow_x": null,
            "overflow_y": null,
            "padding": null,
            "right": null,
            "top": null,
            "visibility": null,
            "width": null
          }
        },
        "2c5e656ceb0c44978463073379f1e028": {
          "model_module": "@jupyter-widgets/base",
          "model_name": "LayoutModel",
          "model_module_version": "1.2.0",
          "state": {
            "_model_module": "@jupyter-widgets/base",
            "_model_module_version": "1.2.0",
            "_model_name": "LayoutModel",
            "_view_count": null,
            "_view_module": "@jupyter-widgets/base",
            "_view_module_version": "1.2.0",
            "_view_name": "LayoutView",
            "align_content": null,
            "align_items": null,
            "align_self": null,
            "border": null,
            "bottom": null,
            "display": null,
            "flex": null,
            "flex_flow": null,
            "grid_area": null,
            "grid_auto_columns": null,
            "grid_auto_flow": null,
            "grid_auto_rows": null,
            "grid_column": null,
            "grid_gap": null,
            "grid_row": null,
            "grid_template_areas": null,
            "grid_template_columns": null,
            "grid_template_rows": null,
            "height": null,
            "justify_content": null,
            "justify_items": null,
            "left": null,
            "margin": null,
            "max_height": null,
            "max_width": null,
            "min_height": null,
            "min_width": null,
            "object_fit": null,
            "object_position": null,
            "order": null,
            "overflow": null,
            "overflow_x": null,
            "overflow_y": null,
            "padding": null,
            "right": null,
            "top": null,
            "visibility": null,
            "width": null
          }
        },
        "4c025a897496480ebf03dca80637ded8": {
          "model_module": "@jupyter-widgets/controls",
          "model_name": "DescriptionStyleModel",
          "model_module_version": "1.5.0",
          "state": {
            "_model_module": "@jupyter-widgets/controls",
            "_model_module_version": "1.5.0",
            "_model_name": "DescriptionStyleModel",
            "_view_count": null,
            "_view_module": "@jupyter-widgets/base",
            "_view_module_version": "1.2.0",
            "_view_name": "StyleView",
            "description_width": ""
          }
        },
        "c9e77e42120447c0b26dd3709168e6bd": {
          "model_module": "@jupyter-widgets/base",
          "model_name": "LayoutModel",
          "model_module_version": "1.2.0",
          "state": {
            "_model_module": "@jupyter-widgets/base",
            "_model_module_version": "1.2.0",
            "_model_name": "LayoutModel",
            "_view_count": null,
            "_view_module": "@jupyter-widgets/base",
            "_view_module_version": "1.2.0",
            "_view_name": "LayoutView",
            "align_content": null,
            "align_items": null,
            "align_self": null,
            "border": null,
            "bottom": null,
            "display": null,
            "flex": null,
            "flex_flow": null,
            "grid_area": null,
            "grid_auto_columns": null,
            "grid_auto_flow": null,
            "grid_auto_rows": null,
            "grid_column": null,
            "grid_gap": null,
            "grid_row": null,
            "grid_template_areas": null,
            "grid_template_columns": null,
            "grid_template_rows": null,
            "height": null,
            "justify_content": null,
            "justify_items": null,
            "left": null,
            "margin": null,
            "max_height": null,
            "max_width": null,
            "min_height": null,
            "min_width": null,
            "object_fit": null,
            "object_position": null,
            "order": null,
            "overflow": null,
            "overflow_x": null,
            "overflow_y": null,
            "padding": null,
            "right": null,
            "top": null,
            "visibility": null,
            "width": null
          }
        },
        "17cae7d83eea4019a4d5d159f7e0d8a2": {
          "model_module": "@jupyter-widgets/controls",
          "model_name": "ProgressStyleModel",
          "model_module_version": "1.5.0",
          "state": {
            "_model_module": "@jupyter-widgets/controls",
            "_model_module_version": "1.5.0",
            "_model_name": "ProgressStyleModel",
            "_view_count": null,
            "_view_module": "@jupyter-widgets/base",
            "_view_module_version": "1.2.0",
            "_view_name": "StyleView",
            "bar_color": null,
            "description_width": ""
          }
        },
        "c6e9b899ecdc4515b59ab4e1132ac955": {
          "model_module": "@jupyter-widgets/base",
          "model_name": "LayoutModel",
          "model_module_version": "1.2.0",
          "state": {
            "_model_module": "@jupyter-widgets/base",
            "_model_module_version": "1.2.0",
            "_model_name": "LayoutModel",
            "_view_count": null,
            "_view_module": "@jupyter-widgets/base",
            "_view_module_version": "1.2.0",
            "_view_name": "LayoutView",
            "align_content": null,
            "align_items": null,
            "align_self": null,
            "border": null,
            "bottom": null,
            "display": null,
            "flex": null,
            "flex_flow": null,
            "grid_area": null,
            "grid_auto_columns": null,
            "grid_auto_flow": null,
            "grid_auto_rows": null,
            "grid_column": null,
            "grid_gap": null,
            "grid_row": null,
            "grid_template_areas": null,
            "grid_template_columns": null,
            "grid_template_rows": null,
            "height": null,
            "justify_content": null,
            "justify_items": null,
            "left": null,
            "margin": null,
            "max_height": null,
            "max_width": null,
            "min_height": null,
            "min_width": null,
            "object_fit": null,
            "object_position": null,
            "order": null,
            "overflow": null,
            "overflow_x": null,
            "overflow_y": null,
            "padding": null,
            "right": null,
            "top": null,
            "visibility": null,
            "width": null
          }
        },
        "4c29246f689f4fb8bbb9feb5cbec9bc7": {
          "model_module": "@jupyter-widgets/controls",
          "model_name": "DescriptionStyleModel",
          "model_module_version": "1.5.0",
          "state": {
            "_model_module": "@jupyter-widgets/controls",
            "_model_module_version": "1.5.0",
            "_model_name": "DescriptionStyleModel",
            "_view_count": null,
            "_view_module": "@jupyter-widgets/base",
            "_view_module_version": "1.2.0",
            "_view_name": "StyleView",
            "description_width": ""
          }
        }
      }
    }
  },
  "cells": [
    {
      "cell_type": "markdown",
      "metadata": {
        "id": "view-in-github",
        "colab_type": "text"
      },
      "source": [
        "<a href=\"https://colab.research.google.com/github/matdcp/Data-dreamers-/blob/main/TRANSFORMER_ufficiale.ipynb\" target=\"_parent\"><img src=\"https://colab.research.google.com/assets/colab-badge.svg\" alt=\"Open In Colab\"/></a>"
      ]
    },
    {
      "cell_type": "markdown",
      "source": [
        "#Upload cleaned dataset"
      ],
      "metadata": {
        "id": "DyhCMmbxDoxi"
      }
    },
    {
      "cell_type": "markdown",
      "source": [
        "In this section, we begin by preparing the dataset for processing and modeling. The raw data consists of annotated text where each token is associated with a specific label. We perform some basic preprocessing steps, such as calculating the sequence length, which is defined as the difference between the \"Start\" and \"End\" positions for each token in the text.\n",
        "\n",
        "We then inspect the sequence length distribution using the df['sequence_length'].describe() function. The resulting statistics show that **the average sequence length is approximately 6.59 tokens, with the majority of sequences ranging from 4 to 9 tokens in length. The longest sequences have a length of 32 tokens**. This distribution helps us understand the typical size of the text sequences in our dataset, ensuring that the tokenizer and model configurations are optimized for handling these sequences during training.\n",
        "\n",
        "Such analysis is crucial for tasks like padding and truncation, allowing us to set appropriate maximum sequence lengths for our model, thus ensuring efficient training and evaluation processes."
      ],
      "metadata": {
        "id": "v4xxglRWg9Hn"
      }
    },
    {
      "cell_type": "code",
      "execution_count": null,
      "metadata": {
        "colab": {
          "base_uri": "https://localhost:8080/",
          "height": 74
        },
        "id": "UQPG8v5WDkiv",
        "outputId": "0b33e712-65c2-4a3a-b6c5-82a4f5d7aefe"
      },
      "outputs": [
        {
          "output_type": "display_data",
          "data": {
            "text/plain": [
              "<IPython.core.display.HTML object>"
            ],
            "text/html": [
              "\n",
              "     <input type=\"file\" id=\"files-ecd1b000-7672-4c9f-85c1-ce7e5d2dffb0\" name=\"files[]\" multiple disabled\n",
              "        style=\"border:none\" />\n",
              "     <output id=\"result-ecd1b000-7672-4c9f-85c1-ce7e5d2dffb0\">\n",
              "      Upload widget is only available when the cell has been executed in the\n",
              "      current browser session. Please rerun this cell to enable.\n",
              "      </output>\n",
              "      <script>// Copyright 2017 Google LLC\n",
              "//\n",
              "// Licensed under the Apache License, Version 2.0 (the \"License\");\n",
              "// you may not use this file except in compliance with the License.\n",
              "// You may obtain a copy of the License at\n",
              "//\n",
              "//      http://www.apache.org/licenses/LICENSE-2.0\n",
              "//\n",
              "// Unless required by applicable law or agreed to in writing, software\n",
              "// distributed under the License is distributed on an \"AS IS\" BASIS,\n",
              "// WITHOUT WARRANTIES OR CONDITIONS OF ANY KIND, either express or implied.\n",
              "// See the License for the specific language governing permissions and\n",
              "// limitations under the License.\n",
              "\n",
              "/**\n",
              " * @fileoverview Helpers for google.colab Python module.\n",
              " */\n",
              "(function(scope) {\n",
              "function span(text, styleAttributes = {}) {\n",
              "  const element = document.createElement('span');\n",
              "  element.textContent = text;\n",
              "  for (const key of Object.keys(styleAttributes)) {\n",
              "    element.style[key] = styleAttributes[key];\n",
              "  }\n",
              "  return element;\n",
              "}\n",
              "\n",
              "// Max number of bytes which will be uploaded at a time.\n",
              "const MAX_PAYLOAD_SIZE = 100 * 1024;\n",
              "\n",
              "function _uploadFiles(inputId, outputId) {\n",
              "  const steps = uploadFilesStep(inputId, outputId);\n",
              "  const outputElement = document.getElementById(outputId);\n",
              "  // Cache steps on the outputElement to make it available for the next call\n",
              "  // to uploadFilesContinue from Python.\n",
              "  outputElement.steps = steps;\n",
              "\n",
              "  return _uploadFilesContinue(outputId);\n",
              "}\n",
              "\n",
              "// This is roughly an async generator (not supported in the browser yet),\n",
              "// where there are multiple asynchronous steps and the Python side is going\n",
              "// to poll for completion of each step.\n",
              "// This uses a Promise to block the python side on completion of each step,\n",
              "// then passes the result of the previous step as the input to the next step.\n",
              "function _uploadFilesContinue(outputId) {\n",
              "  const outputElement = document.getElementById(outputId);\n",
              "  const steps = outputElement.steps;\n",
              "\n",
              "  const next = steps.next(outputElement.lastPromiseValue);\n",
              "  return Promise.resolve(next.value.promise).then((value) => {\n",
              "    // Cache the last promise value to make it available to the next\n",
              "    // step of the generator.\n",
              "    outputElement.lastPromiseValue = value;\n",
              "    return next.value.response;\n",
              "  });\n",
              "}\n",
              "\n",
              "/**\n",
              " * Generator function which is called between each async step of the upload\n",
              " * process.\n",
              " * @param {string} inputId Element ID of the input file picker element.\n",
              " * @param {string} outputId Element ID of the output display.\n",
              " * @return {!Iterable<!Object>} Iterable of next steps.\n",
              " */\n",
              "function* uploadFilesStep(inputId, outputId) {\n",
              "  const inputElement = document.getElementById(inputId);\n",
              "  inputElement.disabled = false;\n",
              "\n",
              "  const outputElement = document.getElementById(outputId);\n",
              "  outputElement.innerHTML = '';\n",
              "\n",
              "  const pickedPromise = new Promise((resolve) => {\n",
              "    inputElement.addEventListener('change', (e) => {\n",
              "      resolve(e.target.files);\n",
              "    });\n",
              "  });\n",
              "\n",
              "  const cancel = document.createElement('button');\n",
              "  inputElement.parentElement.appendChild(cancel);\n",
              "  cancel.textContent = 'Cancel upload';\n",
              "  const cancelPromise = new Promise((resolve) => {\n",
              "    cancel.onclick = () => {\n",
              "      resolve(null);\n",
              "    };\n",
              "  });\n",
              "\n",
              "  // Wait for the user to pick the files.\n",
              "  const files = yield {\n",
              "    promise: Promise.race([pickedPromise, cancelPromise]),\n",
              "    response: {\n",
              "      action: 'starting',\n",
              "    }\n",
              "  };\n",
              "\n",
              "  cancel.remove();\n",
              "\n",
              "  // Disable the input element since further picks are not allowed.\n",
              "  inputElement.disabled = true;\n",
              "\n",
              "  if (!files) {\n",
              "    return {\n",
              "      response: {\n",
              "        action: 'complete',\n",
              "      }\n",
              "    };\n",
              "  }\n",
              "\n",
              "  for (const file of files) {\n",
              "    const li = document.createElement('li');\n",
              "    li.append(span(file.name, {fontWeight: 'bold'}));\n",
              "    li.append(span(\n",
              "        `(${file.type || 'n/a'}) - ${file.size} bytes, ` +\n",
              "        `last modified: ${\n",
              "            file.lastModifiedDate ? file.lastModifiedDate.toLocaleDateString() :\n",
              "                                    'n/a'} - `));\n",
              "    const percent = span('0% done');\n",
              "    li.appendChild(percent);\n",
              "\n",
              "    outputElement.appendChild(li);\n",
              "\n",
              "    const fileDataPromise = new Promise((resolve) => {\n",
              "      const reader = new FileReader();\n",
              "      reader.onload = (e) => {\n",
              "        resolve(e.target.result);\n",
              "      };\n",
              "      reader.readAsArrayBuffer(file);\n",
              "    });\n",
              "    // Wait for the data to be ready.\n",
              "    let fileData = yield {\n",
              "      promise: fileDataPromise,\n",
              "      response: {\n",
              "        action: 'continue',\n",
              "      }\n",
              "    };\n",
              "\n",
              "    // Use a chunked sending to avoid message size limits. See b/62115660.\n",
              "    let position = 0;\n",
              "    do {\n",
              "      const length = Math.min(fileData.byteLength - position, MAX_PAYLOAD_SIZE);\n",
              "      const chunk = new Uint8Array(fileData, position, length);\n",
              "      position += length;\n",
              "\n",
              "      const base64 = btoa(String.fromCharCode.apply(null, chunk));\n",
              "      yield {\n",
              "        response: {\n",
              "          action: 'append',\n",
              "          file: file.name,\n",
              "          data: base64,\n",
              "        },\n",
              "      };\n",
              "\n",
              "      let percentDone = fileData.byteLength === 0 ?\n",
              "          100 :\n",
              "          Math.round((position / fileData.byteLength) * 100);\n",
              "      percent.textContent = `${percentDone}% done`;\n",
              "\n",
              "    } while (position < fileData.byteLength);\n",
              "  }\n",
              "\n",
              "  // All done.\n",
              "  yield {\n",
              "    response: {\n",
              "      action: 'complete',\n",
              "    }\n",
              "  };\n",
              "}\n",
              "\n",
              "scope.google = scope.google || {};\n",
              "scope.google.colab = scope.google.colab || {};\n",
              "scope.google.colab._files = {\n",
              "  _uploadFiles,\n",
              "  _uploadFilesContinue,\n",
              "};\n",
              "})(self);\n",
              "</script> "
            ]
          },
          "metadata": {}
        },
        {
          "output_type": "stream",
          "name": "stdout",
          "text": [
            "Saving cleaned_dataset_NN.csv to cleaned_dataset_NN.csv\n"
          ]
        }
      ],
      "source": [
        "import pandas as pd\n",
        "from google.colab import files\n",
        "\n",
        "# Carica il file CSV\n",
        "uploaded = files.upload()"
      ]
    },
    {
      "cell_type": "code",
      "source": [
        "# Leggi il file CSV con Pandas\n",
        "for filename in uploaded.keys():\n",
        "    df = pd.read_csv(filename)\n",
        "\n",
        "df.head()"
      ],
      "metadata": {
        "colab": {
          "base_uri": "https://localhost:8080/",
          "height": 206
        },
        "id": "uM62inynEAXz",
        "outputId": "de55d781-a249-48fb-a5b1-4a86f3d2a5b3"
      },
      "execution_count": null,
      "outputs": [
        {
          "output_type": "execute_result",
          "data": {
            "text/plain": [
              "             id  Start  End                     Label\n",
              "0   Ventricular      0   11  B-Multi-tissue_structure\n",
              "1  fibrillation     12   24                         O\n",
              "2          long     32   36                         O\n",
              "3            QT     37   39                         O\n",
              "4      syndrome     40   48                         O"
            ],
            "text/html": [
              "\n",
              "  <div id=\"df-4d8d4b9a-3fbe-499d-986a-2a81640a96c9\" class=\"colab-df-container\">\n",
              "    <div>\n",
              "<style scoped>\n",
              "    .dataframe tbody tr th:only-of-type {\n",
              "        vertical-align: middle;\n",
              "    }\n",
              "\n",
              "    .dataframe tbody tr th {\n",
              "        vertical-align: top;\n",
              "    }\n",
              "\n",
              "    .dataframe thead th {\n",
              "        text-align: right;\n",
              "    }\n",
              "</style>\n",
              "<table border=\"1\" class=\"dataframe\">\n",
              "  <thead>\n",
              "    <tr style=\"text-align: right;\">\n",
              "      <th></th>\n",
              "      <th>id</th>\n",
              "      <th>Start</th>\n",
              "      <th>End</th>\n",
              "      <th>Label</th>\n",
              "    </tr>\n",
              "  </thead>\n",
              "  <tbody>\n",
              "    <tr>\n",
              "      <th>0</th>\n",
              "      <td>Ventricular</td>\n",
              "      <td>0</td>\n",
              "      <td>11</td>\n",
              "      <td>B-Multi-tissue_structure</td>\n",
              "    </tr>\n",
              "    <tr>\n",
              "      <th>1</th>\n",
              "      <td>fibrillation</td>\n",
              "      <td>12</td>\n",
              "      <td>24</td>\n",
              "      <td>O</td>\n",
              "    </tr>\n",
              "    <tr>\n",
              "      <th>2</th>\n",
              "      <td>long</td>\n",
              "      <td>32</td>\n",
              "      <td>36</td>\n",
              "      <td>O</td>\n",
              "    </tr>\n",
              "    <tr>\n",
              "      <th>3</th>\n",
              "      <td>QT</td>\n",
              "      <td>37</td>\n",
              "      <td>39</td>\n",
              "      <td>O</td>\n",
              "    </tr>\n",
              "    <tr>\n",
              "      <th>4</th>\n",
              "      <td>syndrome</td>\n",
              "      <td>40</td>\n",
              "      <td>48</td>\n",
              "      <td>O</td>\n",
              "    </tr>\n",
              "  </tbody>\n",
              "</table>\n",
              "</div>\n",
              "    <div class=\"colab-df-buttons\">\n",
              "\n",
              "  <div class=\"colab-df-container\">\n",
              "    <button class=\"colab-df-convert\" onclick=\"convertToInteractive('df-4d8d4b9a-3fbe-499d-986a-2a81640a96c9')\"\n",
              "            title=\"Convert this dataframe to an interactive table.\"\n",
              "            style=\"display:none;\">\n",
              "\n",
              "  <svg xmlns=\"http://www.w3.org/2000/svg\" height=\"24px\" viewBox=\"0 -960 960 960\">\n",
              "    <path d=\"M120-120v-720h720v720H120Zm60-500h600v-160H180v160Zm220 220h160v-160H400v160Zm0 220h160v-160H400v160ZM180-400h160v-160H180v160Zm440 0h160v-160H620v160ZM180-180h160v-160H180v160Zm440 0h160v-160H620v160Z\"/>\n",
              "  </svg>\n",
              "    </button>\n",
              "\n",
              "  <style>\n",
              "    .colab-df-container {\n",
              "      display:flex;\n",
              "      gap: 12px;\n",
              "    }\n",
              "\n",
              "    .colab-df-convert {\n",
              "      background-color: #E8F0FE;\n",
              "      border: none;\n",
              "      border-radius: 50%;\n",
              "      cursor: pointer;\n",
              "      display: none;\n",
              "      fill: #1967D2;\n",
              "      height: 32px;\n",
              "      padding: 0 0 0 0;\n",
              "      width: 32px;\n",
              "    }\n",
              "\n",
              "    .colab-df-convert:hover {\n",
              "      background-color: #E2EBFA;\n",
              "      box-shadow: 0px 1px 2px rgba(60, 64, 67, 0.3), 0px 1px 3px 1px rgba(60, 64, 67, 0.15);\n",
              "      fill: #174EA6;\n",
              "    }\n",
              "\n",
              "    .colab-df-buttons div {\n",
              "      margin-bottom: 4px;\n",
              "    }\n",
              "\n",
              "    [theme=dark] .colab-df-convert {\n",
              "      background-color: #3B4455;\n",
              "      fill: #D2E3FC;\n",
              "    }\n",
              "\n",
              "    [theme=dark] .colab-df-convert:hover {\n",
              "      background-color: #434B5C;\n",
              "      box-shadow: 0px 1px 3px 1px rgba(0, 0, 0, 0.15);\n",
              "      filter: drop-shadow(0px 1px 2px rgba(0, 0, 0, 0.3));\n",
              "      fill: #FFFFFF;\n",
              "    }\n",
              "  </style>\n",
              "\n",
              "    <script>\n",
              "      const buttonEl =\n",
              "        document.querySelector('#df-4d8d4b9a-3fbe-499d-986a-2a81640a96c9 button.colab-df-convert');\n",
              "      buttonEl.style.display =\n",
              "        google.colab.kernel.accessAllowed ? 'block' : 'none';\n",
              "\n",
              "      async function convertToInteractive(key) {\n",
              "        const element = document.querySelector('#df-4d8d4b9a-3fbe-499d-986a-2a81640a96c9');\n",
              "        const dataTable =\n",
              "          await google.colab.kernel.invokeFunction('convertToInteractive',\n",
              "                                                    [key], {});\n",
              "        if (!dataTable) return;\n",
              "\n",
              "        const docLinkHtml = 'Like what you see? Visit the ' +\n",
              "          '<a target=\"_blank\" href=https://colab.research.google.com/notebooks/data_table.ipynb>data table notebook</a>'\n",
              "          + ' to learn more about interactive tables.';\n",
              "        element.innerHTML = '';\n",
              "        dataTable['output_type'] = 'display_data';\n",
              "        await google.colab.output.renderOutput(dataTable, element);\n",
              "        const docLink = document.createElement('div');\n",
              "        docLink.innerHTML = docLinkHtml;\n",
              "        element.appendChild(docLink);\n",
              "      }\n",
              "    </script>\n",
              "  </div>\n",
              "\n",
              "\n",
              "<div id=\"df-aef46b7c-110c-46c0-8ee6-f813aa60693c\">\n",
              "  <button class=\"colab-df-quickchart\" onclick=\"quickchart('df-aef46b7c-110c-46c0-8ee6-f813aa60693c')\"\n",
              "            title=\"Suggest charts\"\n",
              "            style=\"display:none;\">\n",
              "\n",
              "<svg xmlns=\"http://www.w3.org/2000/svg\" height=\"24px\"viewBox=\"0 0 24 24\"\n",
              "     width=\"24px\">\n",
              "    <g>\n",
              "        <path d=\"M19 3H5c-1.1 0-2 .9-2 2v14c0 1.1.9 2 2 2h14c1.1 0 2-.9 2-2V5c0-1.1-.9-2-2-2zM9 17H7v-7h2v7zm4 0h-2V7h2v10zm4 0h-2v-4h2v4z\"/>\n",
              "    </g>\n",
              "</svg>\n",
              "  </button>\n",
              "\n",
              "<style>\n",
              "  .colab-df-quickchart {\n",
              "      --bg-color: #E8F0FE;\n",
              "      --fill-color: #1967D2;\n",
              "      --hover-bg-color: #E2EBFA;\n",
              "      --hover-fill-color: #174EA6;\n",
              "      --disabled-fill-color: #AAA;\n",
              "      --disabled-bg-color: #DDD;\n",
              "  }\n",
              "\n",
              "  [theme=dark] .colab-df-quickchart {\n",
              "      --bg-color: #3B4455;\n",
              "      --fill-color: #D2E3FC;\n",
              "      --hover-bg-color: #434B5C;\n",
              "      --hover-fill-color: #FFFFFF;\n",
              "      --disabled-bg-color: #3B4455;\n",
              "      --disabled-fill-color: #666;\n",
              "  }\n",
              "\n",
              "  .colab-df-quickchart {\n",
              "    background-color: var(--bg-color);\n",
              "    border: none;\n",
              "    border-radius: 50%;\n",
              "    cursor: pointer;\n",
              "    display: none;\n",
              "    fill: var(--fill-color);\n",
              "    height: 32px;\n",
              "    padding: 0;\n",
              "    width: 32px;\n",
              "  }\n",
              "\n",
              "  .colab-df-quickchart:hover {\n",
              "    background-color: var(--hover-bg-color);\n",
              "    box-shadow: 0 1px 2px rgba(60, 64, 67, 0.3), 0 1px 3px 1px rgba(60, 64, 67, 0.15);\n",
              "    fill: var(--button-hover-fill-color);\n",
              "  }\n",
              "\n",
              "  .colab-df-quickchart-complete:disabled,\n",
              "  .colab-df-quickchart-complete:disabled:hover {\n",
              "    background-color: var(--disabled-bg-color);\n",
              "    fill: var(--disabled-fill-color);\n",
              "    box-shadow: none;\n",
              "  }\n",
              "\n",
              "  .colab-df-spinner {\n",
              "    border: 2px solid var(--fill-color);\n",
              "    border-color: transparent;\n",
              "    border-bottom-color: var(--fill-color);\n",
              "    animation:\n",
              "      spin 1s steps(1) infinite;\n",
              "  }\n",
              "\n",
              "  @keyframes spin {\n",
              "    0% {\n",
              "      border-color: transparent;\n",
              "      border-bottom-color: var(--fill-color);\n",
              "      border-left-color: var(--fill-color);\n",
              "    }\n",
              "    20% {\n",
              "      border-color: transparent;\n",
              "      border-left-color: var(--fill-color);\n",
              "      border-top-color: var(--fill-color);\n",
              "    }\n",
              "    30% {\n",
              "      border-color: transparent;\n",
              "      border-left-color: var(--fill-color);\n",
              "      border-top-color: var(--fill-color);\n",
              "      border-right-color: var(--fill-color);\n",
              "    }\n",
              "    40% {\n",
              "      border-color: transparent;\n",
              "      border-right-color: var(--fill-color);\n",
              "      border-top-color: var(--fill-color);\n",
              "    }\n",
              "    60% {\n",
              "      border-color: transparent;\n",
              "      border-right-color: var(--fill-color);\n",
              "    }\n",
              "    80% {\n",
              "      border-color: transparent;\n",
              "      border-right-color: var(--fill-color);\n",
              "      border-bottom-color: var(--fill-color);\n",
              "    }\n",
              "    90% {\n",
              "      border-color: transparent;\n",
              "      border-bottom-color: var(--fill-color);\n",
              "    }\n",
              "  }\n",
              "</style>\n",
              "\n",
              "  <script>\n",
              "    async function quickchart(key) {\n",
              "      const quickchartButtonEl =\n",
              "        document.querySelector('#' + key + ' button');\n",
              "      quickchartButtonEl.disabled = true;  // To prevent multiple clicks.\n",
              "      quickchartButtonEl.classList.add('colab-df-spinner');\n",
              "      try {\n",
              "        const charts = await google.colab.kernel.invokeFunction(\n",
              "            'suggestCharts', [key], {});\n",
              "      } catch (error) {\n",
              "        console.error('Error during call to suggestCharts:', error);\n",
              "      }\n",
              "      quickchartButtonEl.classList.remove('colab-df-spinner');\n",
              "      quickchartButtonEl.classList.add('colab-df-quickchart-complete');\n",
              "    }\n",
              "    (() => {\n",
              "      let quickchartButtonEl =\n",
              "        document.querySelector('#df-aef46b7c-110c-46c0-8ee6-f813aa60693c button');\n",
              "      quickchartButtonEl.style.display =\n",
              "        google.colab.kernel.accessAllowed ? 'block' : 'none';\n",
              "    })();\n",
              "  </script>\n",
              "</div>\n",
              "\n",
              "    </div>\n",
              "  </div>\n"
            ],
            "application/vnd.google.colaboratory.intrinsic+json": {
              "type": "dataframe",
              "variable_name": "df",
              "summary": "{\n  \"name\": \"df\",\n  \"rows\": 60979,\n  \"fields\": [\n    {\n      \"column\": \"id\",\n      \"properties\": {\n        \"dtype\": \"category\",\n        \"num_unique_values\": 12796,\n        \"samples\": [\n          \"transection\",\n          \"KAL\",\n          \"conclusions\"\n        ],\n        \"semantic_type\": \"\",\n        \"description\": \"\"\n      }\n    },\n    {\n      \"column\": \"Start\",\n      \"properties\": {\n        \"dtype\": \"number\",\n        \"std\": 2268,\n        \"min\": 0,\n        \"max\": 20388,\n        \"num_unique_values\": 7678,\n        \"samples\": [\n          12320,\n          7067,\n          1106\n        ],\n        \"semantic_type\": \"\",\n        \"description\": \"\"\n      }\n    },\n    {\n      \"column\": \"End\",\n      \"properties\": {\n        \"dtype\": \"number\",\n        \"std\": 2268,\n        \"min\": 1,\n        \"max\": 20400,\n        \"num_unique_values\": 7665,\n        \"samples\": [\n          7495,\n          1365,\n          8\n        ],\n        \"semantic_type\": \"\",\n        \"description\": \"\"\n      }\n    },\n    {\n      \"column\": \"Label\",\n      \"properties\": {\n        \"dtype\": \"category\",\n        \"num_unique_values\": 23,\n        \"samples\": [\n          \"I-Organism_substance\",\n          \"I-Cell\",\n          \"B-Multi-tissue_structure\"\n        ],\n        \"semantic_type\": \"\",\n        \"description\": \"\"\n      }\n    }\n  ]\n}"
            }
          },
          "metadata": {},
          "execution_count": 2
        }
      ]
    },
    {
      "cell_type": "code",
      "source": [
        "import os\n",
        "os.environ[\"WANDB_DISABLED\"] = \"true\"\n"
      ],
      "metadata": {
        "id": "Ujkl_Ls6VVjP"
      },
      "execution_count": null,
      "outputs": []
    },
    {
      "cell_type": "code",
      "source": [
        "pip install transformers"
      ],
      "metadata": {
        "colab": {
          "base_uri": "https://localhost:8080/"
        },
        "id": "TOd90EqSLnLA",
        "outputId": "aff10f97-1ebb-4d1f-fddc-2c8297a9af95"
      },
      "execution_count": null,
      "outputs": [
        {
          "output_type": "stream",
          "name": "stdout",
          "text": [
            "Requirement already satisfied: transformers in /usr/local/lib/python3.10/dist-packages (4.46.3)\n",
            "Requirement already satisfied: filelock in /usr/local/lib/python3.10/dist-packages (from transformers) (3.16.1)\n",
            "Requirement already satisfied: huggingface-hub<1.0,>=0.23.2 in /usr/local/lib/python3.10/dist-packages (from transformers) (0.26.5)\n",
            "Requirement already satisfied: numpy>=1.17 in /usr/local/lib/python3.10/dist-packages (from transformers) (1.26.4)\n",
            "Requirement already satisfied: packaging>=20.0 in /usr/local/lib/python3.10/dist-packages (from transformers) (24.2)\n",
            "Requirement already satisfied: pyyaml>=5.1 in /usr/local/lib/python3.10/dist-packages (from transformers) (6.0.2)\n",
            "Requirement already satisfied: regex!=2019.12.17 in /usr/local/lib/python3.10/dist-packages (from transformers) (2024.9.11)\n",
            "Requirement already satisfied: requests in /usr/local/lib/python3.10/dist-packages (from transformers) (2.32.3)\n",
            "Requirement already satisfied: tokenizers<0.21,>=0.20 in /usr/local/lib/python3.10/dist-packages (from transformers) (0.20.3)\n",
            "Requirement already satisfied: safetensors>=0.4.1 in /usr/local/lib/python3.10/dist-packages (from transformers) (0.4.5)\n",
            "Requirement already satisfied: tqdm>=4.27 in /usr/local/lib/python3.10/dist-packages (from transformers) (4.66.6)\n",
            "Requirement already satisfied: fsspec>=2023.5.0 in /usr/local/lib/python3.10/dist-packages (from huggingface-hub<1.0,>=0.23.2->transformers) (2024.10.0)\n",
            "Requirement already satisfied: typing-extensions>=3.7.4.3 in /usr/local/lib/python3.10/dist-packages (from huggingface-hub<1.0,>=0.23.2->transformers) (4.12.2)\n",
            "Requirement already satisfied: charset-normalizer<4,>=2 in /usr/local/lib/python3.10/dist-packages (from requests->transformers) (3.4.0)\n",
            "Requirement already satisfied: idna<4,>=2.5 in /usr/local/lib/python3.10/dist-packages (from requests->transformers) (3.10)\n",
            "Requirement already satisfied: urllib3<3,>=1.21.1 in /usr/local/lib/python3.10/dist-packages (from requests->transformers) (2.2.3)\n",
            "Requirement already satisfied: certifi>=2017.4.17 in /usr/local/lib/python3.10/dist-packages (from requests->transformers) (2024.8.30)\n"
          ]
        }
      ]
    },
    {
      "cell_type": "code",
      "source": [
        "!pip install datasets\n"
      ],
      "metadata": {
        "colab": {
          "base_uri": "https://localhost:8080/"
        },
        "id": "sVwRaNKlM54T",
        "outputId": "54bc5d0b-c12b-4490-d722-d731e8a080cd"
      },
      "execution_count": null,
      "outputs": [
        {
          "output_type": "stream",
          "name": "stdout",
          "text": [
            "Collecting datasets\n",
            "  Downloading datasets-3.2.0-py3-none-any.whl.metadata (20 kB)\n",
            "Requirement already satisfied: filelock in /usr/local/lib/python3.10/dist-packages (from datasets) (3.16.1)\n",
            "Requirement already satisfied: numpy>=1.17 in /usr/local/lib/python3.10/dist-packages (from datasets) (1.26.4)\n",
            "Requirement already satisfied: pyarrow>=15.0.0 in /usr/local/lib/python3.10/dist-packages (from datasets) (17.0.0)\n",
            "Collecting dill<0.3.9,>=0.3.0 (from datasets)\n",
            "  Downloading dill-0.3.8-py3-none-any.whl.metadata (10 kB)\n",
            "Requirement already satisfied: pandas in /usr/local/lib/python3.10/dist-packages (from datasets) (2.2.2)\n",
            "Requirement already satisfied: requests>=2.32.2 in /usr/local/lib/python3.10/dist-packages (from datasets) (2.32.3)\n",
            "Requirement already satisfied: tqdm>=4.66.3 in /usr/local/lib/python3.10/dist-packages (from datasets) (4.66.6)\n",
            "Collecting xxhash (from datasets)\n",
            "  Downloading xxhash-3.5.0-cp310-cp310-manylinux_2_17_x86_64.manylinux2014_x86_64.whl.metadata (12 kB)\n",
            "Collecting multiprocess<0.70.17 (from datasets)\n",
            "  Downloading multiprocess-0.70.16-py310-none-any.whl.metadata (7.2 kB)\n",
            "Collecting fsspec<=2024.9.0,>=2023.1.0 (from fsspec[http]<=2024.9.0,>=2023.1.0->datasets)\n",
            "  Downloading fsspec-2024.9.0-py3-none-any.whl.metadata (11 kB)\n",
            "Requirement already satisfied: aiohttp in /usr/local/lib/python3.10/dist-packages (from datasets) (3.11.10)\n",
            "Requirement already satisfied: huggingface-hub>=0.23.0 in /usr/local/lib/python3.10/dist-packages (from datasets) (0.26.5)\n",
            "Requirement already satisfied: packaging in /usr/local/lib/python3.10/dist-packages (from datasets) (24.2)\n",
            "Requirement already satisfied: pyyaml>=5.1 in /usr/local/lib/python3.10/dist-packages (from datasets) (6.0.2)\n",
            "Requirement already satisfied: aiohappyeyeballs>=2.3.0 in /usr/local/lib/python3.10/dist-packages (from aiohttp->datasets) (2.4.4)\n",
            "Requirement already satisfied: aiosignal>=1.1.2 in /usr/local/lib/python3.10/dist-packages (from aiohttp->datasets) (1.3.1)\n",
            "Requirement already satisfied: async-timeout<6.0,>=4.0 in /usr/local/lib/python3.10/dist-packages (from aiohttp->datasets) (4.0.3)\n",
            "Requirement already satisfied: attrs>=17.3.0 in /usr/local/lib/python3.10/dist-packages (from aiohttp->datasets) (24.2.0)\n",
            "Requirement already satisfied: frozenlist>=1.1.1 in /usr/local/lib/python3.10/dist-packages (from aiohttp->datasets) (1.5.0)\n",
            "Requirement already satisfied: multidict<7.0,>=4.5 in /usr/local/lib/python3.10/dist-packages (from aiohttp->datasets) (6.1.0)\n",
            "Requirement already satisfied: propcache>=0.2.0 in /usr/local/lib/python3.10/dist-packages (from aiohttp->datasets) (0.2.1)\n",
            "Requirement already satisfied: yarl<2.0,>=1.17.0 in /usr/local/lib/python3.10/dist-packages (from aiohttp->datasets) (1.18.3)\n",
            "Requirement already satisfied: typing-extensions>=3.7.4.3 in /usr/local/lib/python3.10/dist-packages (from huggingface-hub>=0.23.0->datasets) (4.12.2)\n",
            "Requirement already satisfied: charset-normalizer<4,>=2 in /usr/local/lib/python3.10/dist-packages (from requests>=2.32.2->datasets) (3.4.0)\n",
            "Requirement already satisfied: idna<4,>=2.5 in /usr/local/lib/python3.10/dist-packages (from requests>=2.32.2->datasets) (3.10)\n",
            "Requirement already satisfied: urllib3<3,>=1.21.1 in /usr/local/lib/python3.10/dist-packages (from requests>=2.32.2->datasets) (2.2.3)\n",
            "Requirement already satisfied: certifi>=2017.4.17 in /usr/local/lib/python3.10/dist-packages (from requests>=2.32.2->datasets) (2024.8.30)\n",
            "Requirement already satisfied: python-dateutil>=2.8.2 in /usr/local/lib/python3.10/dist-packages (from pandas->datasets) (2.8.2)\n",
            "Requirement already satisfied: pytz>=2020.1 in /usr/local/lib/python3.10/dist-packages (from pandas->datasets) (2024.2)\n",
            "Requirement already satisfied: tzdata>=2022.7 in /usr/local/lib/python3.10/dist-packages (from pandas->datasets) (2024.2)\n",
            "Requirement already satisfied: six>=1.5 in /usr/local/lib/python3.10/dist-packages (from python-dateutil>=2.8.2->pandas->datasets) (1.17.0)\n",
            "Downloading datasets-3.2.0-py3-none-any.whl (480 kB)\n",
            "\u001b[2K   \u001b[90m━━━━━━━━━━━━━━━━━━━━━━━━━━━━━━━━━━━━━━━━\u001b[0m \u001b[32m480.6/480.6 kB\u001b[0m \u001b[31m31.5 MB/s\u001b[0m eta \u001b[36m0:00:00\u001b[0m\n",
            "\u001b[?25hDownloading dill-0.3.8-py3-none-any.whl (116 kB)\n",
            "\u001b[2K   \u001b[90m━━━━━━━━━━━━━━━━━━━━━━━━━━━━━━━━━━━━━━━━\u001b[0m \u001b[32m116.3/116.3 kB\u001b[0m \u001b[31m11.1 MB/s\u001b[0m eta \u001b[36m0:00:00\u001b[0m\n",
            "\u001b[?25hDownloading fsspec-2024.9.0-py3-none-any.whl (179 kB)\n",
            "\u001b[2K   \u001b[90m━━━━━━━━━━━━━━━━━━━━━━━━━━━━━━━━━━━━━━━━\u001b[0m \u001b[32m179.3/179.3 kB\u001b[0m \u001b[31m16.9 MB/s\u001b[0m eta \u001b[36m0:00:00\u001b[0m\n",
            "\u001b[?25hDownloading multiprocess-0.70.16-py310-none-any.whl (134 kB)\n",
            "\u001b[2K   \u001b[90m━━━━━━━━━━━━━━━━━━━━━━━━━━━━━━━━━━━━━━━━\u001b[0m \u001b[32m134.8/134.8 kB\u001b[0m \u001b[31m12.4 MB/s\u001b[0m eta \u001b[36m0:00:00\u001b[0m\n",
            "\u001b[?25hDownloading xxhash-3.5.0-cp310-cp310-manylinux_2_17_x86_64.manylinux2014_x86_64.whl (194 kB)\n",
            "\u001b[2K   \u001b[90m━━━━━━━━━━━━━━━━━━━━━━━━━━━━━━━━━━━━━━━━\u001b[0m \u001b[32m194.1/194.1 kB\u001b[0m \u001b[31m15.4 MB/s\u001b[0m eta \u001b[36m0:00:00\u001b[0m\n",
            "\u001b[?25hInstalling collected packages: xxhash, fsspec, dill, multiprocess, datasets\n",
            "  Attempting uninstall: fsspec\n",
            "    Found existing installation: fsspec 2024.10.0\n",
            "    Uninstalling fsspec-2024.10.0:\n",
            "      Successfully uninstalled fsspec-2024.10.0\n",
            "\u001b[31mERROR: pip's dependency resolver does not currently take into account all the packages that are installed. This behaviour is the source of the following dependency conflicts.\n",
            "gcsfs 2024.10.0 requires fsspec==2024.10.0, but you have fsspec 2024.9.0 which is incompatible.\u001b[0m\u001b[31m\n",
            "\u001b[0mSuccessfully installed datasets-3.2.0 dill-0.3.8 fsspec-2024.9.0 multiprocess-0.70.16 xxhash-3.5.0\n"
          ]
        }
      ]
    },
    {
      "cell_type": "code",
      "source": [
        "!pip install evaluate"
      ],
      "metadata": {
        "colab": {
          "base_uri": "https://localhost:8080/"
        },
        "id": "gaUrbtlVYAoU",
        "outputId": "fbe8f8ab-4cc9-4bdf-c5de-f85c8a0f9daf"
      },
      "execution_count": null,
      "outputs": [
        {
          "output_type": "stream",
          "name": "stdout",
          "text": [
            "Collecting evaluate\n",
            "  Downloading evaluate-0.4.3-py3-none-any.whl.metadata (9.2 kB)\n",
            "Requirement already satisfied: datasets>=2.0.0 in /usr/local/lib/python3.10/dist-packages (from evaluate) (3.2.0)\n",
            "Requirement already satisfied: numpy>=1.17 in /usr/local/lib/python3.10/dist-packages (from evaluate) (1.26.4)\n",
            "Requirement already satisfied: dill in /usr/local/lib/python3.10/dist-packages (from evaluate) (0.3.8)\n",
            "Requirement already satisfied: pandas in /usr/local/lib/python3.10/dist-packages (from evaluate) (2.2.2)\n",
            "Requirement already satisfied: requests>=2.19.0 in /usr/local/lib/python3.10/dist-packages (from evaluate) (2.32.3)\n",
            "Requirement already satisfied: tqdm>=4.62.1 in /usr/local/lib/python3.10/dist-packages (from evaluate) (4.66.6)\n",
            "Requirement already satisfied: xxhash in /usr/local/lib/python3.10/dist-packages (from evaluate) (3.5.0)\n",
            "Requirement already satisfied: multiprocess in /usr/local/lib/python3.10/dist-packages (from evaluate) (0.70.16)\n",
            "Requirement already satisfied: fsspec>=2021.05.0 in /usr/local/lib/python3.10/dist-packages (from fsspec[http]>=2021.05.0->evaluate) (2024.9.0)\n",
            "Requirement already satisfied: huggingface-hub>=0.7.0 in /usr/local/lib/python3.10/dist-packages (from evaluate) (0.26.5)\n",
            "Requirement already satisfied: packaging in /usr/local/lib/python3.10/dist-packages (from evaluate) (24.2)\n",
            "Requirement already satisfied: filelock in /usr/local/lib/python3.10/dist-packages (from datasets>=2.0.0->evaluate) (3.16.1)\n",
            "Requirement already satisfied: pyarrow>=15.0.0 in /usr/local/lib/python3.10/dist-packages (from datasets>=2.0.0->evaluate) (17.0.0)\n",
            "Requirement already satisfied: aiohttp in /usr/local/lib/python3.10/dist-packages (from datasets>=2.0.0->evaluate) (3.11.10)\n",
            "Requirement already satisfied: pyyaml>=5.1 in /usr/local/lib/python3.10/dist-packages (from datasets>=2.0.0->evaluate) (6.0.2)\n",
            "Requirement already satisfied: typing-extensions>=3.7.4.3 in /usr/local/lib/python3.10/dist-packages (from huggingface-hub>=0.7.0->evaluate) (4.12.2)\n",
            "Requirement already satisfied: charset-normalizer<4,>=2 in /usr/local/lib/python3.10/dist-packages (from requests>=2.19.0->evaluate) (3.4.0)\n",
            "Requirement already satisfied: idna<4,>=2.5 in /usr/local/lib/python3.10/dist-packages (from requests>=2.19.0->evaluate) (3.10)\n",
            "Requirement already satisfied: urllib3<3,>=1.21.1 in /usr/local/lib/python3.10/dist-packages (from requests>=2.19.0->evaluate) (2.2.3)\n",
            "Requirement already satisfied: certifi>=2017.4.17 in /usr/local/lib/python3.10/dist-packages (from requests>=2.19.0->evaluate) (2024.8.30)\n",
            "Requirement already satisfied: python-dateutil>=2.8.2 in /usr/local/lib/python3.10/dist-packages (from pandas->evaluate) (2.8.2)\n",
            "Requirement already satisfied: pytz>=2020.1 in /usr/local/lib/python3.10/dist-packages (from pandas->evaluate) (2024.2)\n",
            "Requirement already satisfied: tzdata>=2022.7 in /usr/local/lib/python3.10/dist-packages (from pandas->evaluate) (2024.2)\n",
            "Requirement already satisfied: aiohappyeyeballs>=2.3.0 in /usr/local/lib/python3.10/dist-packages (from aiohttp->datasets>=2.0.0->evaluate) (2.4.4)\n",
            "Requirement already satisfied: aiosignal>=1.1.2 in /usr/local/lib/python3.10/dist-packages (from aiohttp->datasets>=2.0.0->evaluate) (1.3.1)\n",
            "Requirement already satisfied: async-timeout<6.0,>=4.0 in /usr/local/lib/python3.10/dist-packages (from aiohttp->datasets>=2.0.0->evaluate) (4.0.3)\n",
            "Requirement already satisfied: attrs>=17.3.0 in /usr/local/lib/python3.10/dist-packages (from aiohttp->datasets>=2.0.0->evaluate) (24.2.0)\n",
            "Requirement already satisfied: frozenlist>=1.1.1 in /usr/local/lib/python3.10/dist-packages (from aiohttp->datasets>=2.0.0->evaluate) (1.5.0)\n",
            "Requirement already satisfied: multidict<7.0,>=4.5 in /usr/local/lib/python3.10/dist-packages (from aiohttp->datasets>=2.0.0->evaluate) (6.1.0)\n",
            "Requirement already satisfied: propcache>=0.2.0 in /usr/local/lib/python3.10/dist-packages (from aiohttp->datasets>=2.0.0->evaluate) (0.2.1)\n",
            "Requirement already satisfied: yarl<2.0,>=1.17.0 in /usr/local/lib/python3.10/dist-packages (from aiohttp->datasets>=2.0.0->evaluate) (1.18.3)\n",
            "Requirement already satisfied: six>=1.5 in /usr/local/lib/python3.10/dist-packages (from python-dateutil>=2.8.2->pandas->evaluate) (1.17.0)\n",
            "Downloading evaluate-0.4.3-py3-none-any.whl (84 kB)\n",
            "\u001b[2K   \u001b[90m━━━━━━━━━━━━━━━━━━━━━━━━━━━━━━━━━━━━━━━━\u001b[0m \u001b[32m84.0/84.0 kB\u001b[0m \u001b[31m7.4 MB/s\u001b[0m eta \u001b[36m0:00:00\u001b[0m\n",
            "\u001b[?25hInstalling collected packages: evaluate\n",
            "Successfully installed evaluate-0.4.3\n"
          ]
        }
      ]
    },
    {
      "cell_type": "code",
      "source": [
        "!pip install seqeval"
      ],
      "metadata": {
        "colab": {
          "base_uri": "https://localhost:8080/"
        },
        "id": "puk3JY_SYOCZ",
        "outputId": "2ca2b243-c2c6-414b-8ed1-1a3a84a64998"
      },
      "execution_count": null,
      "outputs": [
        {
          "output_type": "stream",
          "name": "stdout",
          "text": [
            "Collecting seqeval\n",
            "  Downloading seqeval-1.2.2.tar.gz (43 kB)\n",
            "\u001b[?25l     \u001b[90m━━━━━━━━━━━━━━━━━━━━━━━━━━━━━━━━━━━━━━━━\u001b[0m \u001b[32m0.0/43.6 kB\u001b[0m \u001b[31m?\u001b[0m eta \u001b[36m-:--:--\u001b[0m\r\u001b[2K     \u001b[90m━━━━━━━━━━━━━━━━━━━━━━━━━━━━━━━━━━━━━━━━\u001b[0m \u001b[32m43.6/43.6 kB\u001b[0m \u001b[31m3.3 MB/s\u001b[0m eta \u001b[36m0:00:00\u001b[0m\n",
            "\u001b[?25h  Preparing metadata (setup.py) ... \u001b[?25l\u001b[?25hdone\n",
            "Requirement already satisfied: numpy>=1.14.0 in /usr/local/lib/python3.10/dist-packages (from seqeval) (1.26.4)\n",
            "Requirement already satisfied: scikit-learn>=0.21.3 in /usr/local/lib/python3.10/dist-packages (from seqeval) (1.5.2)\n",
            "Requirement already satisfied: scipy>=1.6.0 in /usr/local/lib/python3.10/dist-packages (from scikit-learn>=0.21.3->seqeval) (1.13.1)\n",
            "Requirement already satisfied: joblib>=1.2.0 in /usr/local/lib/python3.10/dist-packages (from scikit-learn>=0.21.3->seqeval) (1.4.2)\n",
            "Requirement already satisfied: threadpoolctl>=3.1.0 in /usr/local/lib/python3.10/dist-packages (from scikit-learn>=0.21.3->seqeval) (3.5.0)\n",
            "Building wheels for collected packages: seqeval\n",
            "  Building wheel for seqeval (setup.py) ... \u001b[?25l\u001b[?25hdone\n",
            "  Created wheel for seqeval: filename=seqeval-1.2.2-py3-none-any.whl size=16161 sha256=038a58f57b9e1df91e65451fccb88d44cb9d0df193dc3758fe15a12542997780\n",
            "  Stored in directory: /root/.cache/pip/wheels/1a/67/4a/ad4082dd7dfc30f2abfe4d80a2ed5926a506eb8a972b4767fa\n",
            "Successfully built seqeval\n",
            "Installing collected packages: seqeval\n",
            "Successfully installed seqeval-1.2.2\n"
          ]
        }
      ]
    },
    {
      "cell_type": "code",
      "source": [
        "from sklearn.model_selection import train_test_split\n",
        "from sklearn.utils import resample\n",
        "from transformers import AutoTokenizer\n",
        "from datasets import Dataset\n",
        "import os\n"
      ],
      "metadata": {
        "id": "LixIL9TGIH2J"
      },
      "execution_count": null,
      "outputs": []
    },
    {
      "cell_type": "code",
      "source": [
        "df['sequence_length'] = df['End'] - df['Start']\n",
        "print(df['sequence_length'].describe())\n"
      ],
      "metadata": {
        "id": "d4Fd4ZFfNwOJ",
        "outputId": "9f1d4b3a-02a7-4405-b284-f9b0cd32c261",
        "colab": {
          "base_uri": "https://localhost:8080/"
        }
      },
      "execution_count": null,
      "outputs": [
        {
          "output_type": "stream",
          "name": "stdout",
          "text": [
            "count    60979.000000\n",
            "mean         6.588252\n",
            "std          3.391699\n",
            "min          1.000000\n",
            "25%          4.000000\n",
            "50%          7.000000\n",
            "75%          9.000000\n",
            "max         32.000000\n",
            "Name: sequence_length, dtype: float64\n"
          ]
        }
      ]
    },
    {
      "cell_type": "markdown",
      "source": [
        "#Splitting the dataset and rebalancing classes\n",
        "In this section, we begin by exploring the unique labels present in the dataset using df['Label'].unique(). This helps us understand the variety of categories we are working with. Next, we analyze the frequency of each label using df['Label'].value_counts(), which provides us with the label distribution in the dataset.\n",
        "\n",
        "From the output, as we already know, we can observe that the label \"O\" (Other) is the most frequent, followed by labels such as \"B-Cell\" and \"B-Multi-tissue_structure.\" Some categories, such as \"I-Developing_anatomical_structure\" and \"I-Immaterial_anatomical_entity,\" are heavily underrepresented, with very few occurrences. This indicates a significant class imbalance.\n",
        "\n",
        "Next, **we check the number of unique labels for each ID** using df.groupby('id')['Label'].nunique(). This gives us an idea of how many different labels are associated with each ID. We observe that some IDs are associated with more than one label, which we consider in the following steps to avoid confusion in the classification task. We filter out the IDs with only one label to focus on those relevant for training.\n",
        "\n",
        "Finally, the labels are grouped by ID using df.groupby('id')['Label'].first(), ensuring that **each ID is assigned a unique label based on its first occurrence in the dataset**. This is necessary for consistent training and helps avoid errors related to multiple labels for the same ID."
      ],
      "metadata": {
        "id": "FjL64tgKHqmw"
      }
    },
    {
      "cell_type": "code",
      "source": [
        "# Valori unici di Label\n",
        "print(\"\\nCategorie di Label:\")\n",
        "print(df['Label'].unique())\n",
        "\n",
        "# Frequenza delle etichette\n",
        "print(\"\\nDistribuzione delle etichette:\")\n",
        "print(df['Label'].value_counts())\n"
      ],
      "metadata": {
        "colab": {
          "base_uri": "https://localhost:8080/"
        },
        "id": "80rXLDWaEbVo",
        "outputId": "f9677b09-9ae7-4565-b77a-89f6db18e1fc"
      },
      "execution_count": null,
      "outputs": [
        {
          "output_type": "stream",
          "name": "stdout",
          "text": [
            "\n",
            "Categorie di Label:\n",
            "['B-Multi-tissue_structure' 'O' 'B-Organism_substance'\n",
            " 'B-Organism_subdivision' 'B-Organ' 'I-Multi-tissue_structure'\n",
            " 'B-Cellular_component' 'I-Cellular_component' 'B-Cell' 'I-Cell'\n",
            " 'B-Immaterial_anatomical_entity' 'B-Tissue' 'I-Tissue'\n",
            " 'B-Pathological_formation' 'B-Anatomical_system' 'I-Organism_substance'\n",
            " 'I-Anatomical_system' 'I-Pathological_formation'\n",
            " 'I-Immaterial_anatomical_entity' 'I-Organ' 'I-Organism_subdivision'\n",
            " 'B-Developing_anatomical_structure' 'I-Developing_anatomical_structure']\n",
            "\n",
            "Distribuzione delle etichette:\n",
            "Label\n",
            "O                                    56455\n",
            "B-Cell                                 775\n",
            "B-Multi-tissue_structure               639\n",
            "I-Cell                                 439\n",
            "B-Organ                                381\n",
            "B-Pathological_formation               367\n",
            "I-Multi-tissue_structure               358\n",
            "B-Organism_substance                   288\n",
            "I-Pathological_formation               224\n",
            "B-Cellular_component                   199\n",
            "B-Tissue                               169\n",
            "B-Organism_subdivision                 161\n",
            "I-Tissue                               112\n",
            "I-Cellular_component                    72\n",
            "I-Organism_substance                    70\n",
            "B-Immaterial_anatomical_entity          60\n",
            "I-Organ                                 52\n",
            "B-Anatomical_system                     51\n",
            "B-Developing_anatomical_structure       39\n",
            "I-Anatomical_system                     26\n",
            "I-Immaterial_anatomical_entity          20\n",
            "I-Organism_subdivision                  17\n",
            "I-Developing_anatomical_structure        5\n",
            "Name: count, dtype: int64\n"
          ]
        }
      ]
    },
    {
      "cell_type": "code",
      "source": [
        "id_label_counts = df.groupby('id')['Label'].nunique()\n",
        "print(id_label_counts[id_label_counts > 1])"
      ],
      "metadata": {
        "colab": {
          "base_uri": "https://localhost:8080/"
        },
        "id": "-jLbbWakJRkQ",
        "outputId": "05a7018f-fcdc-44d3-a9c2-ce4918ca6193"
      },
      "execution_count": null,
      "outputs": [
        {
          "output_type": "stream",
          "name": "stdout",
          "text": [
            "id\n",
            "1         2\n",
            "12        2\n",
            "16        2\n",
            "17        2\n",
            "2         3\n",
            "         ..\n",
            "walls     2\n",
            "white     5\n",
            "window    2\n",
            "yolk      3\n",
            "zones     2\n",
            "Name: Label, Length: 491, dtype: int64\n"
          ]
        }
      ]
    },
    {
      "cell_type": "code",
      "source": [
        "labels = df.groupby('id')['Label'].first()\n",
        "print(labels.value_counts())"
      ],
      "metadata": {
        "colab": {
          "base_uri": "https://localhost:8080/"
        },
        "id": "KVD8G3M8JXUD",
        "outputId": "faa84915-df3b-4f04-8b9d-95d748cabf77"
      },
      "execution_count": null,
      "outputs": [
        {
          "output_type": "stream",
          "name": "stdout",
          "text": [
            "Label\n",
            "O                                    11938\n",
            "B-Multi-tissue_structure               159\n",
            "B-Cell                                 108\n",
            "B-Pathological_formation                93\n",
            "I-Multi-tissue_structure                82\n",
            "B-Organ                                 60\n",
            "B-Organism_substance                    47\n",
            "I-Cell                                  42\n",
            "B-Tissue                                42\n",
            "B-Organism_subdivision                  41\n",
            "B-Cellular_component                    40\n",
            "I-Pathological_formation                40\n",
            "I-Tissue                                19\n",
            "I-Organism_substance                    14\n",
            "B-Immaterial_anatomical_entity          14\n",
            "I-Cellular_component                    14\n",
            "I-Organ                                 13\n",
            "B-Anatomical_system                     11\n",
            "B-Developing_anatomical_structure        9\n",
            "I-Immaterial_anatomical_entity           4\n",
            "I-Organism_subdivision                   3\n",
            "I-Anatomical_system                      2\n",
            "I-Developing_anatomical_structure        1\n",
            "Name: count, dtype: int64\n"
          ]
        }
      ]
    },
    {
      "cell_type": "markdown",
      "source": [
        "* In this part of the code, we begin by **creating a unique DataFrame** for each ID using df.groupby('id', as_index=False).first(), ensuring that we have only one row per ID with the first label assigned to each ID.\n",
        "\n",
        "* Next, **we remove the class with only one occurrence**, \"I-Developing_anatomical_structure,\" to ensure the dataset only contains valid classes with sufficient occurrences for training. We then retrieve the unique labels from the modified DataFrame using unique_df['Label'].\n",
        "\n",
        "* The dataset is split into **70% for training and 15% each for validation and testing**.\n",
        "\n",
        "* **Stratification** is applied to ensure that the label distribution in the splits reflects the original dataset, maintaining the class balance.\n",
        "\n",
        "* We also **filter out any classes in the temporary set that have fewer than two occurrences**, ensuring that we only retain the classes with sufficient examples for training. Afterward, we create the final DataFrames for training, validation, and testing.\n",
        "\n",
        "Finally, the dimensions of the resulting training, validation, and test sets are displayed, showing how the data has been split across these subsets."
      ],
      "metadata": {
        "id": "LBW1WpNNhXDx"
      }
    },
    {
      "cell_type": "code",
      "source": [
        "from sklearn.model_selection import train_test_split\n",
        "\n",
        "# Crea un DataFrame unico per id: una sola riga per ogni id, con la prima etichetta\n",
        "unique_df = df.groupby('id', as_index=False).first()\n",
        "\n",
        "# Rimuovi la classe con 1 occorrenza (I-Developing_anatomical_structure)\n",
        "unique_df = unique_df[unique_df['Label'] != 'I-Developing_anatomical_structure']\n",
        "\n",
        "# Otteniamo la colonna delle etichette uniche\n",
        "unique_labels = unique_df['Label']\n",
        "\n",
        "# Suddivisione del dataset con stratificazione basata sulla colonna \"Label\"\n",
        "train_ids, temp_ids = train_test_split(\n",
        "    unique_df['id'],\n",
        "    test_size=0.3,\n",
        "    random_state=42,\n",
        "    stratify=unique_labels\n",
        ")\n",
        "\n",
        "# Crea un subset temporaneo\n",
        "temp_df = unique_df[unique_df['id'].isin(temp_ids)]\n",
        "\n",
        "# Calcolo delle frequenze per verificare l'occorrenza minima di almeno 2\n",
        "temp_label_counts = temp_df['Label'].value_counts()\n",
        "valid_labels = temp_label_counts[temp_label_counts >= 2].index\n",
        "\n",
        "# Filtro dei dati temporanei per mantenere solo le classi valide\n",
        "temp_df = temp_df[temp_df['Label'].isin(valid_labels)]\n",
        "\n",
        "# Ora effettuiamo la suddivisione in validation e test\n",
        "val_ids, test_ids = train_test_split(\n",
        "    temp_df['id'],\n",
        "    test_size=0.5,\n",
        "    random_state=42,\n",
        "    stratify=temp_df['Label']\n",
        ")\n",
        "\n",
        "# Creazione dei DataFrame finali per train, validation e test, lavorando su unique_df\n",
        "train_df = unique_df[unique_df['id'].isin(train_ids)]\n",
        "val_df = unique_df[unique_df['id'].isin(val_ids)]\n",
        "test_df = unique_df[unique_df['id'].isin(test_ids)]\n",
        "\n",
        "print(\"Dimensioni dei set unici:\")\n",
        "print(\"Train set:\", train_df.shape)\n",
        "print(\"Validation set:\", val_df.shape)\n",
        "print(\"Test set:\", test_df.shape)\n"
      ],
      "metadata": {
        "colab": {
          "base_uri": "https://localhost:8080/"
        },
        "id": "KwilsD6mv3cs",
        "outputId": "bbcda137-9c5b-49bd-bd85-a905172051bd"
      },
      "execution_count": null,
      "outputs": [
        {
          "output_type": "stream",
          "name": "stdout",
          "text": [
            "Dimensioni dei set unici:\n",
            "Train set: (8956, 5)\n",
            "Validation set: (1918, 5)\n",
            "Test set: (1919, 5)\n"
          ]
        }
      ]
    },
    {
      "cell_type": "markdown",
      "source": [
        "##Rebalancing Training set\n",
        "In this section, the training dataset is rebalanced to address the issue of class imbalance. We use sklearn.utils' resample function to **increase the number of samples for underrepresented classes**, ensuring that every class in the training set has the same number of examples as the most frequent class. This process helps prevent the model from learning to predict only the majority classes, thereby improving its ability to recognize the rare classes.\n",
        "\n",
        "Afterward, the **rebalanced data is shuffled** using the sample() method from pandas to ensure that the order of the examples does not affect training. Finally, we print the distribution of labels in the rebalanced training set to verify that the balancing has been correctly applied."
      ],
      "metadata": {
        "id": "ZvwRxy8OI2Ux"
      }
    },
    {
      "cell_type": "code",
      "source": [
        "from sklearn.utils import resample\n",
        "\n",
        "# Creazione di un DataFrame bilanciato per il training set\n",
        "balanced_train_df = pd.DataFrame()\n",
        "\n",
        "# Ciclo per ogni etichetta unica nel training set\n",
        "for label in train_df['Label'].unique():\n",
        "    subset = train_df[train_df['Label'] == label]\n",
        "    if len(subset) < train_df['Label'].value_counts().max():\n",
        "        # Aumenta il numero di campioni per bilanciare il dataset\n",
        "        subset = resample(subset, replace=True,\n",
        "                          n_samples=train_df['Label'].value_counts().max(),\n",
        "                          random_state=42)\n",
        "    balanced_train_df = pd.concat([balanced_train_df, subset])\n",
        "\n",
        "# Shuffle dei dati bilanciati\n",
        "balanced_train_df = balanced_train_df.sample(frac=1, random_state=42).reset_index(drop=True)\n",
        "\n",
        "# Output delle distribuzioni\n",
        "print(\"\\nDimensioni dei set bilanciati:\")\n",
        "print(\"Training set bilanciato:\", balanced_train_df.shape)\n",
        "print(\"Validation set:\", val_df.shape)\n",
        "print(\"Test set:\", test_df.shape)\n",
        "\n",
        "print(\"\\nDistribuzione delle etichette nel training set bilanciato:\")\n",
        "print(balanced_train_df['Label'].value_counts())\n"
      ],
      "metadata": {
        "colab": {
          "base_uri": "https://localhost:8080/"
        },
        "id": "QYF0Br-1wWGo",
        "outputId": "30fc2a94-7cca-450c-aa99-754281f3b0b0"
      },
      "execution_count": null,
      "outputs": [
        {
          "output_type": "stream",
          "name": "stdout",
          "text": [
            "\n",
            "Dimensioni dei set bilanciati:\n",
            "Training set bilanciato: (183832, 5)\n",
            "Validation set: (1918, 5)\n",
            "Test set: (1919, 5)\n",
            "\n",
            "Distribuzione delle etichette nel training set bilanciato:\n",
            "Label\n",
            "B-Organism_subdivision               8356\n",
            "B-Multi-tissue_structure             8356\n",
            "B-Cell                               8356\n",
            "B-Organism_substance                 8356\n",
            "B-Tissue                             8356\n",
            "I-Cell                               8356\n",
            "I-Anatomical_system                  8356\n",
            "I-Pathological_formation             8356\n",
            "B-Developing_anatomical_structure    8356\n",
            "B-Organ                              8356\n",
            "B-Pathological_formation             8356\n",
            "I-Organism_subdivision               8356\n",
            "I-Organ                              8356\n",
            "I-Immaterial_anatomical_entity       8356\n",
            "I-Organism_substance                 8356\n",
            "I-Tissue                             8356\n",
            "B-Cellular_component                 8356\n",
            "I-Multi-tissue_structure             8356\n",
            "O                                    8356\n",
            "B-Immaterial_anatomical_entity       8356\n",
            "B-Anatomical_system                  8356\n",
            "I-Cellular_component                 8356\n",
            "Name: count, dtype: int64\n"
          ]
        }
      ]
    },
    {
      "cell_type": "markdown",
      "source": [
        "#Mapping NER tags\n",
        "After identifying all unique NER labels in the balanced training set, we created two mapping dictionaries:\n",
        "\n",
        "* **tag2id**: This dictionary associates each unique NER label with a unique numeric ID. This is essential for converting the categorical labels into a format suitable for deep learning models.\n",
        "\n",
        "* **id2tag**: This dictionary performs the reverse mapping, converting numeric IDs back into the corresponding NER labels, which helps in interpreting model predictions during evaluation.\n",
        "\n",
        "We then apply the tag2id mapping to the training, validation, and test datasets. This replaces the original NER labels with their respective numeric IDs, making the data compatible with the Hugging Face model and enabling the model to work with these numeric representations during training and evaluation.\n",
        "\n",
        "Finally, we printed the tag2id mapping to verify that each label has been correctly mapped to its corresponding ID."
      ],
      "metadata": {
        "id": "YupNYbv9JYOB"
      }
    },
    {
      "cell_type": "code",
      "source": [
        "# Creiamo una lista di tutte le etichette presenti nel training set bilanciato\n",
        "all_labels = balanced_train_df['Label'].unique()\n",
        "\n",
        "# Creiamo il mapping delle etichette\n",
        "tag2id = {tag: idx for idx, tag in enumerate(all_labels)}\n",
        "id2tag = {idx: tag for tag, idx in tag2id.items()}\n",
        "\n",
        "val_df = val_df.copy()\n",
        "test_df = test_df.copy()\n",
        "\n",
        "# Aggiungiamo la colonna con l'ID delle etichette nei dataset\n",
        "balanced_train_df['Label_ID'] = balanced_train_df['Label'].map(tag2id)\n",
        "val_df.loc[:,'Label_ID'] = val_df['Label'].map(tag2id)\n",
        "test_df.loc[:,'Label_ID'] = test_df['Label'].map(tag2id)\n",
        "\n",
        "# Controlliamo il mapping\n",
        "print(\"Mapping delle etichette (tag2id):\", tag2id)\n"
      ],
      "metadata": {
        "colab": {
          "base_uri": "https://localhost:8080/"
        },
        "id": "Nzwrd9A2JZ-B",
        "outputId": "df67211b-d260-45bc-a212-ca0501e6e6f3"
      },
      "execution_count": null,
      "outputs": [
        {
          "output_type": "stream",
          "name": "stdout",
          "text": [
            "Mapping delle etichette (tag2id): {'B-Organism_subdivision': 0, 'B-Multi-tissue_structure': 1, 'B-Cell': 2, 'B-Organism_substance': 3, 'B-Tissue': 4, 'I-Cell': 5, 'I-Anatomical_system': 6, 'I-Pathological_formation': 7, 'B-Developing_anatomical_structure': 8, 'B-Organ': 9, 'B-Pathological_formation': 10, 'I-Organism_subdivision': 11, 'I-Organ': 12, 'I-Immaterial_anatomical_entity': 13, 'I-Organism_substance': 14, 'I-Tissue': 15, 'B-Cellular_component': 16, 'I-Multi-tissue_structure': 17, 'O': 18, 'B-Immaterial_anatomical_entity': 19, 'B-Anatomical_system': 20, 'I-Cellular_component': 21}\n"
          ]
        }
      ]
    },
    {
      "cell_type": "markdown",
      "source": [
        "#Preparing Data for Hugging Face\n",
        "We begin by **transforming the NER labels into numeric IDs using the tag2id mapping**. This is achieved through the convert_labels_to_ids function, which applies the mapping to the Label column of each dataset (training, validation, and test). This step ensures that the labels are represented as integers, making them compatible with Hugging Face models.\n"
      ],
      "metadata": {
        "id": "q4cDfVBEKxVX"
      }
    },
    {
      "cell_type": "code",
      "source": [
        "# Trasforma le etichette in ID numerici usando il mapping tag2id\n",
        "def convert_labels_to_ids(df, tag2id):\n",
        "    df.loc[:, 'Label_ID'] = df['Label'].map(tag2id)  # Mappa direttamente i valori della colonna\n",
        "    return df\n",
        "\n",
        "# Esegui la conversione per ogni dataset\n",
        "balanced_train_dataset = convert_labels_to_ids(balanced_train_df, tag2id)  # Usa il training set bilanciato\n",
        "val_dataset = convert_labels_to_ids(val_df, tag2id)\n",
        "test_dataset = convert_labels_to_ids(test_df, tag2id)\n",
        "\n",
        "print(\"Conversione delle etichette completata!\")\n",
        "print(balanced_train_dataset.head())\n"
      ],
      "metadata": {
        "colab": {
          "base_uri": "https://localhost:8080/"
        },
        "id": "-ubE1jdcJ3ep",
        "outputId": "44ab84fd-45b9-4012-91b3-4aae7fb42257"
      },
      "execution_count": null,
      "outputs": [
        {
          "output_type": "stream",
          "name": "stdout",
          "text": [
            "Conversione delle etichette completata!\n",
            "       id  Start   End                     Label  sequence_length  Label_ID\n",
            "0  Spinal     65    71    B-Organism_subdivision                6         0\n",
            "1  hepato    301   307  B-Multi-tissue_structure                6         1\n",
            "2    K562   5464  5468                    B-Cell                4         2\n",
            "3   Blood   1801  1806      B-Organism_substance                5         3\n",
            "4     Hip     13    16    B-Organism_subdivision                3         0\n"
          ]
        }
      ]
    },
    {
      "cell_type": "markdown",
      "source": [
        "#Dataset for Hugging Face\n",
        "We proceed by **transforming the datasets into Hugging Face Dataset format using Dataset**.from_pandas. This format is ideal for training models within the transformers library, allowing for efficient handling of the data."
      ],
      "metadata": {
        "id": "BogzjXMHV-mf"
      }
    },
    {
      "cell_type": "code",
      "source": [
        "# Converto i DataFrame in Dataset di Hugging Face\n",
        "train_hf = Dataset.from_pandas(balanced_train_dataset)\n",
        "val_hf = Dataset.from_pandas(val_dataset)\n",
        "test_hf = Dataset.from_pandas(test_dataset)"
      ],
      "metadata": {
        "id": "XUOd8juwWJs5"
      },
      "execution_count": null,
      "outputs": []
    },
    {
      "cell_type": "markdown",
      "source": [
        "#Loading tokenizer and pre-trained model (BioBERT)\n",
        "* **Pre-trained model**:\n",
        "The selected pre-trained model is BioBERT, specifically the \"dmis-lab/biobert-base-cased-v1.1\", a variant of BERT fine-tuned for biomedical text. Unlike the general-purpose BERT, BioBERT has been trained on large biomedical corpora such as PubMed and PMC (PubMed Central), which consist of scientific papers and biomedical research. This specialized training allows BioBERT to capture medical and scientific terms with a high level of precision, making it well-suited for biomedical NLP tasks such as Named Entity Recognition (NER).\n",
        "\n",
        "* **Tokenizer:**\n",
        "We load the tokenizer via the AutoTokenizer.from_pretrained() function, which automatically fetches the tokenizer associated with BioBERT. The tokenizer is responsible for splitting the text into tokens and mapping them to numeric IDs that the model understands. Additionally, it handles adding special tokens (e.g., [CLS], [SEP]) and padding/truncation to ensure the text conforms to the required input format.\n",
        "One key feature of the BioBERT tokenizer is its large vocabulary tailored to the biomedical domain. It has been trained on a large number of biomedical terms, which enables it to generalize well even when handling rare or non-standard words often seen in medical texts.\n",
        "\n",
        "* **Purpose:**\n",
        "BioBERT serves as the base model, which will be fine-tuned on our specific biomedical NER task. Fine-tuning allows the model to adapt to the specific vocabulary and medical context present in our dataset."
      ],
      "metadata": {
        "id": "kJGMeVzxWPUF"
      }
    },
    {
      "cell_type": "code",
      "source": [
        "# Carichiamo il tokenizer di BioBert\n",
        "model_name = \"dmis-lab/biobert-base-cased-v1.1\"\n",
        "tokenizer = AutoTokenizer.from_pretrained(model_name)\n",
        "\n",
        "print(\"Tokenizer caricato:\", model_name)"
      ],
      "metadata": {
        "colab": {
          "base_uri": "https://localhost:8080/",
          "height": 226,
          "referenced_widgets": [
            "647f5bba1a914b2ea97be6ef4f3bed97",
            "3dccf8401d80425bba979defdf5babec",
            "5b8cbdb4770e4f0bacb3972f1429ff3e",
            "09f3433a8d0c4134b3b26fce09d9a854",
            "5d8480ac8c444eaf9ec0007d45a85eb9",
            "aba547375ca648a0a0c4e521a1eda450",
            "c0432596cfe94aab999f0eadc456fb09",
            "e35aa15319e64e90b63f789ebe2f0900",
            "bfbb693e70614ba99824272a5e536e56",
            "2a8dcd1cd88a4f0d862bbee812d037ad",
            "ccafba387f4842d0a67e56e31f7f9e70",
            "31e32fef2f8e43dfaf8e62a5bbbc04fd",
            "51cd42c061744e769744c4c52b32eb26",
            "145e6fdacb5a4d398a5098a24f090e0a",
            "47807600b7064dc89b8ccb317d6d489e",
            "1ed930396354417faec1242457ca4cb5",
            "2074c0614ad34f03a8a78927a3f60950",
            "069f0779e0f04cd8800a17de643c5a68",
            "0897739d91b44d26abc7db64bac705ed",
            "6b450e91d2074ca9ab20ff7be181a0e4",
            "b74165e6ee5e4acaa58ae1fdb553e849",
            "0943d35d1b314ab387b2a78fcc334e71"
          ]
        },
        "id": "VqRvDEJJLuCR",
        "outputId": "d51791bd-e337-4b4e-c93d-b541d642086a"
      },
      "execution_count": null,
      "outputs": [
        {
          "output_type": "stream",
          "name": "stderr",
          "text": [
            "/usr/local/lib/python3.10/dist-packages/huggingface_hub/utils/_auth.py:94: UserWarning: \n",
            "The secret `HF_TOKEN` does not exist in your Colab secrets.\n",
            "To authenticate with the Hugging Face Hub, create a token in your settings tab (https://huggingface.co/settings/tokens), set it as secret in your Google Colab and restart your session.\n",
            "You will be able to reuse this secret in all of your notebooks.\n",
            "Please note that authentication is recommended but still optional to access public models or datasets.\n",
            "  warnings.warn(\n"
          ]
        },
        {
          "output_type": "display_data",
          "data": {
            "text/plain": [
              "config.json:   0%|          | 0.00/313 [00:00<?, ?B/s]"
            ],
            "application/vnd.jupyter.widget-view+json": {
              "version_major": 2,
              "version_minor": 0,
              "model_id": "647f5bba1a914b2ea97be6ef4f3bed97"
            }
          },
          "metadata": {}
        },
        {
          "output_type": "display_data",
          "data": {
            "text/plain": [
              "vocab.txt:   0%|          | 0.00/213k [00:00<?, ?B/s]"
            ],
            "application/vnd.jupyter.widget-view+json": {
              "version_major": 2,
              "version_minor": 0,
              "model_id": "31e32fef2f8e43dfaf8e62a5bbbc04fd"
            }
          },
          "metadata": {}
        },
        {
          "output_type": "stream",
          "name": "stdout",
          "text": [
            "Tokenizer caricato: dmis-lab/biobert-base-cased-v1.1\n"
          ]
        }
      ]
    },
    {
      "cell_type": "markdown",
      "source": [
        "#Tokenization and labels allignment\n",
        "The tokenize_and_align_with_stride function tokenizes the input sequences using the Hugging Face tokenizer, ensuring that the alignment between generated tokens and NER labels is preserved. Main tokens retain their original labels, while special tokens and sub-tokens are ignored by assigning a label of -100.\n",
        "\n",
        "Tokenization involves padding and truncating the sequences to a **maximum length of 32 tokens**. This maximum length is determined by the average sequence length in our dataset. Additionally, the function introduces a **stride of 16 tokens**, allowing for overlapping segments. This overlap ensures that important context from the original sequence is not lost when truncating.\n",
        "\n",
        "The function is then applied to the datasets using datasets.map(), which processes the data in batches for efficiency. Unnecessary columns, such as the original text and label columns, are removed, resulting in tokenized datasets that are ready for training."
      ],
      "metadata": {
        "id": "0kVPeVFzWhC_"
      }
    },
    {
      "cell_type": "code",
      "source": [
        "def tokenize_and_align_with_stride(examples):\n",
        "    tokenized_inputs = tokenizer(\n",
        "        examples[\"id\"],  # Cambia con il tuo campo testo\n",
        "        truncation=True,\n",
        "        max_length=32,\n",
        "        stride=16,  # Sovrapposizione tra segmenti\n",
        "        is_split_into_words=False,\n",
        "        return_overflowing_tokens=True\n",
        "    )\n",
        "\n",
        "    labels = []\n",
        "    for i, label in enumerate(examples['Label_ID']):\n",
        "        word_ids = tokenized_inputs.word_ids(batch_index=i)  # Ottieni il mapping parola-token\n",
        "        aligned_labels = []\n",
        "        previous_word_idx = None\n",
        "        for word_idx in word_ids:\n",
        "            if word_idx is None:  # Token speciale o padding\n",
        "                aligned_labels.append(-100)\n",
        "            elif word_idx != previous_word_idx:\n",
        "                aligned_labels.append(label)  # Prima occorrenza della parola\n",
        "            else:\n",
        "                aligned_labels.append(-100)  # Ignora token subword\n",
        "            previous_word_idx = word_idx\n",
        "        labels.append(aligned_labels)\n",
        "\n",
        "    # Aggiungi le etichette ai token tokenizzati\n",
        "    tokenized_inputs[\"labels\"] = labels\n",
        "    return tokenized_inputs\n"
      ],
      "metadata": {
        "id": "3WnKBFUKLt9i"
      },
      "execution_count": null,
      "outputs": []
    },
    {
      "cell_type": "code",
      "source": [
        "def process_datasets(dataset, tokenizer):\n",
        "    return dataset.map(\n",
        "        tokenize_and_align_with_stride,  # Usa il nome corretto della funzione\n",
        "        batched=True,  # Processa in batch per velocità e robustezza\n",
        "        remove_columns=['id', 'Label', 'Label_ID']  # Rimuove colonne inutili\n",
        "    )\n",
        "\n",
        "# Tokenizzazione per i tre dataset\n",
        "tokenized_datasets = {}\n",
        "for split, dataset in zip([\"train\", \"validation\", \"test\"], [train_hf, val_hf, test_hf]):\n",
        "    tokenized_datasets[split] = process_datasets(dataset, tokenizer)\n",
        "\n",
        "print(\"Tokenizzazione completata!\")\n",
        "\n"
      ],
      "metadata": {
        "colab": {
          "base_uri": "https://localhost:8080/",
          "height": 131,
          "referenced_widgets": [
            "67453b685a6848caaee2f800ed309076",
            "76598f59fa34477f98f5d45308b54af0",
            "451eb95a65764a4e8b9b151565e52f36",
            "25b1a18bcf7742c38a97db97c735e162",
            "64ba1787554a4bfbb35a7a6828f8bd74",
            "777244448cbb4ce8bbc1f702157337f6",
            "49c538ad0bc64ca78b240f781df00a1d",
            "87cc294a594f46cbaa4724d74e9f3aeb",
            "8e6cf327e52d4fbfb851dfcfafefba2e",
            "49b92b3826b64c4b9222cf73eab779c3",
            "8ceac6b298554b16add677e2d013f7a8",
            "b6f4313c36364b3bb3d4a87d2128e6b1",
            "79d8aa895af04ce0963f5b466e18a7ea",
            "d45aeca36a0c45669db57bac4a1c1d52",
            "75ef05a35ab2432fac2f33754696a712",
            "57f5e65351c74c01b28fd088eb1d74b6",
            "d64f0564dbf040ac9d9e7aea24202cba",
            "976d22bcfe0d40b5b1c7891c11cf1fcf",
            "1b37b77eeafc4058867b481978a0a70b",
            "24e55ea640074209a3a9172ee914fe31",
            "52a911d121d945448713048c0aa8cbe8",
            "f2e13c2a79454fa18cbb7b15e1eca0e7",
            "e8e89da989294c049b91660076b9141c",
            "748c60f83d7e48fd99ed7e951e7744ad",
            "eb778f50324c401f99c6601a29cf07a5",
            "9d5735667cc748a5b88becebf307555b",
            "aadf7b4c5bf14efd8f0be6c659bc1687",
            "93da89f124084e1899eb83625d6969fe",
            "a99aaba139124ef0ad4a7358ba3598a9",
            "ad9595e49d1948a1a20fa21c11910e20",
            "c719980feb534d9096aeecc0ac1352e8",
            "2fef46acdf4c48668b722f24bbc78310",
            "8a93da29747149cbab924938421b7cfc"
          ]
        },
        "id": "5EGMqc8QMta2",
        "outputId": "1bc28f73-fbbd-46ca-c87e-6cedf593f006"
      },
      "execution_count": null,
      "outputs": [
        {
          "output_type": "display_data",
          "data": {
            "text/plain": [
              "Map:   0%|          | 0/183832 [00:00<?, ? examples/s]"
            ],
            "application/vnd.jupyter.widget-view+json": {
              "version_major": 2,
              "version_minor": 0,
              "model_id": "67453b685a6848caaee2f800ed309076"
            }
          },
          "metadata": {}
        },
        {
          "output_type": "display_data",
          "data": {
            "text/plain": [
              "Map:   0%|          | 0/1918 [00:00<?, ? examples/s]"
            ],
            "application/vnd.jupyter.widget-view+json": {
              "version_major": 2,
              "version_minor": 0,
              "model_id": "b6f4313c36364b3bb3d4a87d2128e6b1"
            }
          },
          "metadata": {}
        },
        {
          "output_type": "display_data",
          "data": {
            "text/plain": [
              "Map:   0%|          | 0/1919 [00:00<?, ? examples/s]"
            ],
            "application/vnd.jupyter.widget-view+json": {
              "version_major": 2,
              "version_minor": 0,
              "model_id": "e8e89da989294c049b91660076b9141c"
            }
          },
          "metadata": {}
        },
        {
          "output_type": "stream",
          "name": "stdout",
          "text": [
            "Tokenizzazione completata!\n"
          ]
        }
      ]
    },
    {
      "cell_type": "code",
      "source": [
        "# Controlla un esempio del dataset tokenizzato\n",
        "print(\"Esempio tokenizzato (Train):\")\n",
        "print(tokenized_datasets[\"train\"].select(range(5)).to_dict())\n"
      ],
      "metadata": {
        "colab": {
          "base_uri": "https://localhost:8080/"
        },
        "id": "P42-aVPYUa26",
        "outputId": "4bc7185e-57d1-4a32-d18d-de78cfa53496"
      },
      "execution_count": null,
      "outputs": [
        {
          "output_type": "stream",
          "name": "stdout",
          "text": [
            "Esempio tokenizzato (Train):\n",
            "{'Start': [65, 301, 5464, 1801, 13], 'End': [71, 307, 5468, 1806, 16], 'sequence_length': [6, 6, 4, 5, 3], 'input_ids': [[101, 19245, 102], [101, 1119, 4163, 2430, 102], [101, 180, 1571, 1545, 1477, 102], [101, 1892, 102], [101, 5110, 102]], 'token_type_ids': [[0, 0, 0], [0, 0, 0, 0, 0], [0, 0, 0, 0, 0, 0], [0, 0, 0], [0, 0, 0]], 'attention_mask': [[1, 1, 1], [1, 1, 1, 1, 1], [1, 1, 1, 1, 1, 1], [1, 1, 1], [1, 1, 1]], 'overflow_to_sample_mapping': [0, 1, 2, 3, 4], 'labels': [[-100, 0, -100], [-100, 1, -100, -100, -100], [-100, 2, -100, -100, -100, -100], [-100, 3, -100], [-100, 0, -100]]}\n"
          ]
        }
      ]
    },
    {
      "cell_type": "markdown",
      "source": [
        "#Model Configuration\n",
        "La configurazione del modello BioBERT, dmis-lab/biobert-base-cased-v1.1, prepara il modello pre-addestrato per il fine-tuning sul task di Named Entity Recognition (NER) biomedico. Utilizziamo AutoModelForTokenClassification per caricare il modello e aggiungere una testa di classificazione specifica, inizializzata per adattarsi al numero di classi del nostro dataset"
      ],
      "metadata": {
        "id": "q0nb8ijyXguz"
      }
    },
    {
      "cell_type": "code",
      "source": [
        "from transformers import AutoModelForTokenClassification\n",
        "\n",
        "# Carichiamo il modello BioBERT configurato per il token classification\n",
        "model = AutoModelForTokenClassification.from_pretrained(\n",
        "    model_name,           # Nome del modello pre-addestrato\n",
        "    num_labels=len(tag2id)  # Numero di classi (etichette uniche)\n",
        ")\n",
        "\n",
        "print(\"Modello caricato con successo!\")\n"
      ],
      "metadata": {
        "colab": {
          "base_uri": "https://localhost:8080/",
          "height": 123,
          "referenced_widgets": [
            "41052e895b5f42c8846cc2896eafad47",
            "ea8cdcbf81c34979b40d162e914f35ab",
            "ac5ec100870f4d79b220e73c80f7bc9d",
            "b9056f93eb21401f8860ac57aea83c96",
            "58c8b3ed6bc64571aed2f82c6febc0bb",
            "e73d28395e1348de927cfc6100610abe",
            "494b449cdbfe4f07901c3ae43efb51f4",
            "214a1eb187eb4a249155fa40408522e1",
            "9339ba9680fc485683cdb0f6debb32a1",
            "54afba82c7884af5a1e39b47835679bd",
            "42f94a8327294e9cb94763444a025cb7"
          ]
        },
        "id": "EvuejSV3XmGZ",
        "outputId": "1e66ffae-a969-471d-e702-a00ca7dd7031"
      },
      "execution_count": null,
      "outputs": [
        {
          "output_type": "display_data",
          "data": {
            "text/plain": [
              "pytorch_model.bin:   0%|          | 0.00/436M [00:00<?, ?B/s]"
            ],
            "application/vnd.jupyter.widget-view+json": {
              "version_major": 2,
              "version_minor": 0,
              "model_id": "41052e895b5f42c8846cc2896eafad47"
            }
          },
          "metadata": {}
        },
        {
          "output_type": "stream",
          "name": "stderr",
          "text": [
            "Some weights of BertForTokenClassification were not initialized from the model checkpoint at dmis-lab/biobert-base-cased-v1.1 and are newly initialized: ['classifier.bias', 'classifier.weight']\n",
            "You should probably TRAIN this model on a down-stream task to be able to use it for predictions and inference.\n"
          ]
        },
        {
          "output_type": "stream",
          "name": "stdout",
          "text": [
            "Modello caricato con successo!\n"
          ]
        }
      ]
    },
    {
      "cell_type": "markdown",
      "source": [
        "#Preparing for training\n",
        "##Data collator\n",
        "In this step, the DataCollatorForTokenClassification is configured for the token classification task. This collator handles tokenization, applies padding, and prepares the data to be compatible with the model for training.\n",
        "\n",
        "Next, an **evaluation function** (compute_metrics) is defined, using seqeval to compute performance metrics such as precision, recall, F1, and accuracy. The model's predictions are compared to the true labels (excluding padding tokens) to obtain these metrics, which are useful for tracking the model’s effectiveness during training."
      ],
      "metadata": {
        "id": "9OWdDEDQZcO2"
      }
    },
    {
      "cell_type": "code",
      "source": [
        "from transformers import DataCollatorForTokenClassification\n",
        "\n",
        "# Configuriamo il Data Collator per il task di classificazione dei token\n",
        "data_collator = DataCollatorForTokenClassification(tokenizer)\n",
        "print(\"Data Collator configurato!\")\n"
      ],
      "metadata": {
        "colab": {
          "base_uri": "https://localhost:8080/"
        },
        "id": "zI3gbV0NXvLe",
        "outputId": "a13e4d7e-2cb9-4726-ac93-2427fe53390c"
      },
      "execution_count": null,
      "outputs": [
        {
          "output_type": "stream",
          "name": "stdout",
          "text": [
            "Data Collator configurato!\n"
          ]
        }
      ]
    },
    {
      "cell_type": "code",
      "source": [
        "import evaluate\n",
        "import numpy as np\n",
        "\n",
        "# Funzione di valutazione\n",
        "seqeval = evaluate.load(\"seqeval\")\n",
        "\n",
        "def compute_metrics(p):\n",
        "    predictions, labels = p\n",
        "    predictions = np.argmax(predictions, axis=2)\n",
        "\n",
        "    true_predictions = [\n",
        "        [id2tag[p] for (p, l) in zip(pred, label) if l != -100]\n",
        "        for pred, label in zip(predictions, labels)\n",
        "    ]\n",
        "    true_labels = [\n",
        "        [id2tag[l] for (p, l) in zip(pred, label) if l != -100]\n",
        "        for pred, label in zip(predictions, labels)\n",
        "    ]\n",
        "\n",
        "    results = seqeval.compute(predictions=true_predictions, references=true_labels)\n",
        "    return {\n",
        "        \"precision\": results[\"overall_precision\"],\n",
        "        \"recall\": results[\"overall_recall\"],\n",
        "        \"f1\": results[\"overall_f1\"],\n",
        "        \"accuracy\": results[\"overall_accuracy\"],\n",
        "    }\n",
        "\n",
        "print(\"Metriche configurate!\")\n"
      ],
      "metadata": {
        "colab": {
          "base_uri": "https://localhost:8080/",
          "height": 67,
          "referenced_widgets": [
            "bbb7e0d3ac7b4b72a936672246b9f2fc",
            "2ccd0bea75fe430d975d2fb1efc3ae9a",
            "371fdb1e52014e629bebd72c03137ca5",
            "0b8224cfd6084976a1f126d7a4ed6685",
            "f50d09a69fd3486a8c1f7dcfcee7447e",
            "2c5e656ceb0c44978463073379f1e028",
            "4c025a897496480ebf03dca80637ded8",
            "c9e77e42120447c0b26dd3709168e6bd",
            "17cae7d83eea4019a4d5d159f7e0d8a2",
            "c6e9b899ecdc4515b59ab4e1132ac955",
            "4c29246f689f4fb8bbb9feb5cbec9bc7"
          ]
        },
        "id": "ix5fFq5XX4AE",
        "outputId": "57cf8055-54cc-479c-b183-4f979fb16ab2"
      },
      "execution_count": null,
      "outputs": [
        {
          "output_type": "display_data",
          "data": {
            "text/plain": [
              "Downloading builder script:   0%|          | 0.00/6.34k [00:00<?, ?B/s]"
            ],
            "application/vnd.jupyter.widget-view+json": {
              "version_major": 2,
              "version_minor": 0,
              "model_id": "bbb7e0d3ac7b4b72a936672246b9f2fc"
            }
          },
          "metadata": {}
        },
        {
          "output_type": "stream",
          "name": "stdout",
          "text": [
            "Metriche configurate!\n"
          ]
        }
      ]
    },
    {
      "cell_type": "markdown",
      "source": [
        "##Setting training parameters\n",
        "We defined the training parameters using TrainingArguments from Hugging Face. The configuration includes:\n",
        "* The model will be saved in a specified directory.\n",
        "* The training will run for five epochs.\n",
        "* The batch sizes for training and evaluation are defined.\n",
        "* The evaluation and saving strategies are set to occur at the end of each epoch.\n",
        "* The best-performing model will be automatically loaded after training.\n",
        "* The model training will be logged during the process.\n",
        "* The evaluation metric for selecting the best model is F1 score."
      ],
      "metadata": {
        "id": "YKdnZUQ0Zki6"
      }
    },
    {
      "cell_type": "code",
      "source": [
        "from transformers import TrainingArguments\n",
        "\n",
        "# Configura il Trainer\n",
        "training_args = TrainingArguments(\n",
        "    output_dir=\"./results_biobert\",\n",
        "    num_train_epochs=5,\n",
        "    learning_rate=5e-5,\n",
        "    per_device_train_batch_size=64,\n",
        "    per_device_eval_batch_size=128,\n",
        "    weight_decay=0.01,\n",
        "    eval_strategy=\"epoch\",\n",
        "    save_strategy=\"epoch\",\n",
        "    load_best_model_at_end=True,\n",
        "    metric_for_best_model=\"f1\",\n",
        "    logging_dir=\"./logs_biobert\",\n",
        "    report_to=\"none\"\n",
        ")\n",
        "print(\"Argomenti di addestramento configurati!\")\n"
      ],
      "metadata": {
        "colab": {
          "base_uri": "https://localhost:8080/",
          "height": 35
        },
        "id": "BmHsVNudYbhY",
        "outputId": "a7ba516e-7030-4270-ec4f-867c46ee3b48"
      },
      "execution_count": null,
      "outputs": [
        {
          "output_type": "stream",
          "name": "stdout",
          "text": [
            "Argomenti di addestramento configurati!\n"
          ]
        }
      ]
    },
    {
      "cell_type": "markdown",
      "source": [
        "#Trainer\n",
        "In this section, we configure the Trainer to handle the training process. The model, training arguments, datasets, and data collator are defined, setting up the pipeline for training and evaluation.\n",
        "\n",
        "**Early stopping:**\n",
        "A crucial aspect of the setup is the inclusion of early stopping, which helps prevent overfitting. Early stopping monitors the performance on the validation set and halts training if no improvement is observed after three consecutive epochs. This strategy helps save computational resources by avoiding unnecessary epochs and ensures that the model doesn't continue training once it has reached its optimal performance.\n",
        "\n",
        "Additionally, we specify a function to compute **evaluation metrics**, ensuring that we track the model's performance during training. The overall configuration supports an efficient training process, optimizing both model accuracy and resource usage."
      ],
      "metadata": {
        "id": "HenETF--aOl4"
      }
    },
    {
      "cell_type": "code",
      "source": [
        "from transformers import Trainer, EarlyStoppingCallback\n",
        "\n",
        "# Configura il Trainer\n",
        "trainer = Trainer(\n",
        "    model=model,                              # Modello configurato\n",
        "    args=training_args,                       # Argomenti di addestramento\n",
        "    train_dataset=tokenized_datasets[\"train\"],  # Dataset di addestramento\n",
        "    eval_dataset=tokenized_datasets[\"validation\"],  # Dataset di validazione\n",
        "    data_collator=data_collator,              # Data Collator\n",
        "    compute_metrics=compute_metrics,          # Metriche\n",
        "    callbacks=[EarlyStoppingCallback(early_stopping_patience=3)]  # Early stopping\n",
        ")\n",
        "\n",
        "print(\"Trainer configurato con successo!\")\n",
        "g\n"
      ],
      "metadata": {
        "colab": {
          "base_uri": "https://localhost:8080/"
        },
        "id": "lhUGc5WGYxLp",
        "outputId": "687b96a1-5c57-40f9-ab88-b2025da42a50"
      },
      "execution_count": null,
      "outputs": [
        {
          "output_type": "stream",
          "name": "stdout",
          "text": [
            "Trainer configurato con successo!\n"
          ]
        }
      ]
    },
    {
      "cell_type": "markdown",
      "source": [
        "#TRAINING\n",
        "After preparing the data and configuring the model, we proceed with training BioBERT for the Named Entity Recognition (NER) task. The Data Collator handles padding and batching, ensuring the data is properly formatted for the model. The Trainer runs the training process, monitoring precision, recall, F1, and accuracy over five epochs. Once training is complete, the fine-tuned model and tokenizer are saved for future use. Finally, we reload them to verify the successful saving and conclude the process."
      ],
      "metadata": {
        "id": "CDDY-XHhax2y"
      }
    },
    {
      "cell_type": "code",
      "source": [
        "print(tokenized_datasets[\"train\"][0])\n"
      ],
      "metadata": {
        "colab": {
          "base_uri": "https://localhost:8080/"
        },
        "id": "YrzTheYMa-Q7",
        "outputId": "5ac49442-ccad-43a5-9c97-139df6f18a54"
      },
      "execution_count": null,
      "outputs": [
        {
          "output_type": "stream",
          "name": "stdout",
          "text": [
            "{'Start': 65, 'End': 71, 'sequence_length': 6, 'input_ids': [101, 19245, 102], 'token_type_ids': [0, 0, 0], 'attention_mask': [1, 1, 1], 'overflow_to_sample_mapping': 0, 'labels': [-100, 0, -100]}\n"
          ]
        }
      ]
    },
    {
      "cell_type": "code",
      "source": [
        "\n",
        "# Preleva un batch di esempio\n",
        "sample_batch = tokenized_datasets[\"train\"][:2]\n",
        "\n",
        "# Converte il batch in una lista di dizionari\n",
        "sample_batch_list = [{key: sample_batch[key][i] for key in sample_batch} for i in range(len(sample_batch[\"input_ids\"]))]\n",
        "\n",
        "# Applica il data collator\n",
        "processed_batch = data_collator(sample_batch_list)\n",
        "\n",
        "print(\"Batch processato dal data collator:\")\n",
        "print(processed_batch)\n",
        "\n"
      ],
      "metadata": {
        "colab": {
          "base_uri": "https://localhost:8080/"
        },
        "id": "J_H-9iQ1bAUm",
        "outputId": "0e987132-62d3-4c9e-fad1-d067695dab99"
      },
      "execution_count": null,
      "outputs": [
        {
          "output_type": "stream",
          "name": "stdout",
          "text": [
            "Batch processato dal data collator:\n",
            "{'Start': tensor([ 65, 301]), 'End': tensor([ 71, 307]), 'sequence_length': tensor([6, 6]), 'input_ids': tensor([[  101, 19245,   102,     0,     0],\n",
            "        [  101,  1119,  4163,  2430,   102]]), 'token_type_ids': tensor([[0, 0, 0, 0, 0],\n",
            "        [0, 0, 0, 0, 0]]), 'attention_mask': tensor([[1, 1, 1, 0, 0],\n",
            "        [1, 1, 1, 1, 1]]), 'overflow_to_sample_mapping': tensor([0, 1]), 'labels': tensor([[-100,    0, -100, -100, -100],\n",
            "        [-100,    1, -100, -100, -100]])}\n"
          ]
        }
      ]
    },
    {
      "cell_type": "markdown",
      "source": [],
      "metadata": {
        "id": "yXFUGE8vubVI"
      }
    },
    {
      "cell_type": "code",
      "source": [
        "# Avvia l'addestramento del modello\n",
        "print(\"Inizio dell'addestramento...\")\n",
        "trainer.train()\n",
        "print(\"Addestramento completato!\")\n"
      ],
      "metadata": {
        "colab": {
          "base_uri": "https://localhost:8080/",
          "height": 237
        },
        "id": "0C6fBEEQaPy0",
        "outputId": "d1ed44ec-700c-473e-9a7f-f18665a7a876"
      },
      "execution_count": null,
      "outputs": [
        {
          "output_type": "stream",
          "name": "stdout",
          "text": [
            "Inizio dell'addestramento...\n"
          ]
        },
        {
          "output_type": "display_data",
          "data": {
            "text/plain": [
              "<IPython.core.display.HTML object>"
            ],
            "text/html": [
              "\n",
              "    <div>\n",
              "      \n",
              "      <progress value='11492' max='14365' style='width:300px; height:20px; vertical-align: middle;'></progress>\n",
              "      [11492/14365 08:26 < 02:06, 22.70 it/s, Epoch 4/5]\n",
              "    </div>\n",
              "    <table border=\"1\" class=\"dataframe\">\n",
              "  <thead>\n",
              " <tr style=\"text-align: left;\">\n",
              "      <th>Epoch</th>\n",
              "      <th>Training Loss</th>\n",
              "      <th>Validation Loss</th>\n",
              "      <th>Precision</th>\n",
              "      <th>Recall</th>\n",
              "      <th>F1</th>\n",
              "      <th>Accuracy</th>\n",
              "    </tr>\n",
              "  </thead>\n",
              "  <tbody>\n",
              "    <tr>\n",
              "      <td>1</td>\n",
              "      <td>0.037400</td>\n",
              "      <td>0.493430</td>\n",
              "      <td>0.500000</td>\n",
              "      <td>0.433071</td>\n",
              "      <td>0.464135</td>\n",
              "      <td>0.936491</td>\n",
              "    </tr>\n",
              "    <tr>\n",
              "      <td>2</td>\n",
              "      <td>0.028200</td>\n",
              "      <td>0.523831</td>\n",
              "      <td>0.455357</td>\n",
              "      <td>0.401575</td>\n",
              "      <td>0.426778</td>\n",
              "      <td>0.932327</td>\n",
              "    </tr>\n",
              "    <tr>\n",
              "      <td>3</td>\n",
              "      <td>0.031000</td>\n",
              "      <td>0.571818</td>\n",
              "      <td>0.445455</td>\n",
              "      <td>0.385827</td>\n",
              "      <td>0.413502</td>\n",
              "      <td>0.932847</td>\n",
              "    </tr>\n",
              "    <tr>\n",
              "      <td>4</td>\n",
              "      <td>0.026000</td>\n",
              "      <td>0.595318</td>\n",
              "      <td>0.461538</td>\n",
              "      <td>0.377953</td>\n",
              "      <td>0.415584</td>\n",
              "      <td>0.934409</td>\n",
              "    </tr>\n",
              "  </tbody>\n",
              "</table><p>"
            ]
          },
          "metadata": {}
        },
        {
          "output_type": "stream",
          "name": "stdout",
          "text": [
            "Addestramento completato!\n"
          ]
        }
      ]
    },
    {
      "cell_type": "markdown",
      "source": [
        "**Metrics by Epoch during Training**:\n",
        "\n",
        "The table shows the progression of the Training Loss, Validation Loss, and evaluation metrics (Precision, Recall, F1, and Accuracy) across four epochs. The trends highlight the challenges faced during training.\n",
        "\n",
        "* **Training Loss** decreases steadily from 0.0374 in the first epoch to 0.0260 in the fourth epoch, indicating that the model is learning patterns from the training data.\n",
        "* **Validation Loss** shows an increasing trend, rising from 0.4934 in the first epoch to 0.5953 in the fourth epoch. This suggests that the model struggles to generalize to the validation set and may be overfitting the training data.\n",
        "\n",
        "* **Precision** starts at 50% in the first epoch and fluctuates slightly, reaching 46.2% by the fourth epoch. This indicates that the model's ability to make correct predictions did not consistently improve.\n",
        "\n",
        "* **Recall** decreases steadily from 43.3% to 37.8%, showing a reduction in the model’s capacity to detect correct entities as training progresses.\n",
        "\n",
        "* **F1 Score**, which balances Precision and Recall, also declines, starting at 46.4% in the first epoch and dropping to 41.6% in the fourth epoch.\n",
        "\n",
        "* **Accuracy** remains relatively stable, hovering between 93.2% and 93.6%, but this likely reflects the dominance of the majority class in the dataset rather than improved performance on minority classes.\n",
        "\n",
        "Key Observations:\n",
        "\n",
        "The increasing Validation Loss and the decline in Recall and F1 Score suggest that the model is overfitting the training data and is not learning effectively on unseen data.\n",
        "Precision remains inconsistent, which might indicate difficulty in handling class imbalance or sparse data.\n",
        "Conclusion\n",
        "While the model shows a reduction in Training Loss, the performance metrics (Precision, Recall, F1) indicate limited improvement, and the increasing Validation Loss highlights overfitting issues. Further steps such as regularization, data augmentation, or rebalancing the dataset may help improve generalization and model performance."
      ],
      "metadata": {
        "id": "czvfyE74pnZv"
      }
    },
    {
      "cell_type": "code",
      "source": [
        "from google.colab import drive\n",
        "drive.mount('/content/drive', force_remount=True)\n",
        "\n",
        "\n",
        "# Directory di salvataggio\n",
        "save_directory = '/content/drive/MyDrive/saved_model3'\n",
        "if not os.path.exists(save_directory):\n",
        "    os.makedirs(save_directory)\n",
        "\n",
        "# Salva il modello e il tokenizer\n",
        "trainer.save_model(save_directory)\n",
        "tokenizer.save_pretrained(save_directory)\n",
        "\n",
        "print(f\"Modello e tokenizer salvati nella directory: {save_directory}\")\n"
      ],
      "metadata": {
        "id": "nRJYntmKPHm7",
        "outputId": "bc5d149e-3dd6-473f-a853-c5dddd37e5bb",
        "colab": {
          "base_uri": "https://localhost:8080/"
        }
      },
      "execution_count": null,
      "outputs": [
        {
          "output_type": "stream",
          "name": "stdout",
          "text": [
            "Mounted at /content/drive\n",
            "Modello e tokenizer salvati nella directory: /content/drive/MyDrive/saved_model3\n"
          ]
        }
      ]
    },
    {
      "cell_type": "code",
      "source": [
        "import os\n",
        "\n",
        "save_directory = '/content/drive/MyDrive/Assignment3/fine_tuned_model'\n",
        "\n",
        "# Crea la directory se non esiste\n",
        "if not os.path.exists(save_directory):\n",
        "    os.makedirs(save_directory)\n",
        "\n",
        "# Salva il modello e il tokenizer\n",
        "trainer.save_model(save_directory)\n",
        "tokenizer.save_pretrained(save_directory)\n",
        "\n",
        "print(f\"Modello e tokenizer salvati nella directory: {save_directory}\")\n"
      ],
      "metadata": {
        "id": "oQ_nzcr6rocK",
        "outputId": "a41d7332-f107-484b-f675-7a3528d924cf",
        "colab": {
          "base_uri": "https://localhost:8080/"
        }
      },
      "execution_count": null,
      "outputs": [
        {
          "output_type": "stream",
          "name": "stdout",
          "text": [
            "Modello e tokenizer salvati nella directory: /content/drive/MyDrive/Assignment3/fine_tuned_model\n"
          ]
        }
      ]
    },
    {
      "cell_type": "code",
      "source": [
        "from transformers import AutoModelForTokenClassification, AutoTokenizer\n",
        "\n",
        "# Specifica il percorso del modello salvato\n",
        "save_directory = '/content/drive/MyDrive/Assignment3/fine_tuned_model'\n",
        "\n",
        "# Carica il modello e il tokenizer\n",
        "model = AutoModelForTokenClassification.from_pretrained(save_directory, local_files_only=True)\n",
        "tokenizer = AutoTokenizer.from_pretrained(save_directory, local_files_only=True)\n",
        "\n",
        "print(\"Modello e tokenizer caricati con successo!\")\n"
      ],
      "metadata": {
        "id": "ydTwv-w5r-HW",
        "outputId": "eb7363cb-1f7d-4137-adce-f1ab178eb15f",
        "colab": {
          "base_uri": "https://localhost:8080/"
        }
      },
      "execution_count": null,
      "outputs": [
        {
          "output_type": "stream",
          "name": "stdout",
          "text": [
            "Modello e tokenizer caricati con successo!\n"
          ]
        }
      ]
    },
    {
      "cell_type": "code",
      "source": [
        "from transformers import Trainer\n",
        "\n",
        "# Configura un nuovo Trainer per la valutazione\n",
        "trainer_fine_tuned = Trainer(\n",
        "    model=model,                              # Modello caricato\n",
        "    args=training_args,                       # Argomenti di training già configurati\n",
        "    train_dataset=tokenized_datasets[\"train\"],  # Dataset di addestramento\n",
        "    eval_dataset=tokenized_datasets[\"validation\"],  # Dataset di validazione\n",
        "    tokenizer=tokenizer,                      # Tokenizer caricato\n",
        "    data_collator=data_collator,              # Data collator\n",
        "    compute_metrics=compute_metrics           # Funzione per il calcolo delle metriche\n",
        ")\n",
        "\n",
        "print(\"Trainer configurato per la valutazione!\")\n"
      ],
      "metadata": {
        "id": "RBi55PW9r_xz",
        "outputId": "ebad9ba4-353a-4a07-ef45-21b1b314adbd",
        "colab": {
          "base_uri": "https://localhost:8080/"
        }
      },
      "execution_count": null,
      "outputs": [
        {
          "output_type": "stream",
          "name": "stderr",
          "text": [
            "<ipython-input-34-83aaac066129>:4: FutureWarning: `tokenizer` is deprecated and will be removed in version 5.0.0 for `Trainer.__init__`. Use `processing_class` instead.\n",
            "  trainer_fine_tuned = Trainer(\n"
          ]
        },
        {
          "output_type": "stream",
          "name": "stdout",
          "text": [
            "Trainer configurato per la valutazione!\n"
          ]
        }
      ]
    },
    {
      "cell_type": "markdown",
      "source": [
        "# Evaluation of the Fine-Tuned Model\n",
        "In this section, we configure a new Trainer to evaluate the fine-tuned model on the validation and test datasets. This step is essential to assess the model’s performance on the validation set, which was used for monitoring during training, and the test set, which consists of unseen data. The goal is to measure the model’s ability to generalize beyond the training context."
      ],
      "metadata": {
        "id": "gurbU9Ls3LSr"
      }
    },
    {
      "cell_type": "code",
      "source": [
        "# Valutazione sul set di validazione\n",
        "print(\"Valutazione sul validation set...\")\n",
        "validation_metrics = trainer_fine_tuned.evaluate(tokenized_datasets[\"validation\"])\n",
        "print(\"Metriche sul validation set:\")\n",
        "print(validation_metrics)\n",
        "\n",
        "# Valutazione sul set di test\n",
        "print(\"Valutazione sul test set...\")\n",
        "test_metrics = trainer_fine_tuned.evaluate(tokenized_datasets[\"test\"])\n",
        "print(\"Metriche sul test set:\")\n",
        "print(test_metrics)\n"
      ],
      "metadata": {
        "id": "3AvVWz3EsB9V",
        "outputId": "b1777fb6-d3e5-4216-b377-249684b0c3ea",
        "colab": {
          "base_uri": "https://localhost:8080/",
          "height": 164
        }
      },
      "execution_count": null,
      "outputs": [
        {
          "output_type": "stream",
          "name": "stdout",
          "text": [
            "Valutazione sul validation set...\n"
          ]
        },
        {
          "output_type": "display_data",
          "data": {
            "text/plain": [
              "<IPython.core.display.HTML object>"
            ],
            "text/html": [
              "\n",
              "    <div>\n",
              "      \n",
              "      <progress value='30' max='15' style='width:300px; height:20px; vertical-align: middle;'></progress>\n",
              "      [15/15 00:00]\n",
              "    </div>\n",
              "    "
            ]
          },
          "metadata": {}
        },
        {
          "output_type": "stream",
          "name": "stdout",
          "text": [
            "Metriche sul validation set:\n",
            "{'eval_loss': 0.49343040585517883, 'eval_model_preparation_time': 0.0034, 'eval_precision': 0.5, 'eval_recall': 0.4330708661417323, 'eval_f1': 0.4641350210970464, 'eval_accuracy': 0.9364914107235814, 'eval_runtime': 0.5279, 'eval_samples_per_second': 3633.592, 'eval_steps_per_second': 28.417}\n",
            "Valutazione sul test set...\n",
            "Metriche sul test set:\n",
            "{'eval_loss': 0.5162343382835388, 'eval_model_preparation_time': 0.0034, 'eval_precision': 0.3953488372093023, 'eval_recall': 0.3984375, 'eval_f1': 0.3968871595330739, 'eval_accuracy': 0.9287200832466181, 'eval_runtime': 0.5265, 'eval_samples_per_second': 3644.517, 'eval_steps_per_second': 28.488}\n"
          ]
        }
      ]
    },
    {
      "cell_type": "code",
      "source": [
        "import pandas as pd\n",
        "\n",
        "# Raccolta delle metriche in un DataFrame\n",
        "metrics_data = {\n",
        "    \"Set\": [\"Validation\", \"Test\"],\n",
        "    \"Loss\": [validation_metrics['eval_loss'], test_metrics['eval_loss']],\n",
        "    \"Precision\": [validation_metrics.get('eval_precision', 0.0), test_metrics.get('eval_precision', 0.0)],\n",
        "    \"Recall\": [validation_metrics.get('eval_recall', 0.0), test_metrics.get('eval_recall', 0.0)],\n",
        "    \"F1\": [validation_metrics.get('eval_f1', 0.0), test_metrics.get('eval_f1', 0.0)],\n",
        "    \"Accuracy\": [validation_metrics.get('eval_accuracy', 0.0), test_metrics.get('eval_accuracy', 0.0)]\n",
        "}\n",
        "\n",
        "metrics_df = pd.DataFrame(metrics_data)\n",
        "\n",
        "print(\"\\nTabella riassuntiva delle metriche:\")\n",
        "print(metrics_df)\n"
      ],
      "metadata": {
        "id": "rcIzXRcXsOqJ",
        "outputId": "60c266d1-ad66-453e-9bc5-867ed2a9ca55",
        "colab": {
          "base_uri": "https://localhost:8080/"
        }
      },
      "execution_count": null,
      "outputs": [
        {
          "output_type": "stream",
          "name": "stdout",
          "text": [
            "\n",
            "Tabella riassuntiva delle metriche:\n",
            "          Set      Loss  Precision    Recall        F1  Accuracy\n",
            "0  Validation  0.493430   0.500000  0.433071  0.464135  0.936491\n",
            "1        Test  0.516234   0.395349  0.398438  0.396887  0.928720\n"
          ]
        }
      ]
    },
    {
      "cell_type": "markdown",
      "source": [
        "* On the **validation set**, the model achieves a loss of 0.4934, with a Precision of 50% and a Recall of 43.3%. These results yield an F1 score of 46.4%, indicating a moderate ability to recognize biomedical entities while struggling to balance Precision and Recall. The Accuracy of 93.65% reflects the model’s strong handling of the dominant \"Other\" class but does not accurately represent its performance on minority classes.\n",
        "\n",
        "* On the **test set**, the loss slightly increases to 0.5162, and both Precision and Recall drop to approximately 39.5% and 39.8%, respectively. This results in an F1 score of 39.7%, revealing greater difficulty in handling completely unseen data. While the Accuracy remains high at 92.87%, this metric is again heavily influenced by the imbalance in class representation.\n",
        "\n",
        "These results demonstrate that while the model has learned from the training data, **it exhibits limitations in generalization**, particularly for underrepresented classes. Addressing these issues through dataset balancing or enhancing the representativeness of minority classes could significantly improve its overall performance.\n",
        "\n",
        "\n",
        "\n",
        "\n",
        "\n",
        "\n"
      ],
      "metadata": {
        "id": "6B83Vkao3g3T"
      }
    },
    {
      "cell_type": "markdown",
      "source": [
        "# Confusion Matrix\n",
        "We present the results of the fine-tuned model on the test set through the confusion matrix, which provides a detailed **view of the model's performance** across all classes. This visualization highlights how well the model distinguishes between different entities and helps identify potential areas of confusion among the labels."
      ],
      "metadata": {
        "id": "5Sbk090i3pR7"
      }
    },
    {
      "cell_type": "code",
      "source": [
        "from sklearn.metrics import confusion_matrix, ConfusionMatrixDisplay\n",
        "import matplotlib.pyplot as plt\n",
        "import numpy as np\n",
        "\n",
        "# Funzione per calcolare le predizioni e le etichette vere\n",
        "def get_predictions_and_labels(trainer, dataset):\n",
        "    # Ottieni predizioni dal modello\n",
        "    predictions, labels, _ = trainer.predict(dataset)\n",
        "\n",
        "    # Convertire le predizioni probabilistiche in etichette\n",
        "    predictions = np.argmax(predictions, axis=2)\n",
        "\n",
        "    # Filtra i token speciali (-100) dalle etichette\n",
        "    true_labels = [\n",
        "        [label for label in label_seq if label != -100]\n",
        "        for label_seq in labels\n",
        "    ]\n",
        "    pred_labels = [\n",
        "        [pred for pred, label in zip(pred_seq, label_seq) if label != -100]\n",
        "        for pred_seq, label_seq in zip(predictions, labels)\n",
        "    ]\n",
        "\n",
        "    # Appiattire le liste per calcolare la matrice di confusione\n",
        "    true_labels = [item for sublist in true_labels for item in sublist]\n",
        "    pred_labels = [item for sublist in pred_labels for item in sublist]\n",
        "\n",
        "    return true_labels, pred_labels\n",
        "\n",
        "# Etichette vere e predette dal test set\n",
        "true_labels, pred_labels = get_predictions_and_labels(trainer_fine_tuned, tokenized_datasets['test'])\n",
        "# Calcolare la matrice di confusione\n",
        "conf_matrix = confusion_matrix(true_labels, pred_labels, labels=list(tag2id.values()))\n",
        "\n",
        "# Mappare gli ID delle etichette ai nomi dei tag NER\n",
        "labels = [id2tag[id_] for id_ in tag2id.values()]\n",
        "# Visualizzare la matrice di confusione\n",
        "plt.figure(figsize=(12, 10))\n",
        "disp = ConfusionMatrixDisplay(confusion_matrix=conf_matrix, display_labels=labels)\n",
        "disp.plot(cmap='Blues', xticks_rotation=45)\n",
        "plt.title(\"Confusion Matrix for Test Set\")\n",
        "plt.show()\n"
      ],
      "metadata": {
        "id": "rbi_qm7jsfF-",
        "outputId": "329abcb2-643d-4c3a-a640-6627c08a8af6",
        "colab": {
          "base_uri": "https://localhost:8080/",
          "height": 557
        }
      },
      "execution_count": null,
      "outputs": [
        {
          "output_type": "display_data",
          "data": {
            "text/plain": [
              "<IPython.core.display.HTML object>"
            ],
            "text/html": []
          },
          "metadata": {}
        },
        {
          "output_type": "display_data",
          "data": {
            "text/plain": [
              "<Figure size 1200x1000 with 0 Axes>"
            ]
          },
          "metadata": {}
        },
        {
          "output_type": "display_data",
          "data": {
            "text/plain": [
              "<Figure size 640x480 with 2 Axes>"
            ],
            "image/png": "[encoded data removed]"
          },
          "metadata": {}
        }
      ]
    },
    {
      "cell_type": "markdown",
      "source": [
        "# Predictions\n",
        "In this section, we use the fine-tuned BioBERT model to predict Named Entity Recognition (NER) tags for new sentences. The function tokenizes the input, processes it through the model, and maps the predicted labels back to the corresponding tokens. Sub-tokens are merged into complete words, ensuring the predictions align with the original text.\n",
        "\n",
        "In the provided examples, the model assigns the label \"O\" to all tokens, indicating that it classifies them as non-entities. This behavior is consistent with the training dataset, where the \"O\" label (representing non-entities) is the most prevalent. While this result reflects the dataset's imbalance, it also suggests that the specific sentences used may not contain recognizable biomedical entities, as defined by the model’s training"
      ],
      "metadata": {
        "id": "wxvrw7Y6-jJm"
      }
    },
    {
      "cell_type": "code",
      "source": [
        "from transformers import AutoModelForTokenClassification, AutoTokenizer\n",
        "import torch\n",
        "\n",
        "# Specificare la directory dove sono salvati i file\n",
        "model_directory = \"/content/drive/MyDrive/Assignment3/fine_tuned_model\"\n",
        "\n",
        "# Caricare il modello fine-tunato e il tokenizer\n",
        "model = AutoModelForTokenClassification.from_pretrained(model_directory)\n",
        "tokenizer = AutoTokenizer.from_pretrained(model_directory)\n",
        "\n",
        "# Funzione di predizione\n",
        "def predict_ner(sentence):\n",
        "    # Tokenizzare la frase\n",
        "    inputs = tokenizer.encode_plus(\n",
        "        sentence,\n",
        "        return_tensors='pt',             # Restituisce l'output come tensori PyTorch\n",
        "        is_split_into_words=False,       # Input è una frase completa\n",
        "        truncation=True,\n",
        "        max_length=128                   # Lunghezza max usata durante l'addestramento\n",
        "    )\n",
        "    input_ids = inputs['input_ids']\n",
        "\n",
        "    model.eval()  # Metti il modello in modalità valutazione per evitare modifiche ai pesi\n",
        "\n",
        "    # Ottenere le predizioni\n",
        "    with torch.no_grad():\n",
        "        outputs = model(**inputs)  # Ottieni i logits\n",
        "        predictions = torch.argmax(outputs.logits, dim=2)[0].numpy()  # Per ogni token seleziona la classe con la probabilità più alta\n",
        "\n",
        "    # Convertire input_ids in token\n",
        "    tokens = tokenizer.convert_ids_to_tokens(input_ids[0])\n",
        "\n",
        "    # Ricostruire le parole dai sub-token e assegnare le etichette\n",
        "    words = []\n",
        "    labels = []\n",
        "    for idx, (token, pred) in enumerate(zip(tokens, predictions)):\n",
        "        if token in [tokenizer.cls_token, tokenizer.sep_token, tokenizer.pad_token]:\n",
        "            continue\n",
        "        if token.startswith('##'):\n",
        "            words[-1] += token[2:]  # Combina sub-token\n",
        "        else:\n",
        "            words.append(token)\n",
        "            labels.append(id2tag[pred])  # Mappa l'indice della classe con il tag\n",
        "\n",
        "    # Stampare le parole e le relative etichette\n",
        "    print(\"\\nPredizione:\")\n",
        "    print(\"Parola\\tEtichetta\")\n",
        "    for word, label in zip(words, labels):\n",
        "        print(f\"{word}\\t{label}\")\n",
        "\n",
        "\n",
        "# Test della funzione di predizione\n",
        "print(\"\\nEsempio di predizione:\")\n",
        "test_sentence_1 = \"The patient has a history of diabetes and heart disease.\"\n",
        "test_sentence_2 = \"MRI scan showed abnormalities in the brain.\"\n",
        "predict_ner(test_sentence_1)\n",
        "predict_ner(test_sentence_2)\n"
      ],
      "metadata": {
        "id": "3mYHYIgMs8Qb",
        "outputId": "81e8d83c-6688-4efc-d6e8-7d955450fdb3",
        "colab": {
          "base_uri": "https://localhost:8080/"
        }
      },
      "execution_count": null,
      "outputs": [
        {
          "output_type": "stream",
          "name": "stdout",
          "text": [
            "\n",
            "Esempio di predizione:\n",
            "\n",
            "Predizione:\n",
            "Parola\tEtichetta\n",
            "the\tO\n",
            "patient\tO\n",
            "has\tO\n",
            "a\tO\n",
            "history\tO\n",
            "of\tO\n",
            "diabetes\tO\n",
            "and\tO\n",
            "heart\tO\n",
            "disease\tO\n",
            ".\tO\n",
            "\n",
            "Predizione:\n",
            "Parola\tEtichetta\n",
            "mri\tO\n",
            "scan\tO\n",
            "showed\tO\n",
            "abnormalities\tO\n",
            "in\tO\n",
            "the\tO\n",
            "brain\tO\n",
            ".\tO\n"
          ]
        }
      ]
    },
    {
      "cell_type": "code",
      "source": [
        "\n",
        "from transformers import AutoModelForTokenClassification, AutoTokenizer\n",
        "\n",
        "# Percorso corretto\n",
        "save_directory = '/content/drive/MyDrive/saved_model3'\n",
        "\n",
        "# Carica il modello e il tokenizer\n",
        "model = AutoModelForTokenClassification.from_pretrained(save_directory, local_files_only=True)\n",
        "tokenizer = AutoTokenizer.from_pretrained(save_directory, local_files_only=True)\n",
        "\n",
        "print(\"Modello e tokenizer caricati con successo!\")\n",
        "\n"
      ],
      "metadata": {
        "colab": {
          "base_uri": "https://localhost:8080/"
        },
        "id": "e75uHsG5ccYm",
        "outputId": "e81a661c-6655-491b-8c91-a3288b83cb16"
      },
      "execution_count": null,
      "outputs": [
        {
          "output_type": "stream",
          "name": "stdout",
          "text": [
            "Modello e tokenizer caricati con successo!\n"
          ]
        }
      ]
    }
  ]
}