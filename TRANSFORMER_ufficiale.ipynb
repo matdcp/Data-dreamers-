{
  "nbformat": 4,
  "nbformat_minor": 0,
  "metadata": {
    "colab": {
      "provenance": [],
      "gpuType": "A100",
      "machine_shape": "hm",
      "include_colab_link": true
    },
    "kernelspec": {
      "name": "python3",
      "display_name": "Python 3"
    },
    "language_info": {
      "name": "python"
    },
    "accelerator": "GPU",
    "widgets": {
      "application/vnd.jupyter.widget-state+json": {
        "c8dff20507dd44ac8ecd066adc77b76f": {
          "model_module": "@jupyter-widgets/controls",
          "model_name": "HBoxModel",
          "model_module_version": "1.5.0",
          "state": {
            "_dom_classes": [],
            "_model_module": "@jupyter-widgets/controls",
            "_model_module_version": "1.5.0",
            "_model_name": "HBoxModel",
            "_view_count": null,
            "_view_module": "@jupyter-widgets/controls",
            "_view_module_version": "1.5.0",
            "_view_name": "HBoxView",
            "box_style": "",
            "children": [
              "IPY_MODEL_973029baf9274a478bf5894104751a35",
              "IPY_MODEL_277db0e30e6d4382a64d91588384c010",
              "IPY_MODEL_d2593ce8752f42f88a0041aa8306086f"
            ],
            "layout": "IPY_MODEL_9ffde50350a049edab51d496917bbd49"
          }
        },
        "973029baf9274a478bf5894104751a35": {
          "model_module": "@jupyter-widgets/controls",
          "model_name": "HTMLModel",
          "model_module_version": "1.5.0",
          "state": {
            "_dom_classes": [],
            "_model_module": "@jupyter-widgets/controls",
            "_model_module_version": "1.5.0",
            "_model_name": "HTMLModel",
            "_view_count": null,
            "_view_module": "@jupyter-widgets/controls",
            "_view_module_version": "1.5.0",
            "_view_name": "HTMLView",
            "description": "",
            "description_tooltip": null,
            "layout": "IPY_MODEL_139733b42203425eae9e20400819a723",
            "placeholder": "​",
            "style": "IPY_MODEL_dbb530ea05f04f8a9548ffd36013ae5d",
            "value": "Map: 100%"
          }
        },
        "277db0e30e6d4382a64d91588384c010": {
          "model_module": "@jupyter-widgets/controls",
          "model_name": "FloatProgressModel",
          "model_module_version": "1.5.0",
          "state": {
            "_dom_classes": [],
            "_model_module": "@jupyter-widgets/controls",
            "_model_module_version": "1.5.0",
            "_model_name": "FloatProgressModel",
            "_view_count": null,
            "_view_module": "@jupyter-widgets/controls",
            "_view_module_version": "1.5.0",
            "_view_name": "ProgressView",
            "bar_style": "success",
            "description": "",
            "description_tooltip": null,
            "layout": "IPY_MODEL_0c33f084c20f460bb1ac6fe27ca744c1",
            "max": 31000,
            "min": 0,
            "orientation": "horizontal",
            "style": "IPY_MODEL_4fcc7739166541fe88603e9f4aa885eb",
            "value": 31000
          }
        },
        "d2593ce8752f42f88a0041aa8306086f": {
          "model_module": "@jupyter-widgets/controls",
          "model_name": "HTMLModel",
          "model_module_version": "1.5.0",
          "state": {
            "_dom_classes": [],
            "_model_module": "@jupyter-widgets/controls",
            "_model_module_version": "1.5.0",
            "_model_name": "HTMLModel",
            "_view_count": null,
            "_view_module": "@jupyter-widgets/controls",
            "_view_module_version": "1.5.0",
            "_view_name": "HTMLView",
            "description": "",
            "description_tooltip": null,
            "layout": "IPY_MODEL_f5860cb2c82445abb68d4544548cd22c",
            "placeholder": "​",
            "style": "IPY_MODEL_dab7b9d46de5419f8f872fbab93e1903",
            "value": " 31000/31000 [00:00&lt;00:00, 40108.04 examples/s]"
          }
        },
        "9ffde50350a049edab51d496917bbd49": {
          "model_module": "@jupyter-widgets/base",
          "model_name": "LayoutModel",
          "model_module_version": "1.2.0",
          "state": {
            "_model_module": "@jupyter-widgets/base",
            "_model_module_version": "1.2.0",
            "_model_name": "LayoutModel",
            "_view_count": null,
            "_view_module": "@jupyter-widgets/base",
            "_view_module_version": "1.2.0",
            "_view_name": "LayoutView",
            "align_content": null,
            "align_items": null,
            "align_self": null,
            "border": null,
            "bottom": null,
            "display": null,
            "flex": null,
            "flex_flow": null,
            "grid_area": null,
            "grid_auto_columns": null,
            "grid_auto_flow": null,
            "grid_auto_rows": null,
            "grid_column": null,
            "grid_gap": null,
            "grid_row": null,
            "grid_template_areas": null,
            "grid_template_columns": null,
            "grid_template_rows": null,
            "height": null,
            "justify_content": null,
            "justify_items": null,
            "left": null,
            "margin": null,
            "max_height": null,
            "max_width": null,
            "min_height": null,
            "min_width": null,
            "object_fit": null,
            "object_position": null,
            "order": null,
            "overflow": null,
            "overflow_x": null,
            "overflow_y": null,
            "padding": null,
            "right": null,
            "top": null,
            "visibility": null,
            "width": null
          }
        },
        "139733b42203425eae9e20400819a723": {
          "model_module": "@jupyter-widgets/base",
          "model_name": "LayoutModel",
          "model_module_version": "1.2.0",
          "state": {
            "_model_module": "@jupyter-widgets/base",
            "_model_module_version": "1.2.0",
            "_model_name": "LayoutModel",
            "_view_count": null,
            "_view_module": "@jupyter-widgets/base",
            "_view_module_version": "1.2.0",
            "_view_name": "LayoutView",
            "align_content": null,
            "align_items": null,
            "align_self": null,
            "border": null,
            "bottom": null,
            "display": null,
            "flex": null,
            "flex_flow": null,
            "grid_area": null,
            "grid_auto_columns": null,
            "grid_auto_flow": null,
            "grid_auto_rows": null,
            "grid_column": null,
            "grid_gap": null,
            "grid_row": null,
            "grid_template_areas": null,
            "grid_template_columns": null,
            "grid_template_rows": null,
            "height": null,
            "justify_content": null,
            "justify_items": null,
            "left": null,
            "margin": null,
            "max_height": null,
            "max_width": null,
            "min_height": null,
            "min_width": null,
            "object_fit": null,
            "object_position": null,
            "order": null,
            "overflow": null,
            "overflow_x": null,
            "overflow_y": null,
            "padding": null,
            "right": null,
            "top": null,
            "visibility": null,
            "width": null
          }
        },
        "dbb530ea05f04f8a9548ffd36013ae5d": {
          "model_module": "@jupyter-widgets/controls",
          "model_name": "DescriptionStyleModel",
          "model_module_version": "1.5.0",
          "state": {
            "_model_module": "@jupyter-widgets/controls",
            "_model_module_version": "1.5.0",
            "_model_name": "DescriptionStyleModel",
            "_view_count": null,
            "_view_module": "@jupyter-widgets/base",
            "_view_module_version": "1.2.0",
            "_view_name": "StyleView",
            "description_width": ""
          }
        },
        "0c33f084c20f460bb1ac6fe27ca744c1": {
          "model_module": "@jupyter-widgets/base",
          "model_name": "LayoutModel",
          "model_module_version": "1.2.0",
          "state": {
            "_model_module": "@jupyter-widgets/base",
            "_model_module_version": "1.2.0",
            "_model_name": "LayoutModel",
            "_view_count": null,
            "_view_module": "@jupyter-widgets/base",
            "_view_module_version": "1.2.0",
            "_view_name": "LayoutView",
            "align_content": null,
            "align_items": null,
            "align_self": null,
            "border": null,
            "bottom": null,
            "display": null,
            "flex": null,
            "flex_flow": null,
            "grid_area": null,
            "grid_auto_columns": null,
            "grid_auto_flow": null,
            "grid_auto_rows": null,
            "grid_column": null,
            "grid_gap": null,
            "grid_row": null,
            "grid_template_areas": null,
            "grid_template_columns": null,
            "grid_template_rows": null,
            "height": null,
            "justify_content": null,
            "justify_items": null,
            "left": null,
            "margin": null,
            "max_height": null,
            "max_width": null,
            "min_height": null,
            "min_width": null,
            "object_fit": null,
            "object_position": null,
            "order": null,
            "overflow": null,
            "overflow_x": null,
            "overflow_y": null,
            "padding": null,
            "right": null,
            "top": null,
            "visibility": null,
            "width": null
          }
        },
        "4fcc7739166541fe88603e9f4aa885eb": {
          "model_module": "@jupyter-widgets/controls",
          "model_name": "ProgressStyleModel",
          "model_module_version": "1.5.0",
          "state": {
            "_model_module": "@jupyter-widgets/controls",
            "_model_module_version": "1.5.0",
            "_model_name": "ProgressStyleModel",
            "_view_count": null,
            "_view_module": "@jupyter-widgets/base",
            "_view_module_version": "1.2.0",
            "_view_name": "StyleView",
            "bar_color": null,
            "description_width": ""
          }
        },
        "f5860cb2c82445abb68d4544548cd22c": {
          "model_module": "@jupyter-widgets/base",
          "model_name": "LayoutModel",
          "model_module_version": "1.2.0",
          "state": {
            "_model_module": "@jupyter-widgets/base",
            "_model_module_version": "1.2.0",
            "_model_name": "LayoutModel",
            "_view_count": null,
            "_view_module": "@jupyter-widgets/base",
            "_view_module_version": "1.2.0",
            "_view_name": "LayoutView",
            "align_content": null,
            "align_items": null,
            "align_self": null,
            "border": null,
            "bottom": null,
            "display": null,
            "flex": null,
            "flex_flow": null,
            "grid_area": null,
            "grid_auto_columns": null,
            "grid_auto_flow": null,
            "grid_auto_rows": null,
            "grid_column": null,
            "grid_gap": null,
            "grid_row": null,
            "grid_template_areas": null,
            "grid_template_columns": null,
            "grid_template_rows": null,
            "height": null,
            "justify_content": null,
            "justify_items": null,
            "left": null,
            "margin": null,
            "max_height": null,
            "max_width": null,
            "min_height": null,
            "min_width": null,
            "object_fit": null,
            "object_position": null,
            "order": null,
            "overflow": null,
            "overflow_x": null,
            "overflow_y": null,
            "padding": null,
            "right": null,
            "top": null,
            "visibility": null,
            "width": null
          }
        },
        "dab7b9d46de5419f8f872fbab93e1903": {
          "model_module": "@jupyter-widgets/controls",
          "model_name": "DescriptionStyleModel",
          "model_module_version": "1.5.0",
          "state": {
            "_model_module": "@jupyter-widgets/controls",
            "_model_module_version": "1.5.0",
            "_model_name": "DescriptionStyleModel",
            "_view_count": null,
            "_view_module": "@jupyter-widgets/base",
            "_view_module_version": "1.2.0",
            "_view_name": "StyleView",
            "description_width": ""
          }
        },
        "d2156d7db16c43009c27fd45a79d5f2d": {
          "model_module": "@jupyter-widgets/controls",
          "model_name": "HBoxModel",
          "model_module_version": "1.5.0",
          "state": {
            "_dom_classes": [],
            "_model_module": "@jupyter-widgets/controls",
            "_model_module_version": "1.5.0",
            "_model_name": "HBoxModel",
            "_view_count": null,
            "_view_module": "@jupyter-widgets/controls",
            "_view_module_version": "1.5.0",
            "_view_name": "HBoxView",
            "box_style": "",
            "children": [
              "IPY_MODEL_477b016bd0eb435b8dd37974399fd047",
              "IPY_MODEL_f828c1c8e8244111b804b251f17c0613",
              "IPY_MODEL_23297a35eb8d4a6db0242ce39d630de5"
            ],
            "layout": "IPY_MODEL_a6c37593d0d7485a869600a4dfea5b5f"
          }
        },
        "477b016bd0eb435b8dd37974399fd047": {
          "model_module": "@jupyter-widgets/controls",
          "model_name": "HTMLModel",
          "model_module_version": "1.5.0",
          "state": {
            "_dom_classes": [],
            "_model_module": "@jupyter-widgets/controls",
            "_model_module_version": "1.5.0",
            "_model_name": "HTMLModel",
            "_view_count": null,
            "_view_module": "@jupyter-widgets/controls",
            "_view_module_version": "1.5.0",
            "_view_name": "HTMLView",
            "description": "",
            "description_tooltip": null,
            "layout": "IPY_MODEL_1c903a932ecc4569a127407f4ee5ea97",
            "placeholder": "​",
            "style": "IPY_MODEL_f7132282713f4b96a052ee08f1dd5dd6",
            "value": "Map: 100%"
          }
        },
        "f828c1c8e8244111b804b251f17c0613": {
          "model_module": "@jupyter-widgets/controls",
          "model_name": "FloatProgressModel",
          "model_module_version": "1.5.0",
          "state": {
            "_dom_classes": [],
            "_model_module": "@jupyter-widgets/controls",
            "_model_module_version": "1.5.0",
            "_model_name": "FloatProgressModel",
            "_view_count": null,
            "_view_module": "@jupyter-widgets/controls",
            "_view_module_version": "1.5.0",
            "_view_name": "ProgressView",
            "bar_style": "success",
            "description": "",
            "description_tooltip": null,
            "layout": "IPY_MODEL_f1b28047c1394b66a4b891bba0770776",
            "max": 10320,
            "min": 0,
            "orientation": "horizontal",
            "style": "IPY_MODEL_8c7a7b0f95f44c0f8d2f28deaf4749b1",
            "value": 10320
          }
        },
        "23297a35eb8d4a6db0242ce39d630de5": {
          "model_module": "@jupyter-widgets/controls",
          "model_name": "HTMLModel",
          "model_module_version": "1.5.0",
          "state": {
            "_dom_classes": [],
            "_model_module": "@jupyter-widgets/controls",
            "_model_module_version": "1.5.0",
            "_model_name": "HTMLModel",
            "_view_count": null,
            "_view_module": "@jupyter-widgets/controls",
            "_view_module_version": "1.5.0",
            "_view_name": "HTMLView",
            "description": "",
            "description_tooltip": null,
            "layout": "IPY_MODEL_cdba8adcc8184c89aa9688f52f34934a",
            "placeholder": "​",
            "style": "IPY_MODEL_c44e191ff360464eac2175676372a097",
            "value": " 10320/10320 [00:00&lt;00:00, 24909.60 examples/s]"
          }
        },
        "a6c37593d0d7485a869600a4dfea5b5f": {
          "model_module": "@jupyter-widgets/base",
          "model_name": "LayoutModel",
          "model_module_version": "1.2.0",
          "state": {
            "_model_module": "@jupyter-widgets/base",
            "_model_module_version": "1.2.0",
            "_model_name": "LayoutModel",
            "_view_count": null,
            "_view_module": "@jupyter-widgets/base",
            "_view_module_version": "1.2.0",
            "_view_name": "LayoutView",
            "align_content": null,
            "align_items": null,
            "align_self": null,
            "border": null,
            "bottom": null,
            "display": null,
            "flex": null,
            "flex_flow": null,
            "grid_area": null,
            "grid_auto_columns": null,
            "grid_auto_flow": null,
            "grid_auto_rows": null,
            "grid_column": null,
            "grid_gap": null,
            "grid_row": null,
            "grid_template_areas": null,
            "grid_template_columns": null,
            "grid_template_rows": null,
            "height": null,
            "justify_content": null,
            "justify_items": null,
            "left": null,
            "margin": null,
            "max_height": null,
            "max_width": null,
            "min_height": null,
            "min_width": null,
            "object_fit": null,
            "object_position": null,
            "order": null,
            "overflow": null,
            "overflow_x": null,
            "overflow_y": null,
            "padding": null,
            "right": null,
            "top": null,
            "visibility": null,
            "width": null
          }
        },
        "1c903a932ecc4569a127407f4ee5ea97": {
          "model_module": "@jupyter-widgets/base",
          "model_name": "LayoutModel",
          "model_module_version": "1.2.0",
          "state": {
            "_model_module": "@jupyter-widgets/base",
            "_model_module_version": "1.2.0",
            "_model_name": "LayoutModel",
            "_view_count": null,
            "_view_module": "@jupyter-widgets/base",
            "_view_module_version": "1.2.0",
            "_view_name": "LayoutView",
            "align_content": null,
            "align_items": null,
            "align_self": null,
            "border": null,
            "bottom": null,
            "display": null,
            "flex": null,
            "flex_flow": null,
            "grid_area": null,
            "grid_auto_columns": null,
            "grid_auto_flow": null,
            "grid_auto_rows": null,
            "grid_column": null,
            "grid_gap": null,
            "grid_row": null,
            "grid_template_areas": null,
            "grid_template_columns": null,
            "grid_template_rows": null,
            "height": null,
            "justify_content": null,
            "justify_items": null,
            "left": null,
            "margin": null,
            "max_height": null,
            "max_width": null,
            "min_height": null,
            "min_width": null,
            "object_fit": null,
            "object_position": null,
            "order": null,
            "overflow": null,
            "overflow_x": null,
            "overflow_y": null,
            "padding": null,
            "right": null,
            "top": null,
            "visibility": null,
            "width": null
          }
        },
        "f7132282713f4b96a052ee08f1dd5dd6": {
          "model_module": "@jupyter-widgets/controls",
          "model_name": "DescriptionStyleModel",
          "model_module_version": "1.5.0",
          "state": {
            "_model_module": "@jupyter-widgets/controls",
            "_model_module_version": "1.5.0",
            "_model_name": "DescriptionStyleModel",
            "_view_count": null,
            "_view_module": "@jupyter-widgets/base",
            "_view_module_version": "1.2.0",
            "_view_name": "StyleView",
            "description_width": ""
          }
        },
        "f1b28047c1394b66a4b891bba0770776": {
          "model_module": "@jupyter-widgets/base",
          "model_name": "LayoutModel",
          "model_module_version": "1.2.0",
          "state": {
            "_model_module": "@jupyter-widgets/base",
            "_model_module_version": "1.2.0",
            "_model_name": "LayoutModel",
            "_view_count": null,
            "_view_module": "@jupyter-widgets/base",
            "_view_module_version": "1.2.0",
            "_view_name": "LayoutView",
            "align_content": null,
            "align_items": null,
            "align_self": null,
            "border": null,
            "bottom": null,
            "display": null,
            "flex": null,
            "flex_flow": null,
            "grid_area": null,
            "grid_auto_columns": null,
            "grid_auto_flow": null,
            "grid_auto_rows": null,
            "grid_column": null,
            "grid_gap": null,
            "grid_row": null,
            "grid_template_areas": null,
            "grid_template_columns": null,
            "grid_template_rows": null,
            "height": null,
            "justify_content": null,
            "justify_items": null,
            "left": null,
            "margin": null,
            "max_height": null,
            "max_width": null,
            "min_height": null,
            "min_width": null,
            "object_fit": null,
            "object_position": null,
            "order": null,
            "overflow": null,
            "overflow_x": null,
            "overflow_y": null,
            "padding": null,
            "right": null,
            "top": null,
            "visibility": null,
            "width": null
          }
        },
        "8c7a7b0f95f44c0f8d2f28deaf4749b1": {
          "model_module": "@jupyter-widgets/controls",
          "model_name": "ProgressStyleModel",
          "model_module_version": "1.5.0",
          "state": {
            "_model_module": "@jupyter-widgets/controls",
            "_model_module_version": "1.5.0",
            "_model_name": "ProgressStyleModel",
            "_view_count": null,
            "_view_module": "@jupyter-widgets/base",
            "_view_module_version": "1.2.0",
            "_view_name": "StyleView",
            "bar_color": null,
            "description_width": ""
          }
        },
        "cdba8adcc8184c89aa9688f52f34934a": {
          "model_module": "@jupyter-widgets/base",
          "model_name": "LayoutModel",
          "model_module_version": "1.2.0",
          "state": {
            "_model_module": "@jupyter-widgets/base",
            "_model_module_version": "1.2.0",
            "_model_name": "LayoutModel",
            "_view_count": null,
            "_view_module": "@jupyter-widgets/base",
            "_view_module_version": "1.2.0",
            "_view_name": "LayoutView",
            "align_content": null,
            "align_items": null,
            "align_self": null,
            "border": null,
            "bottom": null,
            "display": null,
            "flex": null,
            "flex_flow": null,
            "grid_area": null,
            "grid_auto_columns": null,
            "grid_auto_flow": null,
            "grid_auto_rows": null,
            "grid_column": null,
            "grid_gap": null,
            "grid_row": null,
            "grid_template_areas": null,
            "grid_template_columns": null,
            "grid_template_rows": null,
            "height": null,
            "justify_content": null,
            "justify_items": null,
            "left": null,
            "margin": null,
            "max_height": null,
            "max_width": null,
            "min_height": null,
            "min_width": null,
            "object_fit": null,
            "object_position": null,
            "order": null,
            "overflow": null,
            "overflow_x": null,
            "overflow_y": null,
            "padding": null,
            "right": null,
            "top": null,
            "visibility": null,
            "width": null
          }
        },
        "c44e191ff360464eac2175676372a097": {
          "model_module": "@jupyter-widgets/controls",
          "model_name": "DescriptionStyleModel",
          "model_module_version": "1.5.0",
          "state": {
            "_model_module": "@jupyter-widgets/controls",
            "_model_module_version": "1.5.0",
            "_model_name": "DescriptionStyleModel",
            "_view_count": null,
            "_view_module": "@jupyter-widgets/base",
            "_view_module_version": "1.2.0",
            "_view_name": "StyleView",
            "description_width": ""
          }
        },
        "7f94adf373764830a0cefe3f96b12fe5": {
          "model_module": "@jupyter-widgets/controls",
          "model_name": "HBoxModel",
          "model_module_version": "1.5.0",
          "state": {
            "_dom_classes": [],
            "_model_module": "@jupyter-widgets/controls",
            "_model_module_version": "1.5.0",
            "_model_name": "HBoxModel",
            "_view_count": null,
            "_view_module": "@jupyter-widgets/controls",
            "_view_module_version": "1.5.0",
            "_view_name": "HBoxView",
            "box_style": "",
            "children": [
              "IPY_MODEL_107e197d18de49608aecba5900a97cca",
              "IPY_MODEL_14b69abcce6849d9b664fdd0a1841408",
              "IPY_MODEL_fad907bb44364fd3a4a6f4b1c3e6928d"
            ],
            "layout": "IPY_MODEL_edb277bcf90c41b5b90e821f1e226a7b"
          }
        },
        "107e197d18de49608aecba5900a97cca": {
          "model_module": "@jupyter-widgets/controls",
          "model_name": "HTMLModel",
          "model_module_version": "1.5.0",
          "state": {
            "_dom_classes": [],
            "_model_module": "@jupyter-widgets/controls",
            "_model_module_version": "1.5.0",
            "_model_name": "HTMLModel",
            "_view_count": null,
            "_view_module": "@jupyter-widgets/controls",
            "_view_module_version": "1.5.0",
            "_view_name": "HTMLView",
            "description": "",
            "description_tooltip": null,
            "layout": "IPY_MODEL_35818f8e92bd41d9b20db9e439656dbd",
            "placeholder": "​",
            "style": "IPY_MODEL_973be7efe6a74970b9b0a1c676d08451",
            "value": "Map: 100%"
          }
        },
        "14b69abcce6849d9b664fdd0a1841408": {
          "model_module": "@jupyter-widgets/controls",
          "model_name": "FloatProgressModel",
          "model_module_version": "1.5.0",
          "state": {
            "_dom_classes": [],
            "_model_module": "@jupyter-widgets/controls",
            "_model_module_version": "1.5.0",
            "_model_name": "FloatProgressModel",
            "_view_count": null,
            "_view_module": "@jupyter-widgets/controls",
            "_view_module_version": "1.5.0",
            "_view_name": "ProgressView",
            "bar_style": "success",
            "description": "",
            "description_tooltip": null,
            "layout": "IPY_MODEL_0e9a376e7eac45bcad391b3e2ea2d26d",
            "max": 8491,
            "min": 0,
            "orientation": "horizontal",
            "style": "IPY_MODEL_bc2301ec047740b290484148aa2e1df2",
            "value": 8491
          }
        },
        "fad907bb44364fd3a4a6f4b1c3e6928d": {
          "model_module": "@jupyter-widgets/controls",
          "model_name": "HTMLModel",
          "model_module_version": "1.5.0",
          "state": {
            "_dom_classes": [],
            "_model_module": "@jupyter-widgets/controls",
            "_model_module_version": "1.5.0",
            "_model_name": "HTMLModel",
            "_view_count": null,
            "_view_module": "@jupyter-widgets/controls",
            "_view_module_version": "1.5.0",
            "_view_name": "HTMLView",
            "description": "",
            "description_tooltip": null,
            "layout": "IPY_MODEL_8c9adc6896f549f1a700821430d646d3",
            "placeholder": "​",
            "style": "IPY_MODEL_20c821b7ee1846f3b103742bff22264c",
            "value": " 8491/8491 [00:00&lt;00:00, 57159.07 examples/s]"
          }
        },
        "edb277bcf90c41b5b90e821f1e226a7b": {
          "model_module": "@jupyter-widgets/base",
          "model_name": "LayoutModel",
          "model_module_version": "1.2.0",
          "state": {
            "_model_module": "@jupyter-widgets/base",
            "_model_module_version": "1.2.0",
            "_model_name": "LayoutModel",
            "_view_count": null,
            "_view_module": "@jupyter-widgets/base",
            "_view_module_version": "1.2.0",
            "_view_name": "LayoutView",
            "align_content": null,
            "align_items": null,
            "align_self": null,
            "border": null,
            "bottom": null,
            "display": null,
            "flex": null,
            "flex_flow": null,
            "grid_area": null,
            "grid_auto_columns": null,
            "grid_auto_flow": null,
            "grid_auto_rows": null,
            "grid_column": null,
            "grid_gap": null,
            "grid_row": null,
            "grid_template_areas": null,
            "grid_template_columns": null,
            "grid_template_rows": null,
            "height": null,
            "justify_content": null,
            "justify_items": null,
            "left": null,
            "margin": null,
            "max_height": null,
            "max_width": null,
            "min_height": null,
            "min_width": null,
            "object_fit": null,
            "object_position": null,
            "order": null,
            "overflow": null,
            "overflow_x": null,
            "overflow_y": null,
            "padding": null,
            "right": null,
            "top": null,
            "visibility": null,
            "width": null
          }
        },
        "35818f8e92bd41d9b20db9e439656dbd": {
          "model_module": "@jupyter-widgets/base",
          "model_name": "LayoutModel",
          "model_module_version": "1.2.0",
          "state": {
            "_model_module": "@jupyter-widgets/base",
            "_model_module_version": "1.2.0",
            "_model_name": "LayoutModel",
            "_view_count": null,
            "_view_module": "@jupyter-widgets/base",
            "_view_module_version": "1.2.0",
            "_view_name": "LayoutView",
            "align_content": null,
            "align_items": null,
            "align_self": null,
            "border": null,
            "bottom": null,
            "display": null,
            "flex": null,
            "flex_flow": null,
            "grid_area": null,
            "grid_auto_columns": null,
            "grid_auto_flow": null,
            "grid_auto_rows": null,
            "grid_column": null,
            "grid_gap": null,
            "grid_row": null,
            "grid_template_areas": null,
            "grid_template_columns": null,
            "grid_template_rows": null,
            "height": null,
            "justify_content": null,
            "justify_items": null,
            "left": null,
            "margin": null,
            "max_height": null,
            "max_width": null,
            "min_height": null,
            "min_width": null,
            "object_fit": null,
            "object_position": null,
            "order": null,
            "overflow": null,
            "overflow_x": null,
            "overflow_y": null,
            "padding": null,
            "right": null,
            "top": null,
            "visibility": null,
            "width": null
          }
        },
        "973be7efe6a74970b9b0a1c676d08451": {
          "model_module": "@jupyter-widgets/controls",
          "model_name": "DescriptionStyleModel",
          "model_module_version": "1.5.0",
          "state": {
            "_model_module": "@jupyter-widgets/controls",
            "_model_module_version": "1.5.0",
            "_model_name": "DescriptionStyleModel",
            "_view_count": null,
            "_view_module": "@jupyter-widgets/base",
            "_view_module_version": "1.2.0",
            "_view_name": "StyleView",
            "description_width": ""
          }
        },
        "0e9a376e7eac45bcad391b3e2ea2d26d": {
          "model_module": "@jupyter-widgets/base",
          "model_name": "LayoutModel",
          "model_module_version": "1.2.0",
          "state": {
            "_model_module": "@jupyter-widgets/base",
            "_model_module_version": "1.2.0",
            "_model_name": "LayoutModel",
            "_view_count": null,
            "_view_module": "@jupyter-widgets/base",
            "_view_module_version": "1.2.0",
            "_view_name": "LayoutView",
            "align_content": null,
            "align_items": null,
            "align_self": null,
            "border": null,
            "bottom": null,
            "display": null,
            "flex": null,
            "flex_flow": null,
            "grid_area": null,
            "grid_auto_columns": null,
            "grid_auto_flow": null,
            "grid_auto_rows": null,
            "grid_column": null,
            "grid_gap": null,
            "grid_row": null,
            "grid_template_areas": null,
            "grid_template_columns": null,
            "grid_template_rows": null,
            "height": null,
            "justify_content": null,
            "justify_items": null,
            "left": null,
            "margin": null,
            "max_height": null,
            "max_width": null,
            "min_height": null,
            "min_width": null,
            "object_fit": null,
            "object_position": null,
            "order": null,
            "overflow": null,
            "overflow_x": null,
            "overflow_y": null,
            "padding": null,
            "right": null,
            "top": null,
            "visibility": null,
            "width": null
          }
        },
        "bc2301ec047740b290484148aa2e1df2": {
          "model_module": "@jupyter-widgets/controls",
          "model_name": "ProgressStyleModel",
          "model_module_version": "1.5.0",
          "state": {
            "_model_module": "@jupyter-widgets/controls",
            "_model_module_version": "1.5.0",
            "_model_name": "ProgressStyleModel",
            "_view_count": null,
            "_view_module": "@jupyter-widgets/base",
            "_view_module_version": "1.2.0",
            "_view_name": "StyleView",
            "bar_color": null,
            "description_width": ""
          }
        },
        "8c9adc6896f549f1a700821430d646d3": {
          "model_module": "@jupyter-widgets/base",
          "model_name": "LayoutModel",
          "model_module_version": "1.2.0",
          "state": {
            "_model_module": "@jupyter-widgets/base",
            "_model_module_version": "1.2.0",
            "_model_name": "LayoutModel",
            "_view_count": null,
            "_view_module": "@jupyter-widgets/base",
            "_view_module_version": "1.2.0",
            "_view_name": "LayoutView",
            "align_content": null,
            "align_items": null,
            "align_self": null,
            "border": null,
            "bottom": null,
            "display": null,
            "flex": null,
            "flex_flow": null,
            "grid_area": null,
            "grid_auto_columns": null,
            "grid_auto_flow": null,
            "grid_auto_rows": null,
            "grid_column": null,
            "grid_gap": null,
            "grid_row": null,
            "grid_template_areas": null,
            "grid_template_columns": null,
            "grid_template_rows": null,
            "height": null,
            "justify_content": null,
            "justify_items": null,
            "left": null,
            "margin": null,
            "max_height": null,
            "max_width": null,
            "min_height": null,
            "min_width": null,
            "object_fit": null,
            "object_position": null,
            "order": null,
            "overflow": null,
            "overflow_x": null,
            "overflow_y": null,
            "padding": null,
            "right": null,
            "top": null,
            "visibility": null,
            "width": null
          }
        },
        "20c821b7ee1846f3b103742bff22264c": {
          "model_module": "@jupyter-widgets/controls",
          "model_name": "DescriptionStyleModel",
          "model_module_version": "1.5.0",
          "state": {
            "_model_module": "@jupyter-widgets/controls",
            "_model_module_version": "1.5.0",
            "_model_name": "DescriptionStyleModel",
            "_view_count": null,
            "_view_module": "@jupyter-widgets/base",
            "_view_module_version": "1.2.0",
            "_view_name": "StyleView",
            "description_width": ""
          }
        }
      }
    }
  },
  "cells": [
    {
      "cell_type": "markdown",
      "metadata": {
        "id": "view-in-github",
        "colab_type": "text"
      },
      "source": [
        "<a href=\"https://colab.research.google.com/github/matdcp/Data-dreamers-/blob/main/TRANSFORMER_ufficiale.ipynb\" target=\"_parent\"><img src=\"https://colab.research.google.com/assets/colab-badge.svg\" alt=\"Open In Colab\"/></a>"
      ]
    },
    {
      "cell_type": "markdown",
      "source": [
        "#Goal\n",
        "In this notebook, the main objective is to implement a Named Entity Recognition (**NER**) model using the **pre-trained BioBERT** model for entity recognition in the anatomical domain. BioBERT is a version of BERT optimized for processing texts in the biological and medical fields, and it is particularly suited for tasks such as NER, where it is necessary to identify relevant entities like diseases, drugs, and anatomical structures."
      ],
      "metadata": {
        "id": "i0OKckeCtuKX"
      }
    },
    {
      "cell_type": "markdown",
      "source": [
        "#Upload cleaned dataset"
      ],
      "metadata": {
        "id": "DyhCMmbxDoxi"
      }
    },
    {
      "cell_type": "code",
      "execution_count": null,
      "metadata": {
        "colab": {
          "base_uri": "https://localhost:8080/",
          "height": 74
        },
        "id": "UQPG8v5WDkiv",
        "outputId": "0522672d-3bbb-4db4-d2a2-451ebd4ebcf6"
      },
      "outputs": [
        {
          "output_type": "display_data",
          "data": {
            "text/plain": [
              "<IPython.core.display.HTML object>"
            ],
            "text/html": [
              "\n",
              "     <input type=\"file\" id=\"files-43082317-452d-4799-aa5e-922ec7775be3\" name=\"files[]\" multiple disabled\n",
              "        style=\"border:none\" />\n",
              "     <output id=\"result-43082317-452d-4799-aa5e-922ec7775be3\">\n",
              "      Upload widget is only available when the cell has been executed in the\n",
              "      current browser session. Please rerun this cell to enable.\n",
              "      </output>\n",
              "      <script>// Copyright 2017 Google LLC\n",
              "//\n",
              "// Licensed under the Apache License, Version 2.0 (the \"License\");\n",
              "// you may not use this file except in compliance with the License.\n",
              "// You may obtain a copy of the License at\n",
              "//\n",
              "//      http://www.apache.org/licenses/LICENSE-2.0\n",
              "//\n",
              "// Unless required by applicable law or agreed to in writing, software\n",
              "// distributed under the License is distributed on an \"AS IS\" BASIS,\n",
              "// WITHOUT WARRANTIES OR CONDITIONS OF ANY KIND, either express or implied.\n",
              "// See the License for the specific language governing permissions and\n",
              "// limitations under the License.\n",
              "\n",
              "/**\n",
              " * @fileoverview Helpers for google.colab Python module.\n",
              " */\n",
              "(function(scope) {\n",
              "function span(text, styleAttributes = {}) {\n",
              "  const element = document.createElement('span');\n",
              "  element.textContent = text;\n",
              "  for (const key of Object.keys(styleAttributes)) {\n",
              "    element.style[key] = styleAttributes[key];\n",
              "  }\n",
              "  return element;\n",
              "}\n",
              "\n",
              "// Max number of bytes which will be uploaded at a time.\n",
              "const MAX_PAYLOAD_SIZE = 100 * 1024;\n",
              "\n",
              "function _uploadFiles(inputId, outputId) {\n",
              "  const steps = uploadFilesStep(inputId, outputId);\n",
              "  const outputElement = document.getElementById(outputId);\n",
              "  // Cache steps on the outputElement to make it available for the next call\n",
              "  // to uploadFilesContinue from Python.\n",
              "  outputElement.steps = steps;\n",
              "\n",
              "  return _uploadFilesContinue(outputId);\n",
              "}\n",
              "\n",
              "// This is roughly an async generator (not supported in the browser yet),\n",
              "// where there are multiple asynchronous steps and the Python side is going\n",
              "// to poll for completion of each step.\n",
              "// This uses a Promise to block the python side on completion of each step,\n",
              "// then passes the result of the previous step as the input to the next step.\n",
              "function _uploadFilesContinue(outputId) {\n",
              "  const outputElement = document.getElementById(outputId);\n",
              "  const steps = outputElement.steps;\n",
              "\n",
              "  const next = steps.next(outputElement.lastPromiseValue);\n",
              "  return Promise.resolve(next.value.promise).then((value) => {\n",
              "    // Cache the last promise value to make it available to the next\n",
              "    // step of the generator.\n",
              "    outputElement.lastPromiseValue = value;\n",
              "    return next.value.response;\n",
              "  });\n",
              "}\n",
              "\n",
              "/**\n",
              " * Generator function which is called between each async step of the upload\n",
              " * process.\n",
              " * @param {string} inputId Element ID of the input file picker element.\n",
              " * @param {string} outputId Element ID of the output display.\n",
              " * @return {!Iterable<!Object>} Iterable of next steps.\n",
              " */\n",
              "function* uploadFilesStep(inputId, outputId) {\n",
              "  const inputElement = document.getElementById(inputId);\n",
              "  inputElement.disabled = false;\n",
              "\n",
              "  const outputElement = document.getElementById(outputId);\n",
              "  outputElement.innerHTML = '';\n",
              "\n",
              "  const pickedPromise = new Promise((resolve) => {\n",
              "    inputElement.addEventListener('change', (e) => {\n",
              "      resolve(e.target.files);\n",
              "    });\n",
              "  });\n",
              "\n",
              "  const cancel = document.createElement('button');\n",
              "  inputElement.parentElement.appendChild(cancel);\n",
              "  cancel.textContent = 'Cancel upload';\n",
              "  const cancelPromise = new Promise((resolve) => {\n",
              "    cancel.onclick = () => {\n",
              "      resolve(null);\n",
              "    };\n",
              "  });\n",
              "\n",
              "  // Wait for the user to pick the files.\n",
              "  const files = yield {\n",
              "    promise: Promise.race([pickedPromise, cancelPromise]),\n",
              "    response: {\n",
              "      action: 'starting',\n",
              "    }\n",
              "  };\n",
              "\n",
              "  cancel.remove();\n",
              "\n",
              "  // Disable the input element since further picks are not allowed.\n",
              "  inputElement.disabled = true;\n",
              "\n",
              "  if (!files) {\n",
              "    return {\n",
              "      response: {\n",
              "        action: 'complete',\n",
              "      }\n",
              "    };\n",
              "  }\n",
              "\n",
              "  for (const file of files) {\n",
              "    const li = document.createElement('li');\n",
              "    li.append(span(file.name, {fontWeight: 'bold'}));\n",
              "    li.append(span(\n",
              "        `(${file.type || 'n/a'}) - ${file.size} bytes, ` +\n",
              "        `last modified: ${\n",
              "            file.lastModifiedDate ? file.lastModifiedDate.toLocaleDateString() :\n",
              "                                    'n/a'} - `));\n",
              "    const percent = span('0% done');\n",
              "    li.appendChild(percent);\n",
              "\n",
              "    outputElement.appendChild(li);\n",
              "\n",
              "    const fileDataPromise = new Promise((resolve) => {\n",
              "      const reader = new FileReader();\n",
              "      reader.onload = (e) => {\n",
              "        resolve(e.target.result);\n",
              "      };\n",
              "      reader.readAsArrayBuffer(file);\n",
              "    });\n",
              "    // Wait for the data to be ready.\n",
              "    let fileData = yield {\n",
              "      promise: fileDataPromise,\n",
              "      response: {\n",
              "        action: 'continue',\n",
              "      }\n",
              "    };\n",
              "\n",
              "    // Use a chunked sending to avoid message size limits. See b/62115660.\n",
              "    let position = 0;\n",
              "    do {\n",
              "      const length = Math.min(fileData.byteLength - position, MAX_PAYLOAD_SIZE);\n",
              "      const chunk = new Uint8Array(fileData, position, length);\n",
              "      position += length;\n",
              "\n",
              "      const base64 = btoa(String.fromCharCode.apply(null, chunk));\n",
              "      yield {\n",
              "        response: {\n",
              "          action: 'append',\n",
              "          file: file.name,\n",
              "          data: base64,\n",
              "        },\n",
              "      };\n",
              "\n",
              "      let percentDone = fileData.byteLength === 0 ?\n",
              "          100 :\n",
              "          Math.round((position / fileData.byteLength) * 100);\n",
              "      percent.textContent = `${percentDone}% done`;\n",
              "\n",
              "    } while (position < fileData.byteLength);\n",
              "  }\n",
              "\n",
              "  // All done.\n",
              "  yield {\n",
              "    response: {\n",
              "      action: 'complete',\n",
              "    }\n",
              "  };\n",
              "}\n",
              "\n",
              "scope.google = scope.google || {};\n",
              "scope.google.colab = scope.google.colab || {};\n",
              "scope.google.colab._files = {\n",
              "  _uploadFiles,\n",
              "  _uploadFilesContinue,\n",
              "};\n",
              "})(self);\n",
              "</script> "
            ]
          },
          "metadata": {}
        },
        {
          "output_type": "stream",
          "name": "stdout",
          "text": [
            "Saving cleaned_dataset_NN.csv to cleaned_dataset_NN (5).csv\n"
          ]
        }
      ],
      "source": [
        "import pandas as pd\n",
        "from google.colab import files\n",
        "\n",
        "# Carica il file CSV\n",
        "uploaded = files.upload()"
      ]
    },
    {
      "cell_type": "code",
      "source": [
        "# Leggi il file CSV con Pandas\n",
        "for filename in uploaded.keys():\n",
        "    df = pd.read_csv(filename)\n",
        "\n",
        "df.head()"
      ],
      "metadata": {
        "colab": {
          "base_uri": "https://localhost:8080/",
          "height": 206
        },
        "id": "uM62inynEAXz",
        "outputId": "3a0fc610-ce51-42ba-fd4d-38247a1f39df"
      },
      "execution_count": null,
      "outputs": [
        {
          "output_type": "execute_result",
          "data": {
            "text/plain": [
              "             id  Start  End                     Label\n",
              "0   Ventricular      0   11  B-Multi-tissue_structure\n",
              "1  fibrillation     12   24                         O\n",
              "2          long     32   36                         O\n",
              "3            QT     37   39                         O\n",
              "4      syndrome     40   48                         O"
            ],
            "text/html": [
              "\n",
              "  <div id=\"df-c3558a04-8429-4034-b92d-27ec2b542a2f\" class=\"colab-df-container\">\n",
              "    <div>\n",
              "<style scoped>\n",
              "    .dataframe tbody tr th:only-of-type {\n",
              "        vertical-align: middle;\n",
              "    }\n",
              "\n",
              "    .dataframe tbody tr th {\n",
              "        vertical-align: top;\n",
              "    }\n",
              "\n",
              "    .dataframe thead th {\n",
              "        text-align: right;\n",
              "    }\n",
              "</style>\n",
              "<table border=\"1\" class=\"dataframe\">\n",
              "  <thead>\n",
              "    <tr style=\"text-align: right;\">\n",
              "      <th></th>\n",
              "      <th>id</th>\n",
              "      <th>Start</th>\n",
              "      <th>End</th>\n",
              "      <th>Label</th>\n",
              "    </tr>\n",
              "  </thead>\n",
              "  <tbody>\n",
              "    <tr>\n",
              "      <th>0</th>\n",
              "      <td>Ventricular</td>\n",
              "      <td>0</td>\n",
              "      <td>11</td>\n",
              "      <td>B-Multi-tissue_structure</td>\n",
              "    </tr>\n",
              "    <tr>\n",
              "      <th>1</th>\n",
              "      <td>fibrillation</td>\n",
              "      <td>12</td>\n",
              "      <td>24</td>\n",
              "      <td>O</td>\n",
              "    </tr>\n",
              "    <tr>\n",
              "      <th>2</th>\n",
              "      <td>long</td>\n",
              "      <td>32</td>\n",
              "      <td>36</td>\n",
              "      <td>O</td>\n",
              "    </tr>\n",
              "    <tr>\n",
              "      <th>3</th>\n",
              "      <td>QT</td>\n",
              "      <td>37</td>\n",
              "      <td>39</td>\n",
              "      <td>O</td>\n",
              "    </tr>\n",
              "    <tr>\n",
              "      <th>4</th>\n",
              "      <td>syndrome</td>\n",
              "      <td>40</td>\n",
              "      <td>48</td>\n",
              "      <td>O</td>\n",
              "    </tr>\n",
              "  </tbody>\n",
              "</table>\n",
              "</div>\n",
              "    <div class=\"colab-df-buttons\">\n",
              "\n",
              "  <div class=\"colab-df-container\">\n",
              "    <button class=\"colab-df-convert\" onclick=\"convertToInteractive('df-c3558a04-8429-4034-b92d-27ec2b542a2f')\"\n",
              "            title=\"Convert this dataframe to an interactive table.\"\n",
              "            style=\"display:none;\">\n",
              "\n",
              "  <svg xmlns=\"http://www.w3.org/2000/svg\" height=\"24px\" viewBox=\"0 -960 960 960\">\n",
              "    <path d=\"M120-120v-720h720v720H120Zm60-500h600v-160H180v160Zm220 220h160v-160H400v160Zm0 220h160v-160H400v160ZM180-400h160v-160H180v160Zm440 0h160v-160H620v160ZM180-180h160v-160H180v160Zm440 0h160v-160H620v160Z\"/>\n",
              "  </svg>\n",
              "    </button>\n",
              "\n",
              "  <style>\n",
              "    .colab-df-container {\n",
              "      display:flex;\n",
              "      gap: 12px;\n",
              "    }\n",
              "\n",
              "    .colab-df-convert {\n",
              "      background-color: #E8F0FE;\n",
              "      border: none;\n",
              "      border-radius: 50%;\n",
              "      cursor: pointer;\n",
              "      display: none;\n",
              "      fill: #1967D2;\n",
              "      height: 32px;\n",
              "      padding: 0 0 0 0;\n",
              "      width: 32px;\n",
              "    }\n",
              "\n",
              "    .colab-df-convert:hover {\n",
              "      background-color: #E2EBFA;\n",
              "      box-shadow: 0px 1px 2px rgba(60, 64, 67, 0.3), 0px 1px 3px 1px rgba(60, 64, 67, 0.15);\n",
              "      fill: #174EA6;\n",
              "    }\n",
              "\n",
              "    .colab-df-buttons div {\n",
              "      margin-bottom: 4px;\n",
              "    }\n",
              "\n",
              "    [theme=dark] .colab-df-convert {\n",
              "      background-color: #3B4455;\n",
              "      fill: #D2E3FC;\n",
              "    }\n",
              "\n",
              "    [theme=dark] .colab-df-convert:hover {\n",
              "      background-color: #434B5C;\n",
              "      box-shadow: 0px 1px 3px 1px rgba(0, 0, 0, 0.15);\n",
              "      filter: drop-shadow(0px 1px 2px rgba(0, 0, 0, 0.3));\n",
              "      fill: #FFFFFF;\n",
              "    }\n",
              "  </style>\n",
              "\n",
              "    <script>\n",
              "      const buttonEl =\n",
              "        document.querySelector('#df-c3558a04-8429-4034-b92d-27ec2b542a2f button.colab-df-convert');\n",
              "      buttonEl.style.display =\n",
              "        google.colab.kernel.accessAllowed ? 'block' : 'none';\n",
              "\n",
              "      async function convertToInteractive(key) {\n",
              "        const element = document.querySelector('#df-c3558a04-8429-4034-b92d-27ec2b542a2f');\n",
              "        const dataTable =\n",
              "          await google.colab.kernel.invokeFunction('convertToInteractive',\n",
              "                                                    [key], {});\n",
              "        if (!dataTable) return;\n",
              "\n",
              "        const docLinkHtml = 'Like what you see? Visit the ' +\n",
              "          '<a target=\"_blank\" href=https://colab.research.google.com/notebooks/data_table.ipynb>data table notebook</a>'\n",
              "          + ' to learn more about interactive tables.';\n",
              "        element.innerHTML = '';\n",
              "        dataTable['output_type'] = 'display_data';\n",
              "        await google.colab.output.renderOutput(dataTable, element);\n",
              "        const docLink = document.createElement('div');\n",
              "        docLink.innerHTML = docLinkHtml;\n",
              "        element.appendChild(docLink);\n",
              "      }\n",
              "    </script>\n",
              "  </div>\n",
              "\n",
              "\n",
              "<div id=\"df-2e637a20-e6ae-4bdc-bd31-de47d81b7914\">\n",
              "  <button class=\"colab-df-quickchart\" onclick=\"quickchart('df-2e637a20-e6ae-4bdc-bd31-de47d81b7914')\"\n",
              "            title=\"Suggest charts\"\n",
              "            style=\"display:none;\">\n",
              "\n",
              "<svg xmlns=\"http://www.w3.org/2000/svg\" height=\"24px\"viewBox=\"0 0 24 24\"\n",
              "     width=\"24px\">\n",
              "    <g>\n",
              "        <path d=\"M19 3H5c-1.1 0-2 .9-2 2v14c0 1.1.9 2 2 2h14c1.1 0 2-.9 2-2V5c0-1.1-.9-2-2-2zM9 17H7v-7h2v7zm4 0h-2V7h2v10zm4 0h-2v-4h2v4z\"/>\n",
              "    </g>\n",
              "</svg>\n",
              "  </button>\n",
              "\n",
              "<style>\n",
              "  .colab-df-quickchart {\n",
              "      --bg-color: #E8F0FE;\n",
              "      --fill-color: #1967D2;\n",
              "      --hover-bg-color: #E2EBFA;\n",
              "      --hover-fill-color: #174EA6;\n",
              "      --disabled-fill-color: #AAA;\n",
              "      --disabled-bg-color: #DDD;\n",
              "  }\n",
              "\n",
              "  [theme=dark] .colab-df-quickchart {\n",
              "      --bg-color: #3B4455;\n",
              "      --fill-color: #D2E3FC;\n",
              "      --hover-bg-color: #434B5C;\n",
              "      --hover-fill-color: #FFFFFF;\n",
              "      --disabled-bg-color: #3B4455;\n",
              "      --disabled-fill-color: #666;\n",
              "  }\n",
              "\n",
              "  .colab-df-quickchart {\n",
              "    background-color: var(--bg-color);\n",
              "    border: none;\n",
              "    border-radius: 50%;\n",
              "    cursor: pointer;\n",
              "    display: none;\n",
              "    fill: var(--fill-color);\n",
              "    height: 32px;\n",
              "    padding: 0;\n",
              "    width: 32px;\n",
              "  }\n",
              "\n",
              "  .colab-df-quickchart:hover {\n",
              "    background-color: var(--hover-bg-color);\n",
              "    box-shadow: 0 1px 2px rgba(60, 64, 67, 0.3), 0 1px 3px 1px rgba(60, 64, 67, 0.15);\n",
              "    fill: var(--button-hover-fill-color);\n",
              "  }\n",
              "\n",
              "  .colab-df-quickchart-complete:disabled,\n",
              "  .colab-df-quickchart-complete:disabled:hover {\n",
              "    background-color: var(--disabled-bg-color);\n",
              "    fill: var(--disabled-fill-color);\n",
              "    box-shadow: none;\n",
              "  }\n",
              "\n",
              "  .colab-df-spinner {\n",
              "    border: 2px solid var(--fill-color);\n",
              "    border-color: transparent;\n",
              "    border-bottom-color: var(--fill-color);\n",
              "    animation:\n",
              "      spin 1s steps(1) infinite;\n",
              "  }\n",
              "\n",
              "  @keyframes spin {\n",
              "    0% {\n",
              "      border-color: transparent;\n",
              "      border-bottom-color: var(--fill-color);\n",
              "      border-left-color: var(--fill-color);\n",
              "    }\n",
              "    20% {\n",
              "      border-color: transparent;\n",
              "      border-left-color: var(--fill-color);\n",
              "      border-top-color: var(--fill-color);\n",
              "    }\n",
              "    30% {\n",
              "      border-color: transparent;\n",
              "      border-left-color: var(--fill-color);\n",
              "      border-top-color: var(--fill-color);\n",
              "      border-right-color: var(--fill-color);\n",
              "    }\n",
              "    40% {\n",
              "      border-color: transparent;\n",
              "      border-right-color: var(--fill-color);\n",
              "      border-top-color: var(--fill-color);\n",
              "    }\n",
              "    60% {\n",
              "      border-color: transparent;\n",
              "      border-right-color: var(--fill-color);\n",
              "    }\n",
              "    80% {\n",
              "      border-color: transparent;\n",
              "      border-right-color: var(--fill-color);\n",
              "      border-bottom-color: var(--fill-color);\n",
              "    }\n",
              "    90% {\n",
              "      border-color: transparent;\n",
              "      border-bottom-color: var(--fill-color);\n",
              "    }\n",
              "  }\n",
              "</style>\n",
              "\n",
              "  <script>\n",
              "    async function quickchart(key) {\n",
              "      const quickchartButtonEl =\n",
              "        document.querySelector('#' + key + ' button');\n",
              "      quickchartButtonEl.disabled = true;  // To prevent multiple clicks.\n",
              "      quickchartButtonEl.classList.add('colab-df-spinner');\n",
              "      try {\n",
              "        const charts = await google.colab.kernel.invokeFunction(\n",
              "            'suggestCharts', [key], {});\n",
              "      } catch (error) {\n",
              "        console.error('Error during call to suggestCharts:', error);\n",
              "      }\n",
              "      quickchartButtonEl.classList.remove('colab-df-spinner');\n",
              "      quickchartButtonEl.classList.add('colab-df-quickchart-complete');\n",
              "    }\n",
              "    (() => {\n",
              "      let quickchartButtonEl =\n",
              "        document.querySelector('#df-2e637a20-e6ae-4bdc-bd31-de47d81b7914 button');\n",
              "      quickchartButtonEl.style.display =\n",
              "        google.colab.kernel.accessAllowed ? 'block' : 'none';\n",
              "    })();\n",
              "  </script>\n",
              "</div>\n",
              "\n",
              "    </div>\n",
              "  </div>\n"
            ],
            "application/vnd.google.colaboratory.intrinsic+json": {
              "type": "dataframe",
              "variable_name": "df",
              "summary": "{\n  \"name\": \"df\",\n  \"rows\": 60979,\n  \"fields\": [\n    {\n      \"column\": \"id\",\n      \"properties\": {\n        \"dtype\": \"category\",\n        \"num_unique_values\": 12796,\n        \"samples\": [\n          \"transection\",\n          \"KAL\",\n          \"conclusions\"\n        ],\n        \"semantic_type\": \"\",\n        \"description\": \"\"\n      }\n    },\n    {\n      \"column\": \"Start\",\n      \"properties\": {\n        \"dtype\": \"number\",\n        \"std\": 2268,\n        \"min\": 0,\n        \"max\": 20388,\n        \"num_unique_values\": 7678,\n        \"samples\": [\n          12320,\n          7067,\n          1106\n        ],\n        \"semantic_type\": \"\",\n        \"description\": \"\"\n      }\n    },\n    {\n      \"column\": \"End\",\n      \"properties\": {\n        \"dtype\": \"number\",\n        \"std\": 2268,\n        \"min\": 1,\n        \"max\": 20400,\n        \"num_unique_values\": 7665,\n        \"samples\": [\n          7495,\n          1365,\n          8\n        ],\n        \"semantic_type\": \"\",\n        \"description\": \"\"\n      }\n    },\n    {\n      \"column\": \"Label\",\n      \"properties\": {\n        \"dtype\": \"category\",\n        \"num_unique_values\": 23,\n        \"samples\": [\n          \"I-Organism_substance\",\n          \"I-Cell\",\n          \"B-Multi-tissue_structure\"\n        ],\n        \"semantic_type\": \"\",\n        \"description\": \"\"\n      }\n    }\n  ]\n}"
            }
          },
          "metadata": {},
          "execution_count": 2
        }
      ]
    },
    {
      "cell_type": "code",
      "source": [
        "import os\n",
        "os.environ[\"WANDB_DISABLED\"] = \"true\"\n"
      ],
      "metadata": {
        "id": "Ujkl_Ls6VVjP"
      },
      "execution_count": null,
      "outputs": []
    },
    {
      "cell_type": "code",
      "source": [
        "pip install transformers"
      ],
      "metadata": {
        "colab": {
          "base_uri": "https://localhost:8080/"
        },
        "id": "TOd90EqSLnLA",
        "outputId": "75fd9981-c2b9-49ad-a0c0-609d5d2227ab"
      },
      "execution_count": null,
      "outputs": [
        {
          "output_type": "stream",
          "name": "stdout",
          "text": [
            "Requirement already satisfied: transformers in /usr/local/lib/python3.10/dist-packages (4.46.3)\n",
            "Requirement already satisfied: filelock in /usr/local/lib/python3.10/dist-packages (from transformers) (3.16.1)\n",
            "Requirement already satisfied: huggingface-hub<1.0,>=0.23.2 in /usr/local/lib/python3.10/dist-packages (from transformers) (0.26.5)\n",
            "Requirement already satisfied: numpy>=1.17 in /usr/local/lib/python3.10/dist-packages (from transformers) (1.26.4)\n",
            "Requirement already satisfied: packaging>=20.0 in /usr/local/lib/python3.10/dist-packages (from transformers) (24.2)\n",
            "Requirement already satisfied: pyyaml>=5.1 in /usr/local/lib/python3.10/dist-packages (from transformers) (6.0.2)\n",
            "Requirement already satisfied: regex!=2019.12.17 in /usr/local/lib/python3.10/dist-packages (from transformers) (2024.9.11)\n",
            "Requirement already satisfied: requests in /usr/local/lib/python3.10/dist-packages (from transformers) (2.32.3)\n",
            "Requirement already satisfied: tokenizers<0.21,>=0.20 in /usr/local/lib/python3.10/dist-packages (from transformers) (0.20.3)\n",
            "Requirement already satisfied: safetensors>=0.4.1 in /usr/local/lib/python3.10/dist-packages (from transformers) (0.4.5)\n",
            "Requirement already satisfied: tqdm>=4.27 in /usr/local/lib/python3.10/dist-packages (from transformers) (4.66.6)\n",
            "Requirement already satisfied: fsspec>=2023.5.0 in /usr/local/lib/python3.10/dist-packages (from huggingface-hub<1.0,>=0.23.2->transformers) (2024.9.0)\n",
            "Requirement already satisfied: typing-extensions>=3.7.4.3 in /usr/local/lib/python3.10/dist-packages (from huggingface-hub<1.0,>=0.23.2->transformers) (4.12.2)\n",
            "Requirement already satisfied: charset-normalizer<4,>=2 in /usr/local/lib/python3.10/dist-packages (from requests->transformers) (3.4.0)\n",
            "Requirement already satisfied: idna<4,>=2.5 in /usr/local/lib/python3.10/dist-packages (from requests->transformers) (3.10)\n",
            "Requirement already satisfied: urllib3<3,>=1.21.1 in /usr/local/lib/python3.10/dist-packages (from requests->transformers) (2.2.3)\n",
            "Requirement already satisfied: certifi>=2017.4.17 in /usr/local/lib/python3.10/dist-packages (from requests->transformers) (2024.8.30)\n"
          ]
        }
      ]
    },
    {
      "cell_type": "code",
      "source": [
        "!pip install datasets\n"
      ],
      "metadata": {
        "colab": {
          "base_uri": "https://localhost:8080/"
        },
        "id": "sVwRaNKlM54T",
        "outputId": "0f920091-f546-4aae-fab9-85e66370bd05"
      },
      "execution_count": null,
      "outputs": [
        {
          "output_type": "stream",
          "name": "stdout",
          "text": [
            "Requirement already satisfied: datasets in /usr/local/lib/python3.10/dist-packages (3.2.0)\n",
            "Requirement already satisfied: filelock in /usr/local/lib/python3.10/dist-packages (from datasets) (3.16.1)\n",
            "Requirement already satisfied: numpy>=1.17 in /usr/local/lib/python3.10/dist-packages (from datasets) (1.26.4)\n",
            "Requirement already satisfied: pyarrow>=15.0.0 in /usr/local/lib/python3.10/dist-packages (from datasets) (17.0.0)\n",
            "Requirement already satisfied: dill<0.3.9,>=0.3.0 in /usr/local/lib/python3.10/dist-packages (from datasets) (0.3.8)\n",
            "Requirement already satisfied: pandas in /usr/local/lib/python3.10/dist-packages (from datasets) (2.2.2)\n",
            "Requirement already satisfied: requests>=2.32.2 in /usr/local/lib/python3.10/dist-packages (from datasets) (2.32.3)\n",
            "Requirement already satisfied: tqdm>=4.66.3 in /usr/local/lib/python3.10/dist-packages (from datasets) (4.66.6)\n",
            "Requirement already satisfied: xxhash in /usr/local/lib/python3.10/dist-packages (from datasets) (3.5.0)\n",
            "Requirement already satisfied: multiprocess<0.70.17 in /usr/local/lib/python3.10/dist-packages (from datasets) (0.70.16)\n",
            "Requirement already satisfied: fsspec<=2024.9.0,>=2023.1.0 in /usr/local/lib/python3.10/dist-packages (from fsspec[http]<=2024.9.0,>=2023.1.0->datasets) (2024.9.0)\n",
            "Requirement already satisfied: aiohttp in /usr/local/lib/python3.10/dist-packages (from datasets) (3.11.10)\n",
            "Requirement already satisfied: huggingface-hub>=0.23.0 in /usr/local/lib/python3.10/dist-packages (from datasets) (0.26.5)\n",
            "Requirement already satisfied: packaging in /usr/local/lib/python3.10/dist-packages (from datasets) (24.2)\n",
            "Requirement already satisfied: pyyaml>=5.1 in /usr/local/lib/python3.10/dist-packages (from datasets) (6.0.2)\n",
            "Requirement already satisfied: aiohappyeyeballs>=2.3.0 in /usr/local/lib/python3.10/dist-packages (from aiohttp->datasets) (2.4.4)\n",
            "Requirement already satisfied: aiosignal>=1.1.2 in /usr/local/lib/python3.10/dist-packages (from aiohttp->datasets) (1.3.1)\n",
            "Requirement already satisfied: async-timeout<6.0,>=4.0 in /usr/local/lib/python3.10/dist-packages (from aiohttp->datasets) (4.0.3)\n",
            "Requirement already satisfied: attrs>=17.3.0 in /usr/local/lib/python3.10/dist-packages (from aiohttp->datasets) (24.2.0)\n",
            "Requirement already satisfied: frozenlist>=1.1.1 in /usr/local/lib/python3.10/dist-packages (from aiohttp->datasets) (1.5.0)\n",
            "Requirement already satisfied: multidict<7.0,>=4.5 in /usr/local/lib/python3.10/dist-packages (from aiohttp->datasets) (6.1.0)\n",
            "Requirement already satisfied: propcache>=0.2.0 in /usr/local/lib/python3.10/dist-packages (from aiohttp->datasets) (0.2.1)\n",
            "Requirement already satisfied: yarl<2.0,>=1.17.0 in /usr/local/lib/python3.10/dist-packages (from aiohttp->datasets) (1.18.3)\n",
            "Requirement already satisfied: typing-extensions>=3.7.4.3 in /usr/local/lib/python3.10/dist-packages (from huggingface-hub>=0.23.0->datasets) (4.12.2)\n",
            "Requirement already satisfied: charset-normalizer<4,>=2 in /usr/local/lib/python3.10/dist-packages (from requests>=2.32.2->datasets) (3.4.0)\n",
            "Requirement already satisfied: idna<4,>=2.5 in /usr/local/lib/python3.10/dist-packages (from requests>=2.32.2->datasets) (3.10)\n",
            "Requirement already satisfied: urllib3<3,>=1.21.1 in /usr/local/lib/python3.10/dist-packages (from requests>=2.32.2->datasets) (2.2.3)\n",
            "Requirement already satisfied: certifi>=2017.4.17 in /usr/local/lib/python3.10/dist-packages (from requests>=2.32.2->datasets) (2024.8.30)\n",
            "Requirement already satisfied: python-dateutil>=2.8.2 in /usr/local/lib/python3.10/dist-packages (from pandas->datasets) (2.8.2)\n",
            "Requirement already satisfied: pytz>=2020.1 in /usr/local/lib/python3.10/dist-packages (from pandas->datasets) (2024.2)\n",
            "Requirement already satisfied: tzdata>=2022.7 in /usr/local/lib/python3.10/dist-packages (from pandas->datasets) (2024.2)\n",
            "Requirement already satisfied: six>=1.5 in /usr/local/lib/python3.10/dist-packages (from python-dateutil>=2.8.2->pandas->datasets) (1.17.0)\n"
          ]
        }
      ]
    },
    {
      "cell_type": "code",
      "source": [
        "!pip install evaluate"
      ],
      "metadata": {
        "colab": {
          "base_uri": "https://localhost:8080/"
        },
        "id": "gaUrbtlVYAoU",
        "outputId": "c5c54d9f-5ad8-4c90-ac5e-2ca7445ed177"
      },
      "execution_count": null,
      "outputs": [
        {
          "output_type": "stream",
          "name": "stdout",
          "text": [
            "Requirement already satisfied: evaluate in /usr/local/lib/python3.10/dist-packages (0.4.3)\n",
            "Requirement already satisfied: datasets>=2.0.0 in /usr/local/lib/python3.10/dist-packages (from evaluate) (3.2.0)\n",
            "Requirement already satisfied: numpy>=1.17 in /usr/local/lib/python3.10/dist-packages (from evaluate) (1.26.4)\n",
            "Requirement already satisfied: dill in /usr/local/lib/python3.10/dist-packages (from evaluate) (0.3.8)\n",
            "Requirement already satisfied: pandas in /usr/local/lib/python3.10/dist-packages (from evaluate) (2.2.2)\n",
            "Requirement already satisfied: requests>=2.19.0 in /usr/local/lib/python3.10/dist-packages (from evaluate) (2.32.3)\n",
            "Requirement already satisfied: tqdm>=4.62.1 in /usr/local/lib/python3.10/dist-packages (from evaluate) (4.66.6)\n",
            "Requirement already satisfied: xxhash in /usr/local/lib/python3.10/dist-packages (from evaluate) (3.5.0)\n",
            "Requirement already satisfied: multiprocess in /usr/local/lib/python3.10/dist-packages (from evaluate) (0.70.16)\n",
            "Requirement already satisfied: fsspec>=2021.05.0 in /usr/local/lib/python3.10/dist-packages (from fsspec[http]>=2021.05.0->evaluate) (2024.9.0)\n",
            "Requirement already satisfied: huggingface-hub>=0.7.0 in /usr/local/lib/python3.10/dist-packages (from evaluate) (0.26.5)\n",
            "Requirement already satisfied: packaging in /usr/local/lib/python3.10/dist-packages (from evaluate) (24.2)\n",
            "Requirement already satisfied: filelock in /usr/local/lib/python3.10/dist-packages (from datasets>=2.0.0->evaluate) (3.16.1)\n",
            "Requirement already satisfied: pyarrow>=15.0.0 in /usr/local/lib/python3.10/dist-packages (from datasets>=2.0.0->evaluate) (17.0.0)\n",
            "Requirement already satisfied: aiohttp in /usr/local/lib/python3.10/dist-packages (from datasets>=2.0.0->evaluate) (3.11.10)\n",
            "Requirement already satisfied: pyyaml>=5.1 in /usr/local/lib/python3.10/dist-packages (from datasets>=2.0.0->evaluate) (6.0.2)\n",
            "Requirement already satisfied: typing-extensions>=3.7.4.3 in /usr/local/lib/python3.10/dist-packages (from huggingface-hub>=0.7.0->evaluate) (4.12.2)\n",
            "Requirement already satisfied: charset-normalizer<4,>=2 in /usr/local/lib/python3.10/dist-packages (from requests>=2.19.0->evaluate) (3.4.0)\n",
            "Requirement already satisfied: idna<4,>=2.5 in /usr/local/lib/python3.10/dist-packages (from requests>=2.19.0->evaluate) (3.10)\n",
            "Requirement already satisfied: urllib3<3,>=1.21.1 in /usr/local/lib/python3.10/dist-packages (from requests>=2.19.0->evaluate) (2.2.3)\n",
            "Requirement already satisfied: certifi>=2017.4.17 in /usr/local/lib/python3.10/dist-packages (from requests>=2.19.0->evaluate) (2024.8.30)\n",
            "Requirement already satisfied: python-dateutil>=2.8.2 in /usr/local/lib/python3.10/dist-packages (from pandas->evaluate) (2.8.2)\n",
            "Requirement already satisfied: pytz>=2020.1 in /usr/local/lib/python3.10/dist-packages (from pandas->evaluate) (2024.2)\n",
            "Requirement already satisfied: tzdata>=2022.7 in /usr/local/lib/python3.10/dist-packages (from pandas->evaluate) (2024.2)\n",
            "Requirement already satisfied: aiohappyeyeballs>=2.3.0 in /usr/local/lib/python3.10/dist-packages (from aiohttp->datasets>=2.0.0->evaluate) (2.4.4)\n",
            "Requirement already satisfied: aiosignal>=1.1.2 in /usr/local/lib/python3.10/dist-packages (from aiohttp->datasets>=2.0.0->evaluate) (1.3.1)\n",
            "Requirement already satisfied: async-timeout<6.0,>=4.0 in /usr/local/lib/python3.10/dist-packages (from aiohttp->datasets>=2.0.0->evaluate) (4.0.3)\n",
            "Requirement already satisfied: attrs>=17.3.0 in /usr/local/lib/python3.10/dist-packages (from aiohttp->datasets>=2.0.0->evaluate) (24.2.0)\n",
            "Requirement already satisfied: frozenlist>=1.1.1 in /usr/local/lib/python3.10/dist-packages (from aiohttp->datasets>=2.0.0->evaluate) (1.5.0)\n",
            "Requirement already satisfied: multidict<7.0,>=4.5 in /usr/local/lib/python3.10/dist-packages (from aiohttp->datasets>=2.0.0->evaluate) (6.1.0)\n",
            "Requirement already satisfied: propcache>=0.2.0 in /usr/local/lib/python3.10/dist-packages (from aiohttp->datasets>=2.0.0->evaluate) (0.2.1)\n",
            "Requirement already satisfied: yarl<2.0,>=1.17.0 in /usr/local/lib/python3.10/dist-packages (from aiohttp->datasets>=2.0.0->evaluate) (1.18.3)\n",
            "Requirement already satisfied: six>=1.5 in /usr/local/lib/python3.10/dist-packages (from python-dateutil>=2.8.2->pandas->evaluate) (1.17.0)\n"
          ]
        }
      ]
    },
    {
      "cell_type": "code",
      "source": [
        "!pip install seqeval"
      ],
      "metadata": {
        "colab": {
          "base_uri": "https://localhost:8080/"
        },
        "id": "puk3JY_SYOCZ",
        "outputId": "dc6be903-9683-4902-de7b-54b16279d028"
      },
      "execution_count": null,
      "outputs": [
        {
          "output_type": "stream",
          "name": "stdout",
          "text": [
            "Requirement already satisfied: seqeval in /usr/local/lib/python3.10/dist-packages (1.2.2)\n",
            "Requirement already satisfied: numpy>=1.14.0 in /usr/local/lib/python3.10/dist-packages (from seqeval) (1.26.4)\n",
            "Requirement already satisfied: scikit-learn>=0.21.3 in /usr/local/lib/python3.10/dist-packages (from seqeval) (1.5.2)\n",
            "Requirement already satisfied: scipy>=1.6.0 in /usr/local/lib/python3.10/dist-packages (from scikit-learn>=0.21.3->seqeval) (1.13.1)\n",
            "Requirement already satisfied: joblib>=1.2.0 in /usr/local/lib/python3.10/dist-packages (from scikit-learn>=0.21.3->seqeval) (1.4.2)\n",
            "Requirement already satisfied: threadpoolctl>=3.1.0 in /usr/local/lib/python3.10/dist-packages (from scikit-learn>=0.21.3->seqeval) (3.5.0)\n"
          ]
        }
      ]
    },
    {
      "cell_type": "code",
      "source": [
        "from sklearn.model_selection import train_test_split\n",
        "from sklearn.utils import resample\n",
        "from transformers import AutoTokenizer\n",
        "from datasets import Dataset\n",
        "import os\n"
      ],
      "metadata": {
        "id": "LixIL9TGIH2J"
      },
      "execution_count": null,
      "outputs": []
    },
    {
      "cell_type": "markdown",
      "source": [
        "#Dataset Preparation\n",
        "We prepare the dataset for the modeling process: the dataset contains annotated text, where each token is associated with a specific label. As the first step, we calculate the **sequence length**, defined as the difference between the \"Start\" and \"End\" positions of each token.\n",
        "\n",
        "Next, we analyze the distribution of sequence lengths. The results show that the average sequence length is approximately 6.59 tokens, with most **sequences ranging from 4 to 9 tokens**, while the **longest sequence reaches 32 tokens**. This analysis helps us understand the typical size of the sequences in our dataset, ensuring that the tokenizer and model configurations are optimized to efficiently handle these lengths during training.\n",
        "\n",
        "Such an analysis is crucial for tasks like padding and truncation, as it allows us to set an appropriate maximum sequence length for the model, ensuring optimized and efficient training and evaluation processes."
      ],
      "metadata": {
        "id": "MApzFBIRvfdG"
      }
    },
    {
      "cell_type": "code",
      "source": [
        "df['sequence_length'] = df['End'] - df['Start']\n",
        "print(df['sequence_length'].describe())\n"
      ],
      "metadata": {
        "id": "d4Fd4ZFfNwOJ",
        "outputId": "d703c115-4e28-4e22-cf9c-fcb07c127ab3",
        "colab": {
          "base_uri": "https://localhost:8080/"
        }
      },
      "execution_count": null,
      "outputs": [
        {
          "output_type": "stream",
          "name": "stdout",
          "text": [
            "count    60979.000000\n",
            "mean         6.588252\n",
            "std          3.391699\n",
            "min          1.000000\n",
            "25%          4.000000\n",
            "50%          7.000000\n",
            "75%          9.000000\n",
            "max         32.000000\n",
            "Name: sequence_length, dtype: float64\n"
          ]
        }
      ]
    },
    {
      "cell_type": "markdown",
      "source": [
        "We examine the **unique labels** present in the dataset to gain an understanding of the different categories involved. Subsequently, we analyze **how frequently each label appears**, revealing the overall distribution of labels within the dataset.\n",
        "\n",
        "From the analysis, we observe that the label **\"O\"** (Outside) **appears most frequently**, followed by categories like \"B-Cell\" and \"B-Multi-tissue_structure.\" On the other hand, certain categories, such as \"I-Developing_anatomical_structure\" and \"I-Organism_subdivision\" are significantly underrepresented, with very few occurrences. This highlights the presence of a substantial class imbalance in the dataset.\n"
      ],
      "metadata": {
        "id": "FjL64tgKHqmw"
      }
    },
    {
      "cell_type": "code",
      "source": [
        "# Valori unici di Label\n",
        "print(\"\\nCategorie di Label:\")\n",
        "print(df['Label'].unique())\n",
        "\n",
        "# Frequenza delle etichette\n",
        "print(\"\\nDistribuzione delle etichette:\")\n",
        "print(df['Label'].value_counts())\n"
      ],
      "metadata": {
        "colab": {
          "base_uri": "https://localhost:8080/"
        },
        "id": "80rXLDWaEbVo",
        "outputId": "061b3f30-0bab-4d9e-a7e8-25af879ab83a"
      },
      "execution_count": null,
      "outputs": [
        {
          "output_type": "stream",
          "name": "stdout",
          "text": [
            "\n",
            "Categorie di Label:\n",
            "['B-Multi-tissue_structure' 'O' 'B-Organism_substance'\n",
            " 'B-Organism_subdivision' 'B-Organ' 'I-Multi-tissue_structure'\n",
            " 'B-Cellular_component' 'I-Cellular_component' 'B-Cell' 'I-Cell'\n",
            " 'B-Immaterial_anatomical_entity' 'B-Tissue' 'I-Tissue'\n",
            " 'B-Pathological_formation' 'B-Anatomical_system' 'I-Organism_substance'\n",
            " 'I-Anatomical_system' 'I-Pathological_formation'\n",
            " 'I-Immaterial_anatomical_entity' 'I-Organ' 'I-Organism_subdivision'\n",
            " 'B-Developing_anatomical_structure' 'I-Developing_anatomical_structure']\n",
            "\n",
            "Distribuzione delle etichette:\n",
            "Label\n",
            "O                                    56455\n",
            "B-Cell                                 775\n",
            "B-Multi-tissue_structure               639\n",
            "I-Cell                                 439\n",
            "B-Organ                                381\n",
            "B-Pathological_formation               367\n",
            "I-Multi-tissue_structure               358\n",
            "B-Organism_substance                   288\n",
            "I-Pathological_formation               224\n",
            "B-Cellular_component                   199\n",
            "B-Tissue                               169\n",
            "B-Organism_subdivision                 161\n",
            "I-Tissue                               112\n",
            "I-Cellular_component                    72\n",
            "I-Organism_substance                    70\n",
            "B-Immaterial_anatomical_entity          60\n",
            "I-Organ                                 52\n",
            "B-Anatomical_system                     51\n",
            "B-Developing_anatomical_structure       39\n",
            "I-Anatomical_system                     26\n",
            "I-Immaterial_anatomical_entity          20\n",
            "I-Organism_subdivision                  17\n",
            "I-Developing_anatomical_structure        5\n",
            "Name: count, dtype: int64\n"
          ]
        }
      ]
    },
    {
      "cell_type": "markdown",
      "source": [
        "##Splitting the dataset\n",
        "To prepare the dataset, we performed the following operations:\n",
        "\n",
        "1. **Removal of a NER label**: The class \"I-Developing_anatomical_structure\" was removed from the dataset as it contained only 5 examples. A class with such a small representation would have compromised the model's predictions, reducing the reliability of its performance.\n",
        "\n",
        "2. **Splitting into train, test and validation sets**: The dataset was split into three sets: training (70%), validation (15%), and test (15%). First, the unique IDs of the samples were randomly shuffled, and 30% of the dataset was separated into a temporary set (containing both validation and test), while 70% was allocated to the training set. The temporary set was then split into two parts, with 50% of the IDs assigned to the validation set and 50% to the test set.\n",
        "\n",
        "3. **Difference in the sizes of validation and test sets:** The slight difference in size between the validation and test sets is due to the fact that the splitting was done based on unique IDs rather than rows. This resulted in a slight discrepancy in the actual number of rows assigned to each set, with validation being larger than test."
      ],
      "metadata": {
        "id": "ticKA2jqwJZh"
      }
    },
    {
      "cell_type": "code",
      "source": [
        "from sklearn.utils import resample\n",
        "\n",
        "# Rimuovere la classe I-Developing_anatomical_structure da tutto il dataset\n",
        "df = df[df['Label'] != 'I-Developing_anatomical_structure']\n",
        "\n",
        "# Suddivisione del dataset in train, validation e test\n",
        "unique_ids = df['id'].unique()\n",
        "shuffled_ids = pd.Series(unique_ids).sample(frac=1, random_state=42).values\n",
        "train_ids, temp_ids = train_test_split(shuffled_ids, test_size=0.3, random_state=42)\n",
        "val_ids, test_ids = train_test_split(temp_ids, test_size=0.5, random_state=42)\n",
        "\n",
        "train_df = df[df['id'].isin(train_ids)]\n",
        "val_df = df[df['id'].isin(val_ids)]\n",
        "test_df = df[df['id'].isin(test_ids)]\n",
        "\n",
        "# Mostrare le dimensioni dei subset\n",
        "print(f\"Training set: {train_df.shape[0]} righe\")\n",
        "print(f\"Validation set: {val_df.shape[0]} righe\")\n",
        "print(f\"Test set: {test_df.shape[0]} righe\")\n"
      ],
      "metadata": {
        "colab": {
          "base_uri": "https://localhost:8080/"
        },
        "id": "KwilsD6mv3cs",
        "outputId": "d47b1fed-62ca-4db2-8e85-ef0789200c7d"
      },
      "execution_count": null,
      "outputs": [
        {
          "output_type": "stream",
          "name": "stdout",
          "text": [
            "Training set: 42163 righe\n",
            "Validation set: 10320 righe\n",
            "Test set: 8491 righe\n"
          ]
        }
      ]
    },
    {
      "cell_type": "code",
      "source": [
        "print(train_df['Label'].value_counts())"
      ],
      "metadata": {
        "id": "OlwryD5faBLZ",
        "outputId": "dff08c12-0510-4b55-abb6-39778410229a",
        "colab": {
          "base_uri": "https://localhost:8080/"
        }
      },
      "execution_count": null,
      "outputs": [
        {
          "output_type": "stream",
          "name": "stdout",
          "text": [
            "Label\n",
            "O                                    38911\n",
            "B-Cell                                 543\n",
            "B-Multi-tissue_structure               464\n",
            "I-Cell                                 355\n",
            "B-Organ                                286\n",
            "B-Pathological_formation               256\n",
            "I-Multi-tissue_structure               254\n",
            "B-Organism_substance                   171\n",
            "I-Pathological_formation               156\n",
            "B-Cellular_component                   142\n",
            "B-Organism_subdivision                 131\n",
            "B-Tissue                               118\n",
            "I-Tissue                                71\n",
            "I-Cellular_component                    55\n",
            "B-Immaterial_anatomical_entity          50\n",
            "I-Organism_substance                    40\n",
            "I-Organ                                 38\n",
            "B-Anatomical_system                     35\n",
            "B-Developing_anatomical_structure       33\n",
            "I-Anatomical_system                     25\n",
            "I-Immaterial_anatomical_entity          16\n",
            "I-Organism_subdivision                  13\n",
            "Name: count, dtype: int64\n"
          ]
        }
      ]
    },
    {
      "cell_type": "markdown",
      "source": [
        "##Rebalancing Training set\n",
        "To address the class imbalance in the training dataset, we apply undersampling and oversampling techniques:\n",
        "1. **Undersampling of the majority class**: The \"O\" (majority) class is undersampled to 10,000 examples, while the minority classes are separated and prepared for oversampling.\n",
        "\n",
        "2. **Oversampling of the minority classes**: The minority classes are oversampled to 1,000 examples per class, balancing the distribution of classes in the training set.\n",
        "\n",
        "3. **Merging and shuffling of the balanced data**: The balanced data (both majority and minority classes) are merged and randomly shuffled to form a new training set, ensuring the data is distributed randomly to avoid bias."
      ],
      "metadata": {
        "id": "ZvwRxy8OI2Ux"
      }
    },
    {
      "cell_type": "code",
      "source": [
        "from sklearn.utils import resample\n",
        "\n",
        "# Separare la classe maggioritaria (O) e le altre classi nel train set\n",
        "majority_class = train_df[train_df['Label'] == 'O']\n",
        "minority_classes = train_df[train_df['Label'] != 'O']\n",
        "\n",
        "# Undersampling della classe O nel train set\n",
        "undersampled_majority = resample(majority_class,\n",
        "                                 replace=False,  # Campionamento senza sostituzione\n",
        "                                 n_samples=10000,  # Numero target (esempio: 10k)\n",
        "                                 random_state=42)\n",
        "\n",
        "# Oversampling delle classi minoritarie nel train set\n",
        "balanced_minority = minority_classes.groupby('Label', group_keys=False).apply(\n",
        "    lambda x: resample(x,\n",
        "                       replace=True,  # Campionamento con sostituzione\n",
        "                       n_samples=1000,  # Numero target (esempio: 1k per classe)\n",
        "                       random_state=42)\n",
        ")\n",
        "\n",
        "# Unire i dati bilanciati nel train set\n",
        "balanced_train_df = pd.concat([undersampled_majority, balanced_minority])\n",
        "\n",
        "# Mescolare i dati bilanciati\n",
        "balanced_train_df = balanced_train_df.sample(frac=1, random_state=42).reset_index(drop=True)\n",
        "\n",
        "# Controllare la nuova distribuzione delle classi nel train set\n",
        "print(\"Distribution of classes in balanced train set:\")\n",
        "print(balanced_train_df['Label'].value_counts())\n",
        "\n",
        "# Validation e test restano invariati\n",
        "print(\"Distribution of classes in validation set:\")\n",
        "print(val_df['Label'].value_counts())\n",
        "\n",
        "print(\"Distribution of classes in test set:\")\n",
        "print(test_df['Label'].value_counts())\n"
      ],
      "metadata": {
        "colab": {
          "base_uri": "https://localhost:8080/"
        },
        "id": "QYF0Br-1wWGo",
        "outputId": "60454d96-d35c-4378-cfa9-769a284cce9d"
      },
      "execution_count": null,
      "outputs": [
        {
          "output_type": "stream",
          "name": "stdout",
          "text": [
            "Distribution of classes in balanced train set:\n",
            "Label\n",
            "O                                    10000\n",
            "I-Multi-tissue_structure              1000\n",
            "B-Cellular_component                  1000\n",
            "I-Immaterial_anatomical_entity        1000\n",
            "I-Cell                                1000\n",
            "B-Cell                                1000\n",
            "B-Multi-tissue_structure              1000\n",
            "I-Anatomical_system                   1000\n",
            "I-Organism_substance                  1000\n",
            "B-Tissue                              1000\n",
            "B-Organism_substance                  1000\n",
            "B-Organ                               1000\n",
            "I-Cellular_component                  1000\n",
            "I-Organ                               1000\n",
            "I-Tissue                              1000\n",
            "B-Developing_anatomical_structure     1000\n",
            "I-Pathological_formation              1000\n",
            "I-Organism_subdivision                1000\n",
            "B-Pathological_formation              1000\n",
            "B-Anatomical_system                   1000\n",
            "B-Organism_subdivision                1000\n",
            "B-Immaterial_anatomical_entity        1000\n",
            "Name: count, dtype: int64\n",
            "Distribution of classes in validation set:\n",
            "Label\n",
            "O                                    9595\n",
            "B-Cell                                142\n",
            "B-Multi-tissue_structure               84\n",
            "B-Organism_substance                   82\n",
            "B-Pathological_formation               75\n",
            "B-Organ                                66\n",
            "I-Multi-tissue_structure               62\n",
            "I-Cell                                 56\n",
            "I-Pathological_formation               45\n",
            "B-Tissue                               22\n",
            "I-Organism_substance                   21\n",
            "B-Organism_subdivision                 16\n",
            "I-Tissue                               11\n",
            "B-Cellular_component                   10\n",
            "B-Immaterial_anatomical_entity         10\n",
            "I-Cellular_component                    8\n",
            "I-Immaterial_anatomical_entity          4\n",
            "B-Developing_anatomical_structure       4\n",
            "I-Organ                                 3\n",
            "B-Anatomical_system                     2\n",
            "I-Anatomical_system                     1\n",
            "I-Organism_subdivision                  1\n",
            "Name: count, dtype: int64\n",
            "Distribution of classes in test set:\n",
            "Label\n",
            "O                                    7949\n",
            "B-Multi-tissue_structure               91\n",
            "B-Cell                                 90\n",
            "B-Cellular_component                   47\n",
            "I-Multi-tissue_structure               42\n",
            "B-Pathological_formation               36\n",
            "B-Organism_substance                   35\n",
            "I-Tissue                               30\n",
            "B-Tissue                               29\n",
            "B-Organ                                29\n",
            "I-Cell                                 28\n",
            "I-Pathological_formation               23\n",
            "B-Organism_subdivision                 14\n",
            "B-Anatomical_system                    14\n",
            "I-Organ                                11\n",
            "I-Cellular_component                    9\n",
            "I-Organism_substance                    9\n",
            "I-Organism_subdivision                  3\n",
            "B-Developing_anatomical_structure       2\n",
            "Name: count, dtype: int64\n"
          ]
        },
        {
          "output_type": "stream",
          "name": "stderr",
          "text": [
            "<ipython-input-90-3e7acd8425d9>:14: DeprecationWarning: DataFrameGroupBy.apply operated on the grouping columns. This behavior is deprecated, and in a future version of pandas the grouping columns will be excluded from the operation. Either pass `include_groups=False` to exclude the groupings or explicitly select the grouping columns after groupby to silence this warning.\n",
            "  balanced_minority = minority_classes.groupby('Label', group_keys=False).apply(\n"
          ]
        }
      ]
    },
    {
      "cell_type": "markdown",
      "source": [
        "#Mapping NER tags\n",
        "After identifying all unique NER labels in the balanced training set, we created two mapping dictionaries:\n",
        "\n",
        "* **tag2id**: This dictionary associates each unique NER label with a unique numeric ID. This is essential for converting the categorical labels into a format suitable for deep learning models.\n",
        "\n",
        "* **id2tag**: This dictionary performs the reverse mapping, converting numeric IDs back into the corresponding NER labels, which helps in interpreting model predictions during evaluation.\n",
        "\n",
        "We then applied the tag2id mapping to the training, validation, and test datasets, replacing the original NER labels with their respective numeric IDs. This conversion makes the data compatible with the Hugging Face model, enabling the model to process these numeric representations during training and evaluation.\n",
        "\n",
        "Finally, we printed the tag2id mapping to ensure that each label has been correctly mapped to its corresponding ID."
      ],
      "metadata": {
        "id": "YupNYbv9JYOB"
      }
    },
    {
      "cell_type": "code",
      "source": [
        "# Creiamo una lista di tutte le etichette presenti nel training set bilanciato\n",
        "all_labels = balanced_train_df['Label'].unique()\n",
        "\n",
        "# Creiamo il mapping delle etichette\n",
        "tag2id = {tag: idx for idx, tag in enumerate(all_labels)}\n",
        "id2tag = {idx: tag for tag, idx in tag2id.items()}\n",
        "\n",
        "val_df = val_df.copy()\n",
        "test_df = test_df.copy()\n",
        "\n",
        "# Aggiungiamo la colonna con l'ID delle etichette nei dataset\n",
        "balanced_train_df['Label_ID'] = balanced_train_df['Label'].map(tag2id)\n",
        "val_df.loc[:,'Label_ID'] = val_df['Label'].map(tag2id)\n",
        "test_df.loc[:,'Label_ID'] = test_df['Label'].map(tag2id)\n",
        "\n",
        "# Controlliamo il mapping\n",
        "print(\"Mapping delle etichette (tag2id):\", tag2id)\n"
      ],
      "metadata": {
        "colab": {
          "base_uri": "https://localhost:8080/"
        },
        "id": "Nzwrd9A2JZ-B",
        "outputId": "3f1f20eb-be99-4df7-bc13-e752368daef0"
      },
      "execution_count": null,
      "outputs": [
        {
          "output_type": "stream",
          "name": "stdout",
          "text": [
            "Mapping delle etichette (tag2id): {'I-Multi-tissue_structure': 0, 'B-Cellular_component': 1, 'O': 2, 'I-Immaterial_anatomical_entity': 3, 'I-Cell': 4, 'B-Cell': 5, 'B-Multi-tissue_structure': 6, 'I-Anatomical_system': 7, 'I-Organism_substance': 8, 'B-Tissue': 9, 'B-Organism_substance': 10, 'B-Organ': 11, 'I-Cellular_component': 12, 'I-Organ': 13, 'I-Tissue': 14, 'B-Developing_anatomical_structure': 15, 'I-Pathological_formation': 16, 'I-Organism_subdivision': 17, 'B-Pathological_formation': 18, 'B-Anatomical_system': 19, 'B-Organism_subdivision': 20, 'B-Immaterial_anatomical_entity': 21}\n"
          ]
        }
      ]
    },
    {
      "cell_type": "markdown",
      "source": [
        "#Preparing Data for Hugging Face\n",
        "By defining the convert_labels_to_ids function, we centralize the process of converting NER labels into numeric IDs. Unlike the first approach, where the mapping was applied manually to each dataset separately, with this function we can **easily apply the same conversion to multiple datasets** (training, validation, test) in a **modular and reusable way**. The function applies the tag2id mapping to the Label column of each dataset, creating a new Label_ID column with the corresponding numeric IDs. This approach **improves code readability** and maintainability by reducing duplication and centralizing the conversion logic."
      ],
      "metadata": {
        "id": "q4cDfVBEKxVX"
      }
    },
    {
      "cell_type": "code",
      "source": [
        "# Trasforma le etichette in ID numerici usando il mapping tag2id\n",
        "def convert_labels_to_ids(df, tag2id):\n",
        "    df.loc[:, 'Label_ID'] = df['Label'].map(tag2id)  # Mappa direttamente i valori della colonna\n",
        "    return df\n",
        "\n",
        "# Esegui la conversione per ogni dataset\n",
        "balanced_train_dataset = convert_labels_to_ids(balanced_train_df, tag2id)  # Usa il training set bilanciato\n",
        "val_dataset = convert_labels_to_ids(val_df, tag2id)\n",
        "test_dataset = convert_labels_to_ids(test_df, tag2id)\n",
        "\n",
        "print(\"Conversione delle etichette completata!\")\n",
        "print(balanced_train_dataset.head())\n"
      ],
      "metadata": {
        "colab": {
          "base_uri": "https://localhost:8080/"
        },
        "id": "-ubE1jdcJ3ep",
        "outputId": "fa0d7279-9014-4d90-a0f0-7768578d5357"
      },
      "execution_count": null,
      "outputs": [
        {
          "output_type": "stream",
          "name": "stdout",
          "text": [
            "Conversione delle etichette completata!\n",
            "              id  Start  End                           Label  sequence_length  \\\n",
            "0       internal     65   73        I-Multi-tissue_structure                8   \n",
            "1  transmembrane    285  298            B-Cellular_component               13   \n",
            "2    examination    599  610                               O               11   \n",
            "3      Sepharose    930  939                               O                9   \n",
            "4   interstitial    679  691  I-Immaterial_anatomical_entity               12   \n",
            "\n",
            "   Label_ID  \n",
            "0         0  \n",
            "1         1  \n",
            "2         2  \n",
            "3         2  \n",
            "4         3  \n"
          ]
        }
      ]
    },
    {
      "cell_type": "markdown",
      "source": [
        "#Dataset for Hugging Face\n",
        "We proceed by **transforming the datasets into Hugging Face Dataset format using Dataset**.from_pandas. This format is ideal for training models within the transformers library, allowing for efficient handling of the data."
      ],
      "metadata": {
        "id": "BogzjXMHV-mf"
      }
    },
    {
      "cell_type": "code",
      "source": [
        "# Converto i DataFrame in Dataset di Hugging Face\n",
        "train_hf = Dataset.from_pandas(balanced_train_dataset)\n",
        "val_hf = Dataset.from_pandas(val_dataset)\n",
        "test_hf = Dataset.from_pandas(test_dataset)"
      ],
      "metadata": {
        "id": "XUOd8juwWJs5"
      },
      "execution_count": null,
      "outputs": []
    },
    {
      "cell_type": "markdown",
      "source": [
        "#Loading tokenizer and pre-trained model (BioBERT)\n",
        "* **Pre-trained model**:\n",
        "The selected pre-trained model is BioBERT, specifically the \"dmis-lab/biobert-base-cased-v1.1\", a variant of BERT fine-tuned for biomedical text. Unlike the general-purpose BERT, BioBERT has been trained on large biomedical corpora such as PubMed and PMC (PubMed Central), which consist of scientific papers and biomedical research. This specialized training allows BioBERT to capture medical and scientific terms with a high level of precision, making it well-suited for biomedical NLP tasks such as Named Entity Recognition (NER).\n",
        "\n",
        "* **Tokenizer:**\n",
        "We load the tokenizer via the AutoTokenizer.from_pretrained() function, which automatically fetches the tokenizer associated with BioBERT. The tokenizer is responsible for splitting the text into tokens and mapping them to numeric IDs that the model understands. Additionally, it handles adding special tokens (e.g., [CLS], [SEP]) and padding/truncation to ensure the text conforms to the required input format.\n",
        "One key feature of the BioBERT tokenizer is its large vocabulary tailored to the biomedical domain. It has been trained on a large number of biomedical terms, which enables it to generalize well even when handling rare or non-standard words often seen in medical texts.\n",
        "\n",
        "* **Purpose:**\n",
        "BioBERT serves as the base model, which will be fine-tuned on our specific biomedical NER task. Fine-tuning allows the model to adapt to the specific vocabulary and medical context present in our dataset."
      ],
      "metadata": {
        "id": "kJGMeVzxWPUF"
      }
    },
    {
      "cell_type": "code",
      "source": [
        "# Carichiamo il tokenizer di BioBert\n",
        "model_name = \"dmis-lab/biobert-base-cased-v1.1\"\n",
        "tokenizer = AutoTokenizer.from_pretrained(model_name)\n",
        "\n",
        "print(\"Tokenizer caricato:\", model_name)"
      ],
      "metadata": {
        "colab": {
          "base_uri": "https://localhost:8080/"
        },
        "id": "VqRvDEJJLuCR",
        "outputId": "583be7d2-f335-4652-ad0c-e3cb13a57bba"
      },
      "execution_count": null,
      "outputs": [
        {
          "output_type": "stream",
          "name": "stderr",
          "text": [
            "/usr/local/lib/python3.10/dist-packages/huggingface_hub/utils/_auth.py:94: UserWarning: \n",
            "The secret `HF_TOKEN` does not exist in your Colab secrets.\n",
            "To authenticate with the Hugging Face Hub, create a token in your settings tab (https://huggingface.co/settings/tokens), set it as secret in your Google Colab and restart your session.\n",
            "You will be able to reuse this secret in all of your notebooks.\n",
            "Please note that authentication is recommended but still optional to access public models or datasets.\n",
            "  warnings.warn(\n"
          ]
        },
        {
          "output_type": "stream",
          "name": "stdout",
          "text": [
            "Tokenizer caricato: dmis-lab/biobert-base-cased-v1.1\n"
          ]
        }
      ]
    },
    {
      "cell_type": "markdown",
      "source": [
        "#Tokenization and labels allignment\n",
        "The tokenize_and_align_with_stride function tokenizes the input sequences using the Hugging Face tokenizer, ensuring that the alignment between generated tokens and NER labels is preserved. Main tokens retain their original labels, while special tokens and sub-tokens are ignored by assigning a label of -100.\n",
        "\n",
        "Tokenization involves padding and truncating the sequences to a **maximum length of 32 tokens**. This maximum length is determined by the longest sequence in our dataset, which has a length of 32 tokens.\n",
        "Additionally, the function introduces a **stride of 16 tokens**, allowing for overlapping segments. This overlap ensures that important context from the original sequence is not lost when truncating.\n",
        "\n",
        "The function is then applied to the datasets using datasets.map(), which processes the data in batches for efficiency. Unnecessary columns, such as the original text and label columns, are removed, resulting in tokenized datasets that are ready for training."
      ],
      "metadata": {
        "id": "0kVPeVFzWhC_"
      }
    },
    {
      "cell_type": "code",
      "source": [
        "def tokenize_and_align_with_stride(examples):\n",
        "    tokenized_inputs = tokenizer(\n",
        "        examples[\"id\"],  # Cambia con il tuo campo testo\n",
        "        truncation=True,\n",
        "        max_length=32,\n",
        "        stride=16,  # Sovrapposizione tra segmenti\n",
        "        is_split_into_words=False,\n",
        "        return_overflowing_tokens=True\n",
        "    )\n",
        "\n",
        "    labels = []\n",
        "    for i, label in enumerate(examples['Label_ID']):\n",
        "        word_ids = tokenized_inputs.word_ids(batch_index=i)  # Ottieni il mapping parola-token\n",
        "        aligned_labels = []\n",
        "        previous_word_idx = None\n",
        "        for word_idx in word_ids:\n",
        "            if word_idx is None:  # Token speciale o padding\n",
        "                aligned_labels.append(-100)\n",
        "            elif word_idx != previous_word_idx:\n",
        "                aligned_labels.append(label)  # Prima occorrenza della parola\n",
        "            else:\n",
        "                aligned_labels.append(-100)  # Ignora token subword\n",
        "            previous_word_idx = word_idx\n",
        "        labels.append(aligned_labels)\n",
        "\n",
        "    # Aggiungi le etichette ai token tokenizzati\n",
        "    tokenized_inputs[\"labels\"] = labels\n",
        "    return tokenized_inputs\n"
      ],
      "metadata": {
        "id": "3WnKBFUKLt9i"
      },
      "execution_count": null,
      "outputs": []
    },
    {
      "cell_type": "code",
      "source": [
        "def process_datasets(dataset, tokenizer):\n",
        "    return dataset.map(\n",
        "        tokenize_and_align_with_stride,  # Usa il nome corretto della funzione\n",
        "        batched=True,  # Processa in batch per velocità e robustezza\n",
        "        remove_columns=['id', 'Label', 'Label_ID']  # Rimuove colonne inutili\n",
        "    )\n",
        "\n",
        "# Tokenizzazione per i tre dataset\n",
        "tokenized_datasets = {}\n",
        "for split, dataset in zip([\"train\", \"validation\", \"test\"], [train_hf, val_hf, test_hf]):\n",
        "    tokenized_datasets[split] = process_datasets(dataset, tokenizer)\n",
        "\n",
        "print(\"Tokenizzazione completata!\")\n",
        "\n"
      ],
      "metadata": {
        "colab": {
          "base_uri": "https://localhost:8080/",
          "height": 131,
          "referenced_widgets": [
            "c8dff20507dd44ac8ecd066adc77b76f",
            "973029baf9274a478bf5894104751a35",
            "277db0e30e6d4382a64d91588384c010",
            "d2593ce8752f42f88a0041aa8306086f",
            "9ffde50350a049edab51d496917bbd49",
            "139733b42203425eae9e20400819a723",
            "dbb530ea05f04f8a9548ffd36013ae5d",
            "0c33f084c20f460bb1ac6fe27ca744c1",
            "4fcc7739166541fe88603e9f4aa885eb",
            "f5860cb2c82445abb68d4544548cd22c",
            "dab7b9d46de5419f8f872fbab93e1903",
            "d2156d7db16c43009c27fd45a79d5f2d",
            "477b016bd0eb435b8dd37974399fd047",
            "f828c1c8e8244111b804b251f17c0613",
            "23297a35eb8d4a6db0242ce39d630de5",
            "a6c37593d0d7485a869600a4dfea5b5f",
            "1c903a932ecc4569a127407f4ee5ea97",
            "f7132282713f4b96a052ee08f1dd5dd6",
            "f1b28047c1394b66a4b891bba0770776",
            "8c7a7b0f95f44c0f8d2f28deaf4749b1",
            "cdba8adcc8184c89aa9688f52f34934a",
            "c44e191ff360464eac2175676372a097",
            "7f94adf373764830a0cefe3f96b12fe5",
            "107e197d18de49608aecba5900a97cca",
            "14b69abcce6849d9b664fdd0a1841408",
            "fad907bb44364fd3a4a6f4b1c3e6928d",
            "edb277bcf90c41b5b90e821f1e226a7b",
            "35818f8e92bd41d9b20db9e439656dbd",
            "973be7efe6a74970b9b0a1c676d08451",
            "0e9a376e7eac45bcad391b3e2ea2d26d",
            "bc2301ec047740b290484148aa2e1df2",
            "8c9adc6896f549f1a700821430d646d3",
            "20c821b7ee1846f3b103742bff22264c"
          ]
        },
        "id": "5EGMqc8QMta2",
        "outputId": "5b0214c0-75d9-44ac-ed42-122b1cb31fb6"
      },
      "execution_count": null,
      "outputs": [
        {
          "output_type": "display_data",
          "data": {
            "text/plain": [
              "Map:   0%|          | 0/31000 [00:00<?, ? examples/s]"
            ],
            "application/vnd.jupyter.widget-view+json": {
              "version_major": 2,
              "version_minor": 0,
              "model_id": "c8dff20507dd44ac8ecd066adc77b76f"
            }
          },
          "metadata": {}
        },
        {
          "output_type": "display_data",
          "data": {
            "text/plain": [
              "Map:   0%|          | 0/10320 [00:00<?, ? examples/s]"
            ],
            "application/vnd.jupyter.widget-view+json": {
              "version_major": 2,
              "version_minor": 0,
              "model_id": "d2156d7db16c43009c27fd45a79d5f2d"
            }
          },
          "metadata": {}
        },
        {
          "output_type": "display_data",
          "data": {
            "text/plain": [
              "Map:   0%|          | 0/8491 [00:00<?, ? examples/s]"
            ],
            "application/vnd.jupyter.widget-view+json": {
              "version_major": 2,
              "version_minor": 0,
              "model_id": "7f94adf373764830a0cefe3f96b12fe5"
            }
          },
          "metadata": {}
        },
        {
          "output_type": "stream",
          "name": "stdout",
          "text": [
            "Tokenizzazione completata!\n"
          ]
        }
      ]
    },
    {
      "cell_type": "code",
      "source": [
        "# Controlla un esempio del dataset tokenizzato\n",
        "print(\"Esempio tokenizzato (Train):\")\n",
        "print(tokenized_datasets[\"train\"].select(range(5)).to_dict())\n"
      ],
      "metadata": {
        "colab": {
          "base_uri": "https://localhost:8080/"
        },
        "id": "P42-aVPYUa26",
        "outputId": "f64dc97c-5ad4-46f4-ff57-bc38f31d1683"
      },
      "execution_count": null,
      "outputs": [
        {
          "output_type": "stream",
          "name": "stdout",
          "text": [
            "Esempio tokenizzato (Train):\n",
            "{'Start': [65, 285, 599, 930, 679], 'End': [73, 298, 610, 939, 691], 'sequence_length': [8, 13, 11, 9, 12], 'input_ids': [[101, 4422, 102], [101, 14715, 3263, 12913, 18194, 102], [101, 8179, 102], [101, 14516, 20695, 10127, 102], [101, 9455, 2050, 17030, 1348, 102]], 'token_type_ids': [[0, 0, 0], [0, 0, 0, 0, 0, 0], [0, 0, 0], [0, 0, 0, 0, 0], [0, 0, 0, 0, 0, 0]], 'attention_mask': [[1, 1, 1], [1, 1, 1, 1, 1, 1], [1, 1, 1], [1, 1, 1, 1, 1], [1, 1, 1, 1, 1, 1]], 'overflow_to_sample_mapping': [0, 1, 2, 3, 4], 'labels': [[-100, 0, -100], [-100, 1, -100, -100, -100, -100], [-100, 2, -100], [-100, 2, -100, -100, -100], [-100, 3, -100, -100, -100, -100]]}\n"
          ]
        }
      ]
    },
    {
      "cell_type": "markdown",
      "source": [
        "#Model Configuration\n",
        "In this section, we load the pre-trained BioBERT model configured for **token classification**. We set the number of labels based on the classes in our dataset, ensuring the model can handle all NER labels in our task. Once loaded, the model is ready to be fine-tuned on our specific dataset."
      ],
      "metadata": {
        "id": "q0nb8ijyXguz"
      }
    },
    {
      "cell_type": "code",
      "source": [
        "from transformers import AutoModelForTokenClassification\n",
        "\n",
        "# Carichiamo il modello BioBERT configurato per il token classification\n",
        "model = AutoModelForTokenClassification.from_pretrained(\n",
        "    model_name,           # Nome del modello pre-addestrato\n",
        "    num_labels=len(tag2id)  # Numero di classi (etichette uniche)\n",
        ")\n",
        "\n",
        "print(\"Modello caricato con successo!\")\n"
      ],
      "metadata": {
        "colab": {
          "base_uri": "https://localhost:8080/"
        },
        "id": "EvuejSV3XmGZ",
        "outputId": "80e485f1-3ca5-4de7-92c6-93081efb0d1f"
      },
      "execution_count": null,
      "outputs": [
        {
          "output_type": "stream",
          "name": "stderr",
          "text": [
            "Some weights of BertForTokenClassification were not initialized from the model checkpoint at dmis-lab/biobert-base-cased-v1.1 and are newly initialized: ['classifier.bias', 'classifier.weight']\n",
            "You should probably TRAIN this model on a down-stream task to be able to use it for predictions and inference.\n"
          ]
        },
        {
          "output_type": "stream",
          "name": "stdout",
          "text": [
            "Modello caricato con successo!\n"
          ]
        }
      ]
    },
    {
      "cell_type": "markdown",
      "source": [
        "#Preparing for training\n",
        "##Data collator\n",
        "In this section, we configure the **Data Collator** for the token classification task. The Data Collator is responsible for preparing the data in batches, handling operations such as padding sequences and ensuring they are ready for input into the model. Specifically, in a token classification task, **it aligns the labels with the tokens**, ensuring that the data is correctly formatted for training.\n",
        "\n",
        "Next, an **evaluation function** (compute_metrics) is defined, using seqeval to compute performance metrics such as precision, recall, F1, and accuracy. The model's predictions are compared to the true labels (excluding padding tokens) to obtain these metrics, which are useful for tracking the model’s effectiveness during training."
      ],
      "metadata": {
        "id": "9OWdDEDQZcO2"
      }
    },
    {
      "cell_type": "code",
      "source": [
        "from transformers import DataCollatorForTokenClassification\n",
        "\n",
        "# Configuriamo il Data Collator per il task di classificazione dei token\n",
        "data_collator = DataCollatorForTokenClassification(tokenizer)\n",
        "print(\"Data Collator configurato!\")\n"
      ],
      "metadata": {
        "colab": {
          "base_uri": "https://localhost:8080/"
        },
        "id": "zI3gbV0NXvLe",
        "outputId": "3bc4ef4f-5467-4b12-895e-5dc5ef2a4716"
      },
      "execution_count": null,
      "outputs": [
        {
          "output_type": "stream",
          "name": "stdout",
          "text": [
            "Data Collator configurato!\n"
          ]
        }
      ]
    },
    {
      "cell_type": "code",
      "source": [
        "import evaluate\n",
        "import numpy as np\n",
        "\n",
        "# Funzione di valutazione\n",
        "seqeval = evaluate.load(\"seqeval\")\n",
        "\n",
        "def compute_metrics(p):\n",
        "    predictions, labels = p\n",
        "    predictions = np.argmax(predictions, axis=2)\n",
        "\n",
        "    true_predictions = [\n",
        "        [id2tag[p] for (p, l) in zip(pred, label) if l != -100]\n",
        "        for pred, label in zip(predictions, labels)\n",
        "    ]\n",
        "    true_labels = [\n",
        "        [id2tag[l] for (p, l) in zip(pred, label) if l != -100]\n",
        "        for pred, label in zip(predictions, labels)\n",
        "    ]\n",
        "\n",
        "    results = seqeval.compute(predictions=true_predictions, references=true_labels)\n",
        "    return {\n",
        "        \"precision\": results[\"overall_precision\"],\n",
        "        \"recall\": results[\"overall_recall\"],\n",
        "        \"f1\": results[\"overall_f1\"],\n",
        "        \"accuracy\": results[\"overall_accuracy\"],\n",
        "    }\n",
        "\n",
        "print(\"Metriche configurate!\")\n"
      ],
      "metadata": {
        "colab": {
          "base_uri": "https://localhost:8080/"
        },
        "id": "ix5fFq5XX4AE",
        "outputId": "6c3f8f76-e0ce-43a6-8ad0-7e9fcd50f2ab"
      },
      "execution_count": null,
      "outputs": [
        {
          "output_type": "stream",
          "name": "stdout",
          "text": [
            "Metriche configurate!\n"
          ]
        }
      ]
    },
    {
      "cell_type": "markdown",
      "source": [
        "##Setting training parameters\n",
        "We defined the training arguments using TrainingArguments. The configuration includes:\n",
        "\n",
        "* **output_dir**: Directory to save training results.\n",
        "* **num_train_epochs**: Number of epochs (5).\n",
        "* **learning_rate (lr)**: Learning rate (1e-5). It determines how much the model updates its weights in each iteration. A low value helps prevent overly large updates that could disrupt training.\n",
        "* **per_device_train_batch_size**: Batch size for training (64).\n",
        "* **per_device_eval_batch_size**: Batch size for evaluation (128).\n",
        "* **weight_decay**: Regularization parameter (0.01). Helps prevent overfitting by reducing excessively large weights during training.\n",
        "* **eval_strategy and save_strategy**: Evaluation and saving at the end of each epoch.\n",
        "* **load_best_model_at_end**: Loads the best model based on the f1 metric.\n",
        "* **logging_dir**: Directory for logging.\n",
        "* **report_to**: Disables reporting to other platforms.\n",
        "* **logging_steps**: Logging frequency (every 500 steps).\n",
        "* **lr_scheduler_type**: Type of learning rate scheduler (linear). It gradually adjusts the learning rate, starting low, increasing, and then gradually decreasing, improving training stability.\n",
        "* **warmup_steps**: 500 warmup steps for the learning rate. During these initial steps, the learning rate gradually increases, preventing sudden jumps that could harm training."
      ],
      "metadata": {
        "id": "YKdnZUQ0Zki6"
      }
    },
    {
      "cell_type": "code",
      "source": [
        "from transformers import TrainingArguments\n",
        "\n",
        "# Configura il Trainer\n",
        "training_args = TrainingArguments(\n",
        "    output_dir=\"./results_biobert\",\n",
        "    num_train_epochs=5,\n",
        "    learning_rate=1e-5,\n",
        "    per_device_train_batch_size=64,\n",
        "    per_device_eval_batch_size=128,\n",
        "    weight_decay=0.01,\n",
        "    eval_strategy=\"epoch\",\n",
        "    save_strategy=\"epoch\",\n",
        "    load_best_model_at_end=True,\n",
        "    metric_for_best_model=\"f1\",\n",
        "    logging_dir=\"./logs_biobert\",\n",
        "    report_to=\"none\",\n",
        "    logging_steps=500,  # Aggiungi logging per monitorare durante l'addestramento\n",
        "    lr_scheduler_type=\"linear\",  # Programma lineare per il tasso di apprendimento\n",
        "    warmup_steps=500  # Rampa iniziale per il tasso di apprendimento\n",
        ")\n",
        "print(\"Argomenti di addestramento configurati!\")\n"
      ],
      "metadata": {
        "colab": {
          "base_uri": "https://localhost:8080/"
        },
        "id": "BmHsVNudYbhY",
        "outputId": "ca7d5f1d-e82b-453d-faae-13159271974a"
      },
      "execution_count": null,
      "outputs": [
        {
          "output_type": "stream",
          "name": "stdout",
          "text": [
            "Argomenti di addestramento configurati!\n"
          ]
        }
      ]
    },
    {
      "cell_type": "markdown",
      "source": [
        "#Trainer\n",
        "In this section, we configure the **Trainer** to manage the training process. The model, training arguments, datasets, and data collator are set up, creating the pipeline for both training and evaluation.\n",
        "\n",
        "**Early stopping:** A key part of this setup is early stopping, which prevents overfitting by monitoring validation performance. If no improvement is observed after three consecutive epochs, training is halted. This strategy saves computational resources by avoiding unnecessary training and ensures that the model stops once it reaches its optimal performance.\n",
        "\n",
        "Additionally, we define a function to compute **evaluation metrics**, allowing us to track the model's performance during training. This configuration ensures an efficient training process, optimizing both model accuracy and resource utilization."
      ],
      "metadata": {
        "id": "HenETF--aOl4"
      }
    },
    {
      "cell_type": "code",
      "source": [
        "from transformers import Trainer, EarlyStoppingCallback\n",
        "\n",
        "# Configura il Trainer\n",
        "trainer = Trainer(\n",
        "    model=model,                              # Modello configurato\n",
        "    args=training_args,                       # Argomenti di addestramento\n",
        "    train_dataset=tokenized_datasets[\"train\"],  # Dataset di addestramento\n",
        "    eval_dataset=tokenized_datasets[\"validation\"],  # Dataset di validazione\n",
        "    data_collator=data_collator,              # Data Collator\n",
        "    compute_metrics=compute_metrics,          # Metriche\n",
        "    callbacks=[EarlyStoppingCallback(early_stopping_patience=3)]  # Early stopping\n",
        ")\n",
        "\n",
        "print(\"Trainer configurato con successo!\")\n",
        "\n"
      ],
      "metadata": {
        "colab": {
          "base_uri": "https://localhost:8080/"
        },
        "id": "lhUGc5WGYxLp",
        "outputId": "0a8ad19a-2455-4ce2-fb1f-51b223bc406f"
      },
      "execution_count": null,
      "outputs": [
        {
          "output_type": "stream",
          "name": "stdout",
          "text": [
            "Trainer configurato con successo!\n"
          ]
        }
      ]
    },
    {
      "cell_type": "markdown",
      "source": [
        "#TRAINING\n",
        "After preparing the data and configuring the model, we proceed with training BioBERT for the Named Entity Recognition (NER) task. The Data Collator manages padding and batching, ensuring the data is correctly formatted for the model. The Trainer handles the **training process**, tracking metrics like precision, recall, F1, and accuracy over five epochs. Once training is complete, the fine-tuned model and tokenizer are saved for future use. Finally, we reload them to verify successful saving and conclude the process."
      ],
      "metadata": {
        "id": "CDDY-XHhax2y"
      }
    },
    {
      "cell_type": "code",
      "source": [
        "print(tokenized_datasets[\"train\"][0])\n"
      ],
      "metadata": {
        "colab": {
          "base_uri": "https://localhost:8080/"
        },
        "id": "YrzTheYMa-Q7",
        "outputId": "51e7fd02-8673-4d7c-cc6e-8d546d6f500f"
      },
      "execution_count": null,
      "outputs": [
        {
          "output_type": "stream",
          "name": "stdout",
          "text": [
            "{'Start': 65, 'End': 73, 'sequence_length': 8, 'input_ids': [101, 4422, 102], 'token_type_ids': [0, 0, 0], 'attention_mask': [1, 1, 1], 'overflow_to_sample_mapping': 0, 'labels': [-100, 0, -100]}\n"
          ]
        }
      ]
    },
    {
      "cell_type": "code",
      "source": [
        "\n",
        "# Preleva un batch di esempio\n",
        "sample_batch = tokenized_datasets[\"train\"][:2]\n",
        "\n",
        "# Converte il batch in una lista di dizionari\n",
        "sample_batch_list = [{key: sample_batch[key][i] for key in sample_batch} for i in range(len(sample_batch[\"input_ids\"]))]\n",
        "\n",
        "# Applica il data collator\n",
        "processed_batch = data_collator(sample_batch_list)\n",
        "\n",
        "print(\"Batch processato dal data collator:\")\n",
        "print(processed_batch)\n",
        "\n"
      ],
      "metadata": {
        "colab": {
          "base_uri": "https://localhost:8080/"
        },
        "id": "J_H-9iQ1bAUm",
        "outputId": "4fdd5cd1-849d-4db0-bd35-4ee1a206faf4"
      },
      "execution_count": null,
      "outputs": [
        {
          "output_type": "stream",
          "name": "stdout",
          "text": [
            "Batch processato dal data collator:\n",
            "{'Start': tensor([ 65, 285]), 'End': tensor([ 73, 298]), 'sequence_length': tensor([ 8, 13]), 'input_ids': tensor([[  101,  4422,   102,     0,     0,     0],\n",
            "        [  101, 14715,  3263, 12913, 18194,   102]]), 'token_type_ids': tensor([[0, 0, 0, 0, 0, 0],\n",
            "        [0, 0, 0, 0, 0, 0]]), 'attention_mask': tensor([[1, 1, 1, 0, 0, 0],\n",
            "        [1, 1, 1, 1, 1, 1]]), 'overflow_to_sample_mapping': tensor([0, 1]), 'labels': tensor([[-100,    0, -100, -100, -100, -100],\n",
            "        [-100,    1, -100, -100, -100, -100]])}\n"
          ]
        }
      ]
    },
    {
      "cell_type": "markdown",
      "source": [],
      "metadata": {
        "id": "yXFUGE8vubVI"
      }
    },
    {
      "cell_type": "code",
      "source": [
        "# Avvia l'addestramento del modello\n",
        "print(\"Inizio dell'addestramento...\")\n",
        "trainer.train()\n",
        "print(\"Addestramento completato!\")\n"
      ],
      "metadata": {
        "colab": {
          "base_uri": "https://localhost:8080/",
          "height": 268
        },
        "id": "0C6fBEEQaPy0",
        "outputId": "21558bb6-7eb8-40c3-e20b-8c97a7e18dbc"
      },
      "execution_count": null,
      "outputs": [
        {
          "output_type": "stream",
          "name": "stdout",
          "text": [
            "Inizio dell'addestramento...\n"
          ]
        },
        {
          "output_type": "display_data",
          "data": {
            "text/plain": [
              "<IPython.core.display.HTML object>"
            ],
            "text/html": [
              "\n",
              "    <div>\n",
              "      \n",
              "      <progress value='2425' max='2425' style='width:300px; height:20px; vertical-align: middle;'></progress>\n",
              "      [2425/2425 02:12, Epoch 5/5]\n",
              "    </div>\n",
              "    <table border=\"1\" class=\"dataframe\">\n",
              "  <thead>\n",
              " <tr style=\"text-align: left;\">\n",
              "      <th>Epoch</th>\n",
              "      <th>Training Loss</th>\n",
              "      <th>Validation Loss</th>\n",
              "      <th>Precision</th>\n",
              "      <th>Recall</th>\n",
              "      <th>F1</th>\n",
              "      <th>Accuracy</th>\n",
              "    </tr>\n",
              "  </thead>\n",
              "  <tbody>\n",
              "    <tr>\n",
              "      <td>1</td>\n",
              "      <td>No log</td>\n",
              "      <td>0.341635</td>\n",
              "      <td>0.513661</td>\n",
              "      <td>0.518621</td>\n",
              "      <td>0.516129</td>\n",
              "      <td>0.936834</td>\n",
              "    </tr>\n",
              "    <tr>\n",
              "      <td>2</td>\n",
              "      <td>0.194200</td>\n",
              "      <td>0.350047</td>\n",
              "      <td>0.524631</td>\n",
              "      <td>0.587586</td>\n",
              "      <td>0.554327</td>\n",
              "      <td>0.935478</td>\n",
              "    </tr>\n",
              "    <tr>\n",
              "      <td>3</td>\n",
              "      <td>0.231100</td>\n",
              "      <td>0.323335</td>\n",
              "      <td>0.569948</td>\n",
              "      <td>0.606897</td>\n",
              "      <td>0.587842</td>\n",
              "      <td>0.941290</td>\n",
              "    </tr>\n",
              "    <tr>\n",
              "      <td>4</td>\n",
              "      <td>0.294700</td>\n",
              "      <td>0.320396</td>\n",
              "      <td>0.547847</td>\n",
              "      <td>0.631724</td>\n",
              "      <td>0.586803</td>\n",
              "      <td>0.937415</td>\n",
              "    </tr>\n",
              "    <tr>\n",
              "      <td>5</td>\n",
              "      <td>0.354900</td>\n",
              "      <td>0.312013</td>\n",
              "      <td>0.558570</td>\n",
              "      <td>0.624828</td>\n",
              "      <td>0.589844</td>\n",
              "      <td>0.938675</td>\n",
              "    </tr>\n",
              "  </tbody>\n",
              "</table><p>"
            ]
          },
          "metadata": {}
        },
        {
          "output_type": "stream",
          "name": "stdout",
          "text": [
            "Addestramento completato!\n"
          ]
        }
      ]
    },
    {
      "cell_type": "markdown",
      "source": [
        "**Metrics by Epoch during Training**:\n",
        "\n",
        "The results show the performance metrics over the course of training BioBERT for the **Named Entity Recognition (NER)** task. The metrics considered are **Training Loss**, **Validation Loss**, **Precision**, **Recall**, **F1**, and **Accuracy**, calculated across five epochs\n",
        "\n",
        "\n",
        "**1. Training Loss and Validation Loss:**\n",
        "* **Training Loss** increases progressively from 0.194200 (epoch 2) to 0.354900 (epoch 5). This increase may reflect a learning process where the model is fine-tuning its weights, but without immediate improvements on the training data. The increase is not necessarily negative, but it should be monitored in relation to Validation Loss.\n",
        "* **Validation Loss**, on the other hand, decreases consistently, going from 0.341635 (epoch 1) to 0.312013 (epoch 5). This indicates that the model is improving its ability to generalize on the validation data, reducing error and suggesting that the model is not overfitting to the training data.\n",
        "\n",
        "\n",
        "**2. Precision, Recall, F1, and Accuracy:**\n",
        "* **Precision** and **Recall** show continuous improvement. In particular, **Recall** increases from 0.513661 in epoch 1 to 0.624828 in epoch 5, suggesting that the model is identifying more correct entities as the epochs progress.\n",
        "* **F1**, which balances precision and recall, improves from 0.516129 to 0.589844, indicating that the model is optimizing the trade-off between precision and recall.\n",
        "* **Accuracy** remains high and stabilizes, increasing from approximately 93.6% to 94% in the final epoch, showing a general improvement in correct predictions.\n",
        "\n",
        "\n",
        "**3. General Considerations:**\n",
        "* The improvement in **Precision** and **Recall** indicates that the model is improving its ability to correctly identify entities, with particular focus on the increase in Recall.\n",
        "* The increase in **Training Loss** along with the decrease in **Validation Loss** is a good sign: the model continues to improve on the validation data without overfitting to the training data.\n",
        "* The increase in **F1 score** and the continued improvement of other metrics indicate that the model is finding a good balance between precision and recall, improving the overall quality of its predictions.\n",
        "\n",
        "In summary, the model has shown steady improvement over time, with consistent increases in precision and recall, and a continued reduction in **Validation Loss**, confirming that the training process was effective and the model has reached solid convergence."
      ],
      "metadata": {
        "id": "czvfyE74pnZv"
      }
    },
    {
      "cell_type": "code",
      "source": [
        "from google.colab import drive\n",
        "drive.mount('/content/drive', force_remount=True)\n",
        "\n",
        "\n",
        "# Directory di salvataggio\n",
        "save_directory = '/content/drive/MyDrive/saved_model'\n",
        "if not os.path.exists(save_directory):\n",
        "    os.makedirs(save_directory)\n",
        "\n",
        "# Salva il modello e il tokenizer\n",
        "trainer.save_model(save_directory)\n",
        "tokenizer.save_pretrained(save_directory)\n",
        "\n",
        "print(f\"Modello e tokenizer salvati nella directory: {save_directory}\")\n"
      ],
      "metadata": {
        "id": "nRJYntmKPHm7",
        "outputId": "c4facf43-1b15-41c8-fbf9-ad0982d551b6",
        "colab": {
          "base_uri": "https://localhost:8080/"
        }
      },
      "execution_count": null,
      "outputs": [
        {
          "output_type": "stream",
          "name": "stdout",
          "text": [
            "Mounted at /content/drive\n",
            "Modello e tokenizer salvati nella directory: /content/drive/MyDrive/saved_model\n"
          ]
        }
      ]
    },
    {
      "cell_type": "code",
      "source": [
        "import os\n",
        "\n",
        "save_directory = '/content/drive/MyDrive/Assignment/fine_tuned_model'\n",
        "\n",
        "# Crea la directory se non esiste\n",
        "if not os.path.exists(save_directory):\n",
        "    os.makedirs(save_directory)\n",
        "\n",
        "# Salva il modello e il tokenizer\n",
        "trainer.save_model(save_directory)\n",
        "tokenizer.save_pretrained(save_directory)\n",
        "\n",
        "print(f\"Modello e tokenizer salvati nella directory: {save_directory}\")\n"
      ],
      "metadata": {
        "id": "oQ_nzcr6rocK",
        "outputId": "620cfaae-287f-4280-eb0d-7b8f3115653e",
        "colab": {
          "base_uri": "https://localhost:8080/"
        }
      },
      "execution_count": null,
      "outputs": [
        {
          "output_type": "stream",
          "name": "stdout",
          "text": [
            "Modello e tokenizer salvati nella directory: /content/drive/MyDrive/Assignment/fine_tuned_model\n"
          ]
        }
      ]
    },
    {
      "cell_type": "code",
      "source": [
        "from transformers import AutoModelForTokenClassification, AutoTokenizer\n",
        "\n",
        "# Specifica il percorso del modello salvato\n",
        "save_directory = '/content/drive/MyDrive/Assignment/fine_tuned_model'\n",
        "\n",
        "# Carica il modello e il tokenizer\n",
        "model = AutoModelForTokenClassification.from_pretrained(save_directory, local_files_only=True)\n",
        "tokenizer = AutoTokenizer.from_pretrained(save_directory, local_files_only=True)\n",
        "\n",
        "print(\"Modello e tokenizer caricati con successo!\")\n"
      ],
      "metadata": {
        "id": "ydTwv-w5r-HW",
        "outputId": "c44f9507-063d-4f63-86b1-e8d604554c3b",
        "colab": {
          "base_uri": "https://localhost:8080/"
        }
      },
      "execution_count": null,
      "outputs": [
        {
          "output_type": "stream",
          "name": "stdout",
          "text": [
            "Modello e tokenizer caricati con successo!\n"
          ]
        }
      ]
    },
    {
      "cell_type": "code",
      "source": [
        "from transformers import Trainer\n",
        "\n",
        "# Configura un nuovo Trainer per la valutazione\n",
        "trainer_fine_tuned = Trainer(\n",
        "    model=model,                              # Modello caricato\n",
        "    args=training_args,                       # Argomenti di training già configurati\n",
        "    train_dataset=tokenized_datasets[\"train\"],  # Dataset di addestramento\n",
        "    eval_dataset=tokenized_datasets[\"validation\"],  # Dataset di validazione\n",
        "    tokenizer=tokenizer,                      # Tokenizer caricato\n",
        "    data_collator=data_collator,              # Data collator\n",
        "    compute_metrics=compute_metrics           # Funzione per il calcolo delle metriche\n",
        ")\n",
        "\n",
        "print(\"Trainer configurato per la valutazione!\")\n"
      ],
      "metadata": {
        "id": "RBi55PW9r_xz",
        "outputId": "345a85a8-be03-4ce4-ca60-23312aa190a8",
        "colab": {
          "base_uri": "https://localhost:8080/"
        }
      },
      "execution_count": null,
      "outputs": [
        {
          "output_type": "stream",
          "name": "stderr",
          "text": [
            "<ipython-input-82-83aaac066129>:4: FutureWarning: `tokenizer` is deprecated and will be removed in version 5.0.0 for `Trainer.__init__`. Use `processing_class` instead.\n",
            "  trainer_fine_tuned = Trainer(\n"
          ]
        },
        {
          "output_type": "stream",
          "name": "stdout",
          "text": [
            "Trainer configurato per la valutazione!\n"
          ]
        }
      ]
    },
    {
      "cell_type": "markdown",
      "source": [
        "# Evaluation of the Fine-Tuned Model\n",
        "We evaluated the model's performance on both the validation and test datasets using the .evaluate() method.\n",
        "\n",
        "* **Evaluation on the validation set**: Metrics were computed to monitor how well the model performs on data it has not encountered during training. This helps us understand the model's ability to generalize to unseen data.\n",
        "* **Evaluation on the test set**: We computed final metrics to assess the model’s overall performance, giving us a clear measure of its effectiveness on completely unseen data.\n",
        "\n",
        "Key metrics (loss, precision, recall, F1-score, and accuracy) were collected and organized into a Pandas DataFrame for easy visualization. This structure allows for a straightforward comparison between the validation and test sets, providing valuable insights into the model's strengths and potential areas for improvement."
      ],
      "metadata": {
        "id": "gurbU9Ls3LSr"
      }
    },
    {
      "cell_type": "code",
      "source": [
        "# Valutazione sul set di validazione\n",
        "print(\"Valutazione sul validation set...\")\n",
        "validation_metrics = trainer_fine_tuned.evaluate(tokenized_datasets[\"validation\"])\n",
        "print(\"Metriche sul validation set:\")\n",
        "print(validation_metrics)\n",
        "\n",
        "# Valutazione sul set di test\n",
        "print(\"Valutazione sul test set...\")\n",
        "test_metrics = trainer_fine_tuned.evaluate(tokenized_datasets[\"test\"])\n",
        "print(\"Metriche sul test set:\")\n",
        "print(test_metrics)\n"
      ],
      "metadata": {
        "id": "3AvVWz3EsB9V",
        "outputId": "1e0ef477-199f-452a-d4f7-18dc47c23fd2",
        "colab": {
          "base_uri": "https://localhost:8080/",
          "height": 200
        }
      },
      "execution_count": null,
      "outputs": [
        {
          "output_type": "stream",
          "name": "stdout",
          "text": [
            "Valutazione sul validation set...\n"
          ]
        },
        {
          "output_type": "display_data",
          "data": {
            "text/plain": [
              "<IPython.core.display.HTML object>"
            ],
            "text/html": [
              "\n",
              "    <div>\n",
              "      \n",
              "      <progress value='148' max='81' style='width:300px; height:20px; vertical-align: middle;'></progress>\n",
              "      [81/81 00:03]\n",
              "    </div>\n",
              "    "
            ]
          },
          "metadata": {}
        },
        {
          "output_type": "stream",
          "name": "stdout",
          "text": [
            "Metriche sul validation set:\n",
            "{'eval_loss': 0.3120126724243164, 'eval_model_preparation_time': 0.0035, 'eval_precision': 0.5585696670776819, 'eval_recall': 0.6248275862068966, 'eval_f1': 0.58984375, 'eval_accuracy': 0.9386746754504941, 'eval_runtime': 2.2696, 'eval_samples_per_second': 4547.036, 'eval_steps_per_second': 35.689}\n",
            "Valutazione sul test set...\n",
            "Metriche sul test set:\n",
            "{'eval_loss': 0.27877503633499146, 'eval_model_preparation_time': 0.0035, 'eval_precision': 0.4767080745341615, 'eval_recall': 0.566420664206642, 'eval_f1': 0.5177065767284992, 'eval_accuracy': 0.9414674361088211, 'eval_runtime': 2.0354, 'eval_samples_per_second': 4171.635, 'eval_steps_per_second': 32.917}\n"
          ]
        },
        {
          "output_type": "stream",
          "name": "stderr",
          "text": [
            "/usr/local/lib/python3.10/dist-packages/seqeval/metrics/v1.py:57: UndefinedMetricWarning: Recall and F-score are ill-defined and being set to 0.0 in labels with no true samples. Use `zero_division` parameter to control this behavior.\n",
            "  _warn_prf(average, modifier, msg_start, len(result))\n"
          ]
        }
      ]
    },
    {
      "cell_type": "code",
      "source": [
        "import pandas as pd\n",
        "\n",
        "# Raccolta delle metriche in un DataFrame\n",
        "metrics_data = {\n",
        "    \"Set\": [\"Validation\", \"Test\"],\n",
        "    \"Loss\": [validation_metrics['eval_loss'], test_metrics['eval_loss']],\n",
        "    \"Precision\": [validation_metrics.get('eval_precision', 0.0), test_metrics.get('eval_precision', 0.0)],\n",
        "    \"Recall\": [validation_metrics.get('eval_recall', 0.0), test_metrics.get('eval_recall', 0.0)],\n",
        "    \"F1\": [validation_metrics.get('eval_f1', 0.0), test_metrics.get('eval_f1', 0.0)],\n",
        "    \"Accuracy\": [validation_metrics.get('eval_accuracy', 0.0), test_metrics.get('eval_accuracy', 0.0)]\n",
        "}\n",
        "\n",
        "metrics_df = pd.DataFrame(metrics_data)\n",
        "\n",
        "print(\"\\nTabella riassuntiva delle metriche:\")\n",
        "print(metrics_df)\n"
      ],
      "metadata": {
        "id": "rcIzXRcXsOqJ",
        "outputId": "190d265f-3917-40bc-dd11-b7deea3af075",
        "colab": {
          "base_uri": "https://localhost:8080/"
        }
      },
      "execution_count": null,
      "outputs": [
        {
          "output_type": "stream",
          "name": "stdout",
          "text": [
            "\n",
            "Tabella riassuntiva delle metriche:\n",
            "          Set      Loss  Precision    Recall        F1  Accuracy\n",
            "0  Validation  0.312013   0.558570  0.624828  0.589844  0.938675\n",
            "1        Test  0.278775   0.476708  0.566421  0.517707  0.941467\n"
          ]
        }
      ]
    },
    {
      "cell_type": "markdown",
      "source": [
        "* **Validation Set:** The metrics indicate that the model generalizes reasonably well, with solid values of precision and recall, showing good adaptability.\n",
        "\n",
        "* **Test Set:** The results on the test set are similar to those obtained on the validation set, suggesting that the model maintains good consistency on the test data as well.\n",
        "\n",
        "Overall, the model showed decent results on both the validation and test data. Additionally, the contained Loss on both sets indicates that the error in the predictions has been kept under control.\n",
        "\n",
        "The relatively high accuracy and F1 score suggest that the model has reliably recognized named entities, with a relatively low risk of overfitting.\n",
        "\n",
        "The higher Recall compared to Precision indicates that the model has identified a good percentage of actual entities (with a high Recall), but with a higher number of false positives (thereby reducing precision) .\n",
        "\n",
        "The consistency between the metrics on the validation and test data is a positive sign, suggesting that the model has solid generalization capability without having memorized overly specific patterns from the training set.\n",
        "\n",
        "\n",
        "\n",
        "\n"
      ],
      "metadata": {
        "id": "6B83Vkao3g3T"
      }
    },
    {
      "cell_type": "markdown",
      "source": [
        "# Confusion Matrix\n",
        "We present the results of the fine-tuned model on the test set through the confusion matrix, which provides a detailed **view of the model's performance** across all classes. This visualization highlights how well the model distinguishes between different entities and helps identify potential areas of confusion among the labels."
      ],
      "metadata": {
        "id": "5Sbk090i3pR7"
      }
    },
    {
      "cell_type": "code",
      "source": [
        "from sklearn.metrics import confusion_matrix, ConfusionMatrixDisplay\n",
        "import matplotlib.pyplot as plt\n",
        "import numpy as np\n",
        "\n",
        "# Funzione per calcolare le predizioni e le etichette vere\n",
        "def get_predictions_and_labels(trainer, dataset):\n",
        "    # Ottieni predizioni dal modello\n",
        "    predictions, labels, _ = trainer.predict(dataset)\n",
        "\n",
        "    # Convertire le predizioni probabilistiche in etichette\n",
        "    predictions = np.argmax(predictions, axis=2)\n",
        "\n",
        "    # Filtra i token speciali (-100) dalle etichette\n",
        "    true_labels = [\n",
        "        [label for label in label_seq if label != -100]\n",
        "        for label_seq in labels\n",
        "    ]\n",
        "    pred_labels = [\n",
        "        [pred for pred, label in zip(pred_seq, label_seq) if label != -100]\n",
        "        for pred_seq, label_seq in zip(predictions, labels)\n",
        "    ]\n",
        "\n",
        "    # Appiattire le liste per calcolare la matrice di confusione\n",
        "    true_labels = [item for sublist in true_labels for item in sublist]\n",
        "    pred_labels = [item for sublist in pred_labels for item in sublist]\n",
        "\n",
        "    return true_labels, pred_labels\n",
        "\n",
        "# Etichette vere e predette dal test set\n",
        "true_labels, pred_labels = get_predictions_and_labels(trainer_fine_tuned, tokenized_datasets['test'])\n",
        "# Calcolare la matrice di confusione\n",
        "conf_matrix = confusion_matrix(true_labels, pred_labels, labels=list(tag2id.values()))\n",
        "\n",
        "# Mappare gli ID delle etichette ai nomi dei tag NER\n",
        "labels = [id2tag[id_] for id_ in tag2id.values()]\n",
        "# Visualizzare la matrice di confusione con celle più grandi\n",
        "plt.figure(figsize=(18, 15))  # Aumentare la dimensione della figura\n",
        "disp = ConfusionMatrixDisplay(confusion_matrix=conf_matrix, display_labels=labels)\n",
        "disp.plot(cmap='Blues', xticks_rotation=90)\n",
        "\n",
        "# Aggiungi uno spazio per evitare sovrapposizioni\n",
        "plt.subplots_adjust(left=0.1, right=0.9, top=0.9, bottom=0.1)\n",
        "\n",
        "# Aggiungi dimensione del testo per evitare sovrapposizioni\n",
        "for text in disp.figure_.axes[0].texts:  # Usa axes[0] per accedere all'asse\n",
        "    text.set_fontsize(5.5)  # Ridurre la dimensione del font per adattare i numeri\n",
        "\n",
        "plt.title(\"Confusion Matrix for Test Set\")\n",
        "plt.show()"
      ],
      "metadata": {
        "id": "rbi_qm7jsfF-",
        "outputId": "43718042-e5ef-4630-af84-cf5f7bd0d03d",
        "colab": {
          "base_uri": "https://localhost:8080/",
          "height": 794
        }
      },
      "execution_count": null,
      "outputs": [
        {
          "output_type": "display_data",
          "data": {
            "text/plain": [
              "<IPython.core.display.HTML object>"
            ],
            "text/html": []
          },
          "metadata": {}
        },
        {
          "output_type": "stream",
          "name": "stderr",
          "text": [
            "/usr/local/lib/python3.10/dist-packages/seqeval/metrics/v1.py:57: UndefinedMetricWarning: Recall and F-score are ill-defined and being set to 0.0 in labels with no true samples. Use `zero_division` parameter to control this behavior.\n",
            "  _warn_prf(average, modifier, msg_start, len(result))\n"
          ]
        },
        {
          "output_type": "display_data",
          "data": {
            "text/plain": [
              "<Figure size 1800x1500 with 0 Axes>"
            ]
          },
          "metadata": {}
        },
        {
          "output_type": "display_data",
          "data": {
            "text/plain": [
              "<Figure size 640x480 with 2 Axes>"
            ],
            "image/png": "[encoded data removed]"
          },
          "metadata": {}
        }
      ]
    },
    {
      "cell_type": "markdown",
      "source": [
        "# Predictions\n",
        "In this section, we test the model's NER tag predictions using the fine-tuned model. The fine-tuned model and tokenizer are loaded from the specified directory. The predict_ner function tokenizes a sentence, generates predictions from the model, and reconstructs the words with their corresponding NER labels, ignoring special tokens such as [CLS], [SEP], and [PAD]. Finally, we evaluate the model on new sentences to assess its ability to correctly identify and classify entities like Pathological_formation, Multi-tissue_structure, and others.\n",
        "\n",
        "We can say that model correctly identified entities, labeling relevant words and classifying non-relevant ones as O. It demonstrated good ability to distinguish between medical entities and common words, with solid performance and good generalization on unseen sentences.\n"
      ],
      "metadata": {
        "id": "wxvrw7Y6-jJm"
      }
    },
    {
      "cell_type": "code",
      "source": [
        "from transformers import AutoModelForTokenClassification, AutoTokenizer\n",
        "import torch\n",
        "\n",
        "# Specificare la directory dove sono salvati i file\n",
        "model_directory = \"/content/drive/MyDrive/Assignment/fine_tuned_model\"\n",
        "\n",
        "# Caricare il modello fine-tunato e il tokenizer\n",
        "model = AutoModelForTokenClassification.from_pretrained(model_directory)\n",
        "tokenizer = AutoTokenizer.from_pretrained(model_directory)\n",
        "\n",
        "# Funzione di predizione\n",
        "def predict_ner(sentence):\n",
        "    # Tokenizzare la frase\n",
        "    inputs = tokenizer.encode_plus(\n",
        "        sentence,\n",
        "        return_tensors='pt',             # Restituisce l'output come tensori PyTorch\n",
        "        is_split_into_words=False,       # Input è una frase completa\n",
        "        truncation=True,\n",
        "        max_length=128                   # Lunghezza max usata durante l'addestramento\n",
        "    )\n",
        "    input_ids = inputs['input_ids']\n",
        "\n",
        "    model.eval()  # Metti il modello in modalità valutazione per evitare modifiche ai pesi\n",
        "\n",
        "    # Ottenere le predizioni\n",
        "    with torch.no_grad():\n",
        "        outputs = model(**inputs)  # Ottieni i logits\n",
        "        predictions = torch.argmax(outputs.logits, dim=2)[0].numpy()  # Per ogni token seleziona la classe con la probabilità più alta\n",
        "\n",
        "    # Convertire input_ids in token\n",
        "    tokens = tokenizer.convert_ids_to_tokens(input_ids[0])\n",
        "\n",
        "    # Ricostruire le parole dai sub-token e assegnare le etichette\n",
        "    words = []\n",
        "    labels = []\n",
        "    for idx, (token, pred) in enumerate(zip(tokens, predictions)):\n",
        "        if token in [tokenizer.cls_token, tokenizer.sep_token, tokenizer.pad_token]:\n",
        "            continue\n",
        "        if token.startswith('##'):\n",
        "            words[-1] += token[2:]  # Combina sub-token\n",
        "        else:\n",
        "            words.append(token)\n",
        "            labels.append(id2tag[pred])  # Mappa l'indice della classe con il tag\n",
        "\n",
        "    # Stampare le parole e le relative etichette\n",
        "    print(\"\\nPredizione:\")\n",
        "    print(\"Parola\\tEtichetta\")\n",
        "    for word, label in zip(words, labels):\n",
        "        print(f\"{word}\\t{label}\")\n",
        "\n",
        "\n",
        "# Test della funzione di predizione\n",
        "print(\"\\nEsempio di predizione:\")\n",
        "test_sentence_1 = \"Aortic aneurysm was detected in the chest\"\n",
        "test_sentence_2 = \"The fracture in the femur requires surgery\"\n",
        "predict_ner(test_sentence_1)\n",
        "predict_ner(test_sentence_2)\n"
      ],
      "metadata": {
        "id": "3mYHYIgMs8Qb",
        "outputId": "bbd5b56a-6aa6-4e87-a1a7-5ee328c63602",
        "colab": {
          "base_uri": "https://localhost:8080/"
        }
      },
      "execution_count": null,
      "outputs": [
        {
          "output_type": "stream",
          "name": "stdout",
          "text": [
            "\n",
            "Esempio di predizione:\n",
            "\n",
            "Predizione:\n",
            "Parola\tEtichetta\n",
            "aortic\tI-Pathological_formation\n",
            "aneurysm\tB-Pathological_formation\n",
            "was\tO\n",
            "detected\tB-Pathological_formation\n",
            "in\tB-Pathological_formation\n",
            "the\tB-Pathological_formation\n",
            "chest\tB-Organism_subdivision\n",
            "\n",
            "Predizione:\n",
            "Parola\tEtichetta\n",
            "the\tO\n",
            "fracture\tO\n",
            "in\tB-Multi-tissue_structure\n",
            "the\tB-Multi-tissue_structure\n",
            "femur\tB-Multi-tissue_structure\n",
            "requires\tO\n",
            "surgery\tO\n"
          ]
        }
      ]
    },
    {
      "cell_type": "code",
      "source": [
        "\n",
        "from transformers import AutoModelForTokenClassification, AutoTokenizer\n",
        "\n",
        "# Percorso corretto\n",
        "save_directory = '/content/drive/MyDrive/saved_model'\n",
        "\n",
        "# Carica il modello e il tokenizer\n",
        "model = AutoModelForTokenClassification.from_pretrained(save_directory, local_files_only=True)\n",
        "tokenizer = AutoTokenizer.from_pretrained(save_directory, local_files_only=True)\n",
        "\n",
        "print(\"Modello e tokenizer caricati con successo!\")\n",
        "\n"
      ],
      "metadata": {
        "colab": {
          "base_uri": "https://localhost:8080/"
        },
        "id": "e75uHsG5ccYm",
        "outputId": "887f4277-f8ef-4323-c275-f4077421e0eb"
      },
      "execution_count": null,
      "outputs": [
        {
          "output_type": "stream",
          "name": "stdout",
          "text": [
            "Modello e tokenizer caricati con successo!\n"
          ]
        }
      ]
    },
    {
      "cell_type": "markdown",
      "source": [
        "# Conclusions\n",
        "The results show that BioBERT, based on Transformer architecture, outperforms the BiLSTM model, despite the higher accuracy achieved with the latter.\n",
        "Our dataset was highly imbalanced, which made it difficult to achieve good performance on the minority classes. During the training of BioBERT, we faced challenges such as addressing class imbalance using class weights and parameter tuning. However, BioBERT demonstrated a better ability to balance precision and recall compared to BiLSTM.\n",
        "\n",
        "* Although BiLSTM achieved higher accuracy, BioBERT significantly outperforms it in terms of precision and recall. BiLSTM has a recall of 0.52 and precision of 0.26, whereas BioBERT strikes a better balance between these metrics, effectively reducing false positives.\n",
        "\n",
        "* BioBERT showed superior recall, meaning it was better at identifying the majority of actual entities in the dataset, reducing false negatives.\n",
        "\n",
        "* BioBERT achieved a higher F1 score compared to BiLSTM, indicating a better balance between precision and recall. The F1 score is critical for imbalanced datasets like ours, where accuracy alone is not sufficient, as it can be skewed by the majority classes.\n",
        "\n",
        "**Possible Explanation for the Differences**\n",
        "* Self-Attention and Contextual Understanding:\n",
        "BioBERT leverages the self-attention mechanism, allowing it to effectively capture long-range dependencies between tokens, regardless of their distance in the sequence. This enables it to understand global context and model complex relationships, which is crucial for Named Entity Recognition, especially in long or complex sentences. BiLSTM, although bidirectional, has a more limited ability to handle long-range dependencies.\n",
        "\n",
        "* Pretraining:\n",
        "BioBERT is pre-trained on large biomedical corpora, acquiring domain-specific linguistic knowledge that enables it to recognize medical entities more effectively. On the other hand, BiLSTM, trained from scratch, must learn these relationships directly from the dataset.\n",
        "\n",
        "* Tokenization:\n",
        "BioBERT uses advanced tokenization, such as subword tokenization, which allows it to handle rare or unseen words more effectively. BiLSTM, with simpler tokenization, may struggle with rare or out-of-vocabulary terms.\n",
        "\n",
        "* Model Complexity:\n",
        "BioBERT has a higher capacity to model complex relationships due to its attention-based architecture, allowing it to handle more variables compared to BiLSTM, which, while simpler, has fewer parameters and less ability to learn intricate dependencies.\n",
        "\n",
        "* Error Propagation:\n",
        "Self-attention in BioBERT reduces error propagation by treating each token independently. In contrast, BiLSTM can accumulate errors, as each prediction depends on previous states, especially in long sequences."
      ],
      "metadata": {
        "id": "aEVBVXtqbgGK"
      }
    }
  ]
}